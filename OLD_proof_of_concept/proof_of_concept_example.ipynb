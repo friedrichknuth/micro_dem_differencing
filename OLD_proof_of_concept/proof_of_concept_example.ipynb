{
 "cells": [
  {
   "cell_type": "markdown",
   "metadata": {},
   "source": [
    "# Estimating sediment mass displacement  on a small scale using digital elevation model differencing\n",
    "## A Proof-Of-Concept Example\n",
    "\n",
    "### Objective\n",
    "Create a Python script that automates estimating sediment mass displacement on a small scale.\n",
    "\n",
    "### Datasets\n",
    "The two datasets used in this proof-of-concept exercise come from unmanned aerial vehicle (UAV) surveys carried out in Spring 2018 for CEWA 599: Advanced Surveying at the University of Washington (UW). Both datasets were collected on gravel paths near UW. For each dataset, two flights were carried out: (1) undisturbed and (2) disturbed. The undisturbed flight was over a 1-meter by 2-meter patch of gravel that was in its natural state. The disturbed flight was over that same 1-meter by 2-meter patch of gravel, only instead of being in its natural state, three 40-centimeter by 10-centimeter troughs were dug. At one of the sites (CUH), the troughs were approximately 0.5, 1.0, and 1.5 centimeters deep, and at the other site (RW), the troughs were approximately 3, 4, and 5 centimeters deep. \n",
    "\n",
    "The image and schematic below show the field setup:  \n",
    "\n",
    "<img src=\"./images/field_setup.png\">  \n",
    "<img src=\"./images/site_setup.png\">  \n",
    "\n",
    "### Basic workflow\n",
    "To estimate sediment mass displacement, the following workflow was used:\n",
    "1. Pre-process digital elevation models (DEMs) to ensure same extent, resolution, projection\n",
    "2. Difference the DEMs\n",
    "3. Set noise threshold/outlier threshold\n",
    "4. Mask differenced DEM so only valid data are shown\n",
    "5. Convert from elevation difference to volume difference\n",
    "6. Convert from volume to mass using approximate sediment density\n",
    "___\n",
    "First, we'll do some basic setup."
   ]
  },
  {
   "cell_type": "code",
   "execution_count": 1,
   "metadata": {},
   "outputs": [],
   "source": [
    "# Import packages\n",
    "import numpy as np\n",
    "import rasterio as rio\n",
    "from rasterio import plot, mask\n",
    "import matplotlib.pyplot as plt\n",
    "import matplotlib.animation as animation\n",
    "from IPython.display import HTML\n",
    "\n",
    "# Set parameter for animation\n",
    "plt.rcParams[\"animation.html\"] = \"html5\"\n",
    "\n",
    "# Import pretty print\n",
    "from pprint import pprint"
   ]
  },
  {
   "cell_type": "code",
   "execution_count": 2,
   "metadata": {},
   "outputs": [],
   "source": [
    "# Show plots in the notebook\n",
    "%matplotlib inline"
   ]
  },
  {
   "cell_type": "code",
   "execution_count": null,
   "metadata": {},
   "outputs": [],
   "source": [
    "# Define datasets\n",
    "CUH_before = './CUH_data/CUH_Before.tif'\n",
    "CUH_after = './CUH_data/CUH_After.tif'\n",
    "\n",
    "RW_before = './RW_data/RW_Before.tif'\n",
    "RW_after = './RW_data/RW_After.tif'"
   ]
  },
  {
   "cell_type": "markdown",
   "metadata": {},
   "source": [
    "We can open the datasets using the [rasterio](https://rasterio.readthedocs.io/en/stable/) package:"
   ]
  },
  {
   "cell_type": "code",
   "execution_count": null,
   "metadata": {},
   "outputs": [],
   "source": [
    "CUH_1 = rio.open(CUH_before)\n",
    "CUH_2 = rio.open(CUH_after)\n",
    "\n",
    "RW_1 = rio.open(RW_before)\n",
    "RW_2 = rio.open(RW_after)"
   ]
  },
  {
   "cell_type": "markdown",
   "metadata": {},
   "source": [
    "Let's look at the profiles for these datasets."
   ]
  },
  {
   "cell_type": "code",
   "execution_count": null,
   "metadata": {},
   "outputs": [],
   "source": [
    "pprint(CUH_1.profile)\n",
    "pprint(CUH_2.profile)"
   ]
  },
  {
   "cell_type": "code",
   "execution_count": null,
   "metadata": {},
   "outputs": [],
   "source": [
    "pprint(RW_1.profile)\n",
    "pprint(RW_2.profile)"
   ]
  },
  {
   "cell_type": "markdown",
   "metadata": {},
   "source": [
    "We can see that while the projections are the same, the resolutions and extents are not. To be able to difference the DEMs, we will need to ensure that they are the same projection, resolution, and extent.\n",
    "\n",
    "We'll load the DEMs as arrays and plot them so we can see this graphically."
   ]
  },
  {
   "cell_type": "code",
   "execution_count": null,
   "metadata": {},
   "outputs": [],
   "source": [
    "# Read in the DEMs\n",
    "CUH_1_np = CUH_1.read(1)\n",
    "CUH_2_np = CUH_2.read(1)\n",
    "\n",
    "RW_1_np = RW_1.read(1)\n",
    "RW_2_np = RW_2.read(1)\n",
    "\n",
    "# Mask nodata values\n",
    "CUH_1_mask = np.ma.masked_values(CUH_1_np, -10000.0)\n",
    "CUH_2_mask = np.ma.masked_values(CUH_2_np, -10000.0)\n",
    "\n",
    "RW_1_mask = np.ma.masked_values(RW_1_np, -3.402823e+38)\n",
    "RW_2_mask = np.ma.masked_values(RW_2_np, -3.4028230607370965e+38)"
   ]
  },
  {
   "cell_type": "code",
   "execution_count": null,
   "metadata": {},
   "outputs": [],
   "source": [
    "# Define the figure and plot as animation for clarity - CUH\n",
    "fig, ax = plt.subplots()\n",
    "ax.xaxis.tick_top()\n",
    "ax.xaxis.set_label_position('top') \n",
    "\n",
    "im1 = plt.imshow(CUH_1_mask)\n",
    "im2 = plt.imshow(CUH_2_mask)\n",
    "ims = [[im1], [im2]]\n",
    "\n",
    "plt.xlabel('Px', fontweight='bold')\n",
    "plt.ylabel('Px', fontweight='bold')\n",
    "plt.colorbar(label='Elevation (m)')\n",
    "plt.title('CUH', fontweight='bold')\n",
    "\n",
    "anim = animation.ArtistAnimation(fig, ims, interval=2000, repeat_delay=1000)\n",
    "plt.close()\n",
    "\n",
    "anim"
   ]
  },
  {
   "cell_type": "code",
   "execution_count": null,
   "metadata": {},
   "outputs": [],
   "source": [
    "# Define the figure and plot as animation for clarity - RW\n",
    "fig, ax = plt.subplots()\n",
    "ax.xaxis.tick_top()\n",
    "ax.xaxis.set_label_position('top') \n",
    "\n",
    "im1 = plt.imshow(RW_1_mask)\n",
    "im2 = plt.imshow(RW_2_mask)\n",
    "ims = [[im1], [im2]]\n",
    "\n",
    "plt.xlabel('Px', fontweight='bold')\n",
    "plt.ylabel('Px', fontweight='bold')\n",
    "plt.colorbar(label='Elevation (m)')\n",
    "plt.title('RW', fontweight='bold')\n",
    "\n",
    "anim = animation.ArtistAnimation(fig, ims, interval=2000, repeat_delay=1000)\n",
    "plt.close()\n",
    "\n",
    "anim"
   ]
  },
  {
   "cell_type": "markdown",
   "metadata": {},
   "source": [
    "We can see that the datasets cannot be differenced as they are currently.\n",
    "\n",
    "To ensure the same projection, resolution, and extent, we can use the [`gdalwarp`](https://www.gdal.org/gdalwarp.html) command line utility. Below you'll see that instead of defining a normal rectangular extent using (right, bottom, left, top), I'm clipping the datasets to pre-defined shapefiles.\n",
    "\n",
    "*_**Note:**_ I'm using the single `gdalwarp` command line utility here because I have only four rasters. If I had, say, 100 rasters, I would be much better off creating a shell script or using a `gdal` Python API.*"
   ]
  },
  {
   "cell_type": "code",
   "execution_count": null,
   "metadata": {},
   "outputs": [],
   "source": [
    "!gdalwarp -s_srs EPSG:32610 -t_srs EPSG:32610 \\\n",
    "        -of GTiff -cutline ./CUH_data/CUH_crop.shp -crop_to_cutline \\\n",
    "        -tr 0.00177 0.00177 -r cubic -overwrite \\\n",
    "        ./CUH_data/CUH_Before.tif ./CUH_data/CUH_before_proj.tif"
   ]
  },
  {
   "cell_type": "code",
   "execution_count": null,
   "metadata": {},
   "outputs": [],
   "source": [
    "!gdalwarp -s_srs EPSG:32610 -t_srs EPSG:32610 \\\n",
    "        -of GTiff -cutline ./CUH_data/CUH_crop.shp -crop_to_cutline \\\n",
    "        -tr 0.00177 0.00177 -r cubic -overwrite \\\n",
    "        ./CUH_data/CUH_After.tif ./CUH_data/CUH_after_proj.tif"
   ]
  },
  {
   "cell_type": "code",
   "execution_count": null,
   "metadata": {},
   "outputs": [],
   "source": [
    "!gdalwarp -s_srs EPSG:32610 -t_srs EPSG:32610 \\\n",
    "        -of GTiff -cutline ./RW_data/RW_crop.shp -crop_to_cutline \\\n",
    "        -dstnodata -10000 \\\n",
    "        -tr 0.00167 0.00167  -r cubic -overwrite \\\n",
    "        ./RW_data/RW_Before.tif ./RW_data/RW_before_proj.tif"
   ]
  },
  {
   "cell_type": "code",
   "execution_count": null,
   "metadata": {},
   "outputs": [],
   "source": [
    "!gdalwarp -s_srs EPSG:32610 -t_srs EPSG:32610 \\\n",
    "        -of GTiff -cutline ./RW_data/RW_crop.shp -crop_to_cutline \\\n",
    "        -dstnodata -10000 \\\n",
    "        -tr 0.00167 0.00167 -r cubic -overwrite \\\n",
    "        ./RW_data/RW_After.tif ./RW_data/RW_after_proj.tif"
   ]
  },
  {
   "cell_type": "markdown",
   "metadata": {},
   "source": [
    "Now that we have DEMs that are the same projection, extent, and resolution, let's look at them."
   ]
  },
  {
   "cell_type": "code",
   "execution_count": null,
   "metadata": {
    "scrolled": true
   },
   "outputs": [],
   "source": [
    "# Read in each DEM for CUH, look at the profile, load the DEMs as arrays, and mask nodata values - CUH\n",
    "CUH_1_proj = rio.open('./CUH_data/CUH_before_proj.tif')\n",
    "pprint(CUH_1_proj.profile)\n",
    "CUH_1_proj_read = CUH_1_proj.read(1)\n",
    "CUH_1_proj_mask = np.ma.masked_values(CUH_1_proj_read, -10000.)\n",
    "CUH_1_proj.close()\n",
    "\n",
    "CUH_2_proj = rio.open('./CUH_data/CUH_after_proj.tif')\n",
    "pprint(CUH_2_proj.profile)\n",
    "CUH_2_proj_read = CUH_2_proj.read(1)\n",
    "CUH_2_proj_mask = np.ma.masked_values(CUH_2_proj_read, -10000.)\n",
    "CUH_2_proj.close()"
   ]
  },
  {
   "cell_type": "code",
   "execution_count": null,
   "metadata": {},
   "outputs": [],
   "source": [
    "# Define plotting extent, then plot as animation for clarity - CUH\n",
    "CUH_1_extent = rio.plot.plotting_extent(CUH_1_proj)\n",
    "CUH_2_extent = rio.plot.plotting_extent(CUH_2_proj)\n",
    "\n",
    "fig, ax = plt.subplots()\n",
    "im1 = plt.imshow(CUH_1_proj_mask, extent=CUH_1_extent)\n",
    "im2 = plt.imshow(CUH_2_proj_mask, extent=CUH_2_extent)\n",
    "\n",
    "ax.set_xlabel('X (m)', fontweight='bold')\n",
    "ax.set_ylabel('Y (m)', fontweight='bold')\n",
    "plt.colorbar(label='Elevation (m)')\n",
    "plt.title('CUH', fontweight='bold')\n",
    "\n",
    "ims = [[im1], [im2]]\n",
    "\n",
    "anim = animation.ArtistAnimation(fig, ims, interval=2000, repeat_delay=1000)\n",
    "plt.close()\n",
    "\n",
    "anim"
   ]
  },
  {
   "cell_type": "code",
   "execution_count": null,
   "metadata": {},
   "outputs": [],
   "source": [
    "# Read in each DEM for CUH, look at the profile, load the DEMs as arrays, and mask nodata values - RW\n",
    "RW_1_proj = rio.open('./RW_data/RW_before_proj.tif')\n",
    "pprint(RW_1_proj.profile)\n",
    "RW_1_proj_read = RW_1_proj.read(1)\n",
    "RW_1_proj_mask = np.ma.masked_values(RW_1_proj_read, -10000.)\n",
    "RW_1_proj.close()\n",
    "\n",
    "RW_2_proj = rio.open('./RW_data/RW_after_proj.tif')\n",
    "pprint(RW_2_proj.profile)\n",
    "RW_2_proj_read = RW_2_proj.read(1)\n",
    "RW_2_proj_mask = np.ma.masked_values(RW_2_proj_read, -10000.)\n",
    "RW_2_proj.close()"
   ]
  },
  {
   "cell_type": "code",
   "execution_count": null,
   "metadata": {},
   "outputs": [],
   "source": [
    "# Define plotting extent, then plot as animation for clarity - RW\n",
    "RW_1_extent = rio.plot.plotting_extent(RW_1_proj)\n",
    "RW_2_extent = rio.plot.plotting_extent(RW_2_proj)\n",
    "\n",
    "fig, ax = plt.subplots()\n",
    "im1 = plt.imshow(RW_1_proj_mask, extent=RW_1_extent)\n",
    "im2 = plt.imshow(RW_2_proj_mask, extent=RW_2_extent)\n",
    "\n",
    "ax.set_xlabel('X (m)', fontweight='bold')\n",
    "ax.set_ylabel('Y (m)', fontweight='bold')\n",
    "plt.colorbar(label='Elevation (m)')\n",
    "plt.title('RW', fontweight='bold')\n",
    "\n",
    "ims = [[im1], [im2]]\n",
    "\n",
    "anim = animation.ArtistAnimation(fig, ims, interval=2000, repeat_delay=1000)\n",
    "plt.close()\n",
    "\n",
    "anim"
   ]
  },
  {
   "cell_type": "markdown",
   "metadata": {},
   "source": [
    "Excellent! Our DEMs for each site now match. Let's difference them and plot the output:"
   ]
  },
  {
   "cell_type": "code",
   "execution_count": null,
   "metadata": {},
   "outputs": [],
   "source": [
    "difference_CUH = (CUH_1_proj_mask-CUH_2_proj_mask)*100\n",
    "\n",
    "fig, ax = plt.subplots()\n",
    "plt.imshow(difference_CUH, cmap = 'RdBu', vmin=-3, vmax = 3, extent=CUH_1_extent)\n",
    "plt.colorbar(label='Elevation Difference (cm)', extend='both')\n",
    "\n",
    "ax.set_xlabel('X (m)', fontweight='bold')\n",
    "ax.set_ylabel('Y (m)', fontweight='bold')\n",
    "plt.title('CUH', fontweight='bold')\n",
    "plt.show()"
   ]
  },
  {
   "cell_type": "code",
   "execution_count": null,
   "metadata": {},
   "outputs": [],
   "source": [
    "difference_RW = (RW_1_proj_mask-RW_2_proj_mask)*100\n",
    "\n",
    "fig, ax = plt.subplots()\n",
    "plt.imshow(difference_RW, cmap = 'RdBu', vmin=-3, vmax = 3, extent=RW_1_extent)\n",
    "plt.colorbar(label='Elevation Difference (cm)', extend='both')\n",
    "\n",
    "ax.set_xlabel('X (m)', fontweight='bold')\n",
    "ax.set_ylabel('Y (m)', fontweight='bold')\n",
    "plt.title('RW', fontweight='bold')\n",
    "plt.show()"
   ]
  },
  {
   "cell_type": "markdown",
   "metadata": {},
   "source": [
    "Remember that we're trying to get the sediment mass that was displaced in the three human-dug troughs. Looking at the difference map, we see that we have a little bit of noise as well as an outlier or two. We can deal with both of these by assigning a noise threshold and an outlier threshold.  \n",
    "Currently, the noise thresholds and outlier thresholds are being set as:\n",
    "\n",
    "$ noise = |\\sigma_{diff} + \\bar{x}_{diff}|$  \n",
    "$ outlier = |6*\\sigma_{diff} + \\bar{x}_{diff}|$  \n",
    "\n",
    "where $\\sigma_{diff}$ is the standard deviation of the differenced DEM values and $\\bar{x}_{diff}$ is the mean of differenced DEM values.\n",
    "\n",
    "*_**Note:**_ The thresholds for noise and for outliers were defined visually/using trial and error and are therefore not perfect. More sophisticated methods of determining these thresholds (e.g., spatial autocorrelation) will be used in future iterations of this code.*\n",
    "\n",
    "After calculating the thresholds, we can mask the DEMs such that we have only the data that we'll use to calculate the sediment mass that was displaced and plot the data."
   ]
  },
  {
   "cell_type": "code",
   "execution_count": null,
   "metadata": {},
   "outputs": [],
   "source": [
    "# Calculate std and mean - CUH\n",
    "std_diff_CUH = difference_CUH.std()\n",
    "mean_diff_CUH = difference_CUH.mean()\n",
    "\n",
    "# Calculate thresholds\n",
    "noise_threshold_CUH = np.abs(std_diff_CUH + mean_diff_CUH)\n",
    "outlier_threshold_CUH = np.abs(6*std_diff_CUH + mean_diff_CUH)\n",
    "\n",
    "# Create threshold mask\n",
    "threshold_mask_CUH = np.ma.masked_outside(difference_CUH, noise_threshold_CUH, outlier_threshold_CUH)"
   ]
  },
  {
   "cell_type": "code",
   "execution_count": null,
   "metadata": {
    "scrolled": true
   },
   "outputs": [],
   "source": [
    "# Plot the masked array - CUH\n",
    "fig, ax = plt.subplots()\n",
    "\n",
    "plt.imshow(threshold_mask_CUH, cmap='Blues', vmin=0, vmax = 3, extent=CUH_1_extent)\n",
    "plt.colorbar(label='Elevation Difference (cm)')\n",
    "\n",
    "ax.set_xlabel('X (m)', fontweight='bold')\n",
    "ax.set_ylabel('Y (m)', fontweight='bold')\n",
    "plt.title('CUH', fontweight='bold')\n",
    "plt.show()"
   ]
  },
  {
   "cell_type": "code",
   "execution_count": null,
   "metadata": {},
   "outputs": [],
   "source": [
    "# Calculate std and mean - RW\n",
    "std_diff_RW = difference_RW.std()\n",
    "mean_diff_RW = difference_RW.mean()\n",
    "\n",
    "# Calculate thresholds\n",
    "noise_threshold_RW = np.abs(std_diff_RW + mean_diff_RW)\n",
    "outlier_threshold_RW = np.abs(7*std_diff_RW + mean_diff_RW)\n",
    "\n",
    "# Create threshold mask\n",
    "threshold_mask_RW = np.ma.masked_outside(difference_RW, noise_threshold_RW, outlier_threshold_RW)"
   ]
  },
  {
   "cell_type": "code",
   "execution_count": null,
   "metadata": {},
   "outputs": [],
   "source": [
    "# Plot the masked array - RW\n",
    "fig, ax = plt.subplots()\n",
    "\n",
    "plt.imshow(threshold_mask_RW, cmap='Greens', vmin=0, vmax = 3.5, extent=RW_1_extent)\n",
    "plt.colorbar(label='Elevation Difference (cm)')\n",
    "\n",
    "ax.set_xlabel('X (m)', fontweight='bold')\n",
    "ax.set_ylabel('Y (m)', fontweight='bold')\n",
    "plt.title('RW', fontweight='bold')\n",
    "plt.show()"
   ]
  },
  {
   "cell_type": "markdown",
   "metadata": {},
   "source": [
    "As seen above, we capture almost all of the three troughs, plus a little extra. Future iterations of the code will (hopefully) capture only the significant data, but for now, we can convert these data to volumes (in cm$^3$) and plot the output."
   ]
  },
  {
   "cell_type": "code",
   "execution_count": null,
   "metadata": {},
   "outputs": [],
   "source": [
    "# Get cell width and cell height from the raster - CUH\n",
    "cell_width_CUH, cell_height_CUH = CUH_1_proj.res\n",
    "\n",
    "# Volume is a simple elevation difference*width*height calculation\n",
    "volume_CUH = threshold_mask_CUH * cell_width_CUH * cell_height_CUH * 10000 #extra 10000 factor to get cm^3"
   ]
  },
  {
   "cell_type": "code",
   "execution_count": null,
   "metadata": {},
   "outputs": [],
   "source": [
    "fig, ax = plt.subplots()\n",
    "\n",
    "plt.imshow(volume_CUH, cmap='Blues', extent=CUH_1_extent, vmin=0, vmax = 0.06)\n",
    "plt.colorbar(label='Volume Change (cm$^3$)')\n",
    "\n",
    "ax.set_xlabel('X (m)', fontweight='bold')\n",
    "ax.set_ylabel('Y (m)', fontweight='bold')\n",
    "plt.title('CUH', fontweight='bold')\n",
    "plt.show()"
   ]
  },
  {
   "cell_type": "code",
   "execution_count": null,
   "metadata": {},
   "outputs": [],
   "source": [
    "# Get cell width and cell height from the raster - RW\n",
    "cell_width_RW, cell_height_RW = RW_1_proj.res\n",
    "\n",
    "# Volume is a simple elevation difference*width*height calculation\n",
    "volume_RW = threshold_mask_RW * cell_width_RW * cell_height_RW * 10000 #extra 10000 factor to get cm^3"
   ]
  },
  {
   "cell_type": "code",
   "execution_count": null,
   "metadata": {},
   "outputs": [],
   "source": [
    "fig, ax = plt.subplots()\n",
    "\n",
    "plt.imshow(volume_RW, cmap='Greens', extent=RW_1_extent, vmin=0, vmax=0.1)\n",
    "plt.colorbar(label='Volume Change (cm$^3$)')\n",
    "\n",
    "ax.set_xlabel('X (m)', fontweight='bold')\n",
    "ax.set_ylabel('Y (m)', fontweight='bold')\n",
    "plt.title('RW', fontweight='bold')\n",
    "plt.show()"
   ]
  },
  {
   "cell_type": "markdown",
   "metadata": {},
   "source": [
    "Now, we can convert the approximate volume of displaced sediment to the approximate mass of displaced sediment using $mass =  density * volume$. We'll use a (very) general approximate sediment density for gravel of $1.52 \\frac{g}{cm^3}$. Then, we'll sum the mass values from each cell to get an estimate for the mass of sediment displaced.\n",
    "\n",
    "*_**Note:**_ The density will be refined using sediment data from field experiments in future iterations of this code.*"
   ]
  },
  {
   "cell_type": "code",
   "execution_count": null,
   "metadata": {},
   "outputs": [],
   "source": [
    "mass_CUH = volume_CUH*1.52\n",
    "sum_mass_CUH = np.sum(mass_CUH)"
   ]
  },
  {
   "cell_type": "code",
   "execution_count": null,
   "metadata": {},
   "outputs": [],
   "source": [
    "mass_RW = volume_RW*1.52\n",
    "sum_mass_RW = np.sum(mass_RW)"
   ]
  },
  {
   "cell_type": "code",
   "execution_count": null,
   "metadata": {},
   "outputs": [],
   "source": [
    "print('The mass of sediment displaced at CUH was %0.2f kilograms.' % (sum_mass_CUH/1000))\n",
    "print('The mass of sediment displaced at RW was %0.2f kilograms.' % (sum_mass_RW/1000))"
   ]
  },
  {
   "cell_type": "markdown",
   "metadata": {},
   "source": [
    "These values aren't particularly realistic, but this is to be expected because:\n",
    "1.  The sediment density used in this case likely does not accurately represent the density of what was seen at these sites.\n",
    "2. Not all outliers were fully removed, causing an overestimation.\n",
    "\n",
    "Both of these issues will be addressed in future iterations of this notebook."
   ]
  }
 ],
 "metadata": {
  "kernelspec": {
   "display_name": "Python 3",
   "language": "python",
   "name": "python3"
  },
  "language_info": {
   "codemirror_mode": {
    "name": "ipython",
    "version": 3
   },
   "file_extension": ".py",
   "mimetype": "text/x-python",
   "name": "python",
   "nbconvert_exporter": "python",
   "pygments_lexer": "ipython3",
   "version": "3.7.10"
  }
 },
 "nbformat": 4,
 "nbformat_minor": 4
}
