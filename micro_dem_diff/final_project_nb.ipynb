{
 "cells": [
  {
   "cell_type": "markdown",
   "id": "0a3ca4cd-ab63-47bf-b97b-c12ce627dbdc",
   "metadata": {},
   "source": [
    "# Using high-resolution DSMs to gain insight on forest service road sediment transport dynamics\n",
    "\n",
    "**Lauren Wittkopf**  \n",
    "\n",
    "**CEE 467, Geospatial Data Analysis, Winter 2023**\n"
   ]
  },
  {
   "cell_type": "markdown",
   "id": "4a4eb9e7-6abe-465b-9b97-f3f4247bb9c0",
   "metadata": {},
   "source": [
    "\n",
    "## Introduction\n",
    "\n",
    "The transportation of sediment by forest service roads can have significant impacts on hydrology and sediment transport processes in forested ecosystems. Understanding these processes is critical for sustainable management of forest resources. This project is a part of Amanda Alvis' research investigating the sediment transport dynamics of forest service roads and contributes by using high-resolution digital surface models (DSMs) to parameterize a larger sediment transport model.\n",
    "\n",
    "## Objectives\n",
    "\n",
    "The objectives of Amanda's project are:\n",
    "\n",
    "- To identify areas of high sediment accumulation and erosion hotspots.\n",
    "- To calibrate her model outputs with field measurements.\n",
    "- To investigate the impact of road design and maintenance practices on sediment transport.\n",
    "\n",
    "The objectives of my project are: \n",
    "\n",
    "- To make a data analysis product that takes an input of a GeoTiff DSM in an arbitrary coordinate system and produces figures that aid in sediment transport analysis \n",
    "\n",
    "## Methods\n",
    "\n",
    "I have used the following methods to achieve our objectives:\n",
    "\n",
    "### DSM Creation and Reprojection\n",
    "\n",
    "I have used Pix4D to create high-resolution DSMs of the study area that are in an arbitrary coordinate system. This allows me to export a GeoTiff after 3 steps of processing. The arbitrary CRS must be reprojected using `gdalwarp` into EPSG:32610. This process will be repeated for multiple flight dates to generate a time series of DSMs.\n",
    "\n",
    "### Adding Overviews and Clipping\n",
    "\n",
    "I added gaussian overviews to these reprojected DEMs using `gdaladdo` and then opened them using rioxarray to produce xArray DataSets which could then be clipped to a QGIS-drawn polygon (in EPSG:32610) using `xds.rio.clip(mask_gdf.geometry)` where xds is the xArray DataSet and mask_gdf is the shapefile loaded using `gpd.read_file()`. I also extracted the extent for plotting all the data from the mask_gdf using the `mask_gdf.bounds` attribute.\n",
    "\n"
   ]
  },
  {
   "cell_type": "code",
   "execution_count": null,
   "id": "2d51e9c0-c3df-4ec0-80fc-780b269b1466",
   "metadata": {},
   "outputs": [],
   "source": []
  }
 ],
 "metadata": {
  "kernelspec": {
   "display_name": "Python 3 (ipykernel)",
   "language": "python",
   "name": "python3"
  },
  "language_info": {
   "codemirror_mode": {
    "name": "ipython",
    "version": 3
   },
   "file_extension": ".py",
   "mimetype": "text/x-python",
   "name": "python",
   "nbconvert_exporter": "python",
   "pygments_lexer": "ipython3",
   "version": "3.10.9"
  }
 },
 "nbformat": 4,
 "nbformat_minor": 5
}
