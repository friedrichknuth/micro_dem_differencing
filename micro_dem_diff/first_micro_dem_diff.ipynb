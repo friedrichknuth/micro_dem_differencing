{
 "cells": [
  {
   "cell_type": "markdown",
   "metadata": {
    "tags": []
   },
   "source": [
    "# Using digital elevation model differencing to estimate micro-topographical changes to a road\n",
    "## Working with project data\n",
    "\n",
    "### Objective\n",
    "Difference digital elevation models from two sites at different slices in time to observe the development of wheel ruts and other micro-topographical features\n",
    "\n",
    "### Datasets\n",
    "The datasets used here are from unmanned aerial vehicle (UAV) surveys carried out from 11/09/2020 to 06/01/2022 on two 80-meter segments of gravel forest road in western Washington state. These datasets were collected at least every four months, if not more frequently.\n",
    "___\n",
    "First, we'll do some basic setup."
   ]
  },
  {
   "cell_type": "code",
   "execution_count": 2,
   "metadata": {},
   "outputs": [],
   "source": [
    "# Import packages\n",
    "import numpy as np\n",
    "import rasterio as rio\n",
    "from rasterio import plot, mask\n",
    "import matplotlib.pyplot as plt\n",
    "import matplotlib.animation as animation\n",
    "from IPython.display import HTML\n",
    "\n",
    "\n",
    "# Set parameter for animation\n",
    "plt.rcParams[\"animation.html\"] = \"html5\"\n",
    "\n",
    "# Import pretty print\n",
    "from pprint import pprint"
   ]
  },
  {
   "cell_type": "code",
   "execution_count": 3,
   "metadata": {},
   "outputs": [],
   "source": [
    "# Show plots in the notebook\n",
    "%matplotlib inline"
   ]
  },
  {
   "cell_type": "code",
   "execution_count": 16,
   "metadata": {},
   "outputs": [],
   "source": [
    "# Define datasets\n",
    "KID13_20201109 = './KID13_data/KID13_20201109_proj.tif'\n",
    "KID13_20210208 = './KID13_data/KID13_20210208_proj.tif'"
   ]
  },
  {
   "cell_type": "markdown",
   "metadata": {},
   "source": [
    "We can open the datasets using the [rasterio](https://rasterio.readthedocs.io/en/stable/) package:"
   ]
  },
  {
   "cell_type": "code",
   "execution_count": 17,
   "metadata": {},
   "outputs": [],
   "source": [
    "KID13_nov = rio.open(KID13_20201109)\n",
    "KID13_feb = rio.open(KID13_20210208)"
   ]
  },
  {
   "cell_type": "markdown",
   "metadata": {},
   "source": [
    "Let's look at the profiles for these datasets."
   ]
  },
  {
   "cell_type": "code",
   "execution_count": 18,
   "metadata": {},
   "outputs": [
    {
     "name": "stdout",
     "output_type": "stream",
     "text": [
      "{'count': 1,\n",
      " 'crs': CRS.from_epsg(32610),\n",
      " 'driver': 'GTiff',\n",
      " 'dtype': 'float32',\n",
      " 'height': 15351,\n",
      " 'interleave': 'band',\n",
      " 'nodata': -10000.0,\n",
      " 'tiled': False,\n",
      " 'transform': Affine(0.006419992325402788, 0.0, 4987.076,\n",
      "       0.0, -0.006419998697153266, 5104.8759),\n",
      " 'width': 2606}\n",
      "{'count': 1,\n",
      " 'crs': CRS.from_epsg(32610),\n",
      " 'driver': 'GTiff',\n",
      " 'dtype': 'float32',\n",
      " 'height': 15016,\n",
      " 'interleave': 'band',\n",
      " 'nodata': -10000.0,\n",
      " 'tiled': False,\n",
      " 'transform': Affine(0.006339975399753869, 0.0, 4984.9834,\n",
      "       0.0, -0.006339997336174742, 5103.2018),\n",
      " 'width': 3252}\n"
     ]
    }
   ],
   "source": [
    "pprint(KID13_nov.profile)\n",
    "pprint(KID13_feb.profile)"
   ]
  },
  {
   "cell_type": "markdown",
   "metadata": {},
   "source": [
    "We can see that while the projections are the same, the resolutions and extents are not. To be able to difference the DEMs, we will need to ensure that they are the same projection, resolution, and extent.\n",
    "\n",
    "We'll load the DEMs as arrays and plot them so we can see this graphically."
   ]
  },
  {
   "cell_type": "code",
   "execution_count": 19,
   "metadata": {},
   "outputs": [],
   "source": [
    "# Read in the DEMs\n",
    "KID13_nov_np = KID13_nov.read(1)\n",
    "KID13_feb_np = KID13_feb.read(1)\n",
    "\n",
    "# Mask nodata values\n",
    "KID13_nov_mask = np.ma.masked_values(KID13_nov_np, -10000.0)\n",
    "KID13_feb_mask = np.ma.masked_values(KID13_feb_np, -10000.0)"
   ]
  },
  {
   "cell_type": "code",
   "execution_count": 20,
   "metadata": {},
   "outputs": [
    {
     "data": {
      "text/html": [
       "<video width=\"432\" height=\"288\" controls autoplay loop>\n",
       "  <source type=\"video/mp4\" src=\"data:video/mp4;base64,AAAAHGZ0eXBNNFYgAAACAGlzb21pc28yYXZjMQAAAAhmcmVlAAAm5G1kYXQAAAKfBgX//5vcRem9\n",
       "5tlIt5Ys2CDZI+7veDI2NCAtIGNvcmUgMTYwIC0gSC4yNjQvTVBFRy00IEFWQyBjb2RlYyAtIENv\n",
       "cHlsZWZ0IDIwMDMtMjAyMCAtIGh0dHA6Ly93d3cudmlkZW9sYW4ub3JnL3gyNjQuaHRtbCAtIG9w\n",
       "dGlvbnM6IGNhYmFjPTEgcmVmPTMgZGVibG9jaz0xOjA6MCBhbmFseXNlPTB4MzoweDExMyBtZT1o\n",
       "ZXggc3VibWU9NyBwc3k9MSBwc3lfcmQ9MS4wMDowLjAwIG1peGVkX3JlZj0xIG1lX3JhbmdlPTE2\n",
       "IGNocm9tYV9tZT0xIHRyZWxsaXM9MSA4eDhkY3Q9MSBjcW09MCBkZWFkem9uZT0yMSwxMSBmYXN0\n",
       "X3Bza2lwPTEgY2hyb21hX3FwX29mZnNldD0tMiB0aHJlYWRzPTkgbG9va2FoZWFkX3RocmVhZHM9\n",
       "MSBzbGljZWRfdGhyZWFkcz0wIG5yPTAgZGVjaW1hdGU9MSBpbnRlcmxhY2VkPTAgYmx1cmF5X2Nv\n",
       "bXBhdD0wIGNvbnN0cmFpbmVkX2ludHJhPTAgYmZyYW1lcz0zIGJfcHlyYW1pZD0yIGJfYWRhcHQ9\n",
       "MSBiX2JpYXM9MCBkaXJlY3Q9MSB3ZWlnaHRiPTEgb3Blbl9nb3A9MCB3ZWlnaHRwPTIga2V5aW50\n",
       "PTI1MCBrZXlpbnRfbWluPTEgc2NlbmVjdXQ9NDAgaW50cmFfcmVmcmVzaD0wIHJjX2xvb2thaGVh\n",
       "ZD00MCByYz1jcmYgbWJ0cmVlPTEgY3JmPTIzLjAgcWNvbXA9MC42MCBxcG1pbj0wIHFwbWF4PTY5\n",
       "IHFwc3RlcD00IGlwX3JhdGlvPTEuNDAgYXE9MToxLjAwAIAAABrnZYiEABb//vfTP8yy6/c5teOo\n",
       "96KeJl9DdSUBm5bE7TqC53eHx9Ca1QAbXY5f+MAiZu9YZ30uXMO0ROkqhww6TB/LrL2t0GEdTNA+\n",
       "cCC3a1qQeo3YFFpTCiSO5ey76+Rf59UiSFHvUlcO4/vGQCHlsLeZvCLzbOCgYNDUa0/pyl0zONrG\n",
       "XPrAUffjlo6112hoHzfRFP46//4w5ucSzvB+5yEoSADSEDJFFeF3Gj+rv6TM9bwOVq+w01sJJc0A\n",
       "1f2EW2BxqpHGI9+tibDh0byELOflEbQ9PA3H+Jf9qfJ3Kvg++tp7yds1MWUxdnf8le/sdYzNHGcP\n",
       "FCzdVQ0eZxhfCL+smDVTWcEdCT2ZYUPVPR6en/I4+z1M5IOnLG8QOZuZRFNBrXS9nhi4OnCIXjHd\n",
       "LGK4rJkkb0zKkYZrET1AYMob2rqNa4l2fAxwg6syPF+QSJ0D4PRmENHPjEa2RK68Ve1B55D6XVke\n",
       "ysL+Xk5zS3SPF5pu+2f5rbHBCUo9vrSUSXNg3HXgQzTFBTLMK3AZ/xR9FQJIWsoacJjDcLoFiLYW\n",
       "1MHRgomyT2hsikseN0VLEPKT/8/ieAVM/WhalkHS7chsz7VYvkPFkXgX67SUZL9uNJE384enGC5x\n",
       "lcFONtQ1wk421pN5lnaMuqwTLGrNn8GQCiJSDHp3GyGagF3kDE6frMgp+8vhBz9hhPNZIy4/dncB\n",
       "EWlLQkapNKZR8eAAAhLcRV+eS4Eli696kCQ7UTgbQ82imb95uwKzYNxee9uY8u1CwqfDMRyLtxGl\n",
       "F5YyOyQGXqPT4QyhGS+AxAdN7XaOKQBVVvqTDK7+pb5YvK7qU+eE8ELmon8PGzrxKG5koCNSO587\n",
       "1VXg/JeYCupZp7IhX96YGF6IJi7gtOuQBadMOW/7/eQAZUs06N7ns8Kkxh+Vf+jNSgzummcU1pAS\n",
       "wC89HTW9hnyL8T9yYkQ2b1SAu30p797EZ4pLQWG2oXklYZJj3LzqYoECwcveeKd+tz6nowXu7IRo\n",
       "h8TE1FgleNLg6TFFBPpk5d3NzlBXDiUuIl3BHUOntl38RTg/7oFCMumndo6+hEY8fAg6ZFGbz3gI\n",
       "2DPWV82Wd/mVPi9UoFpKgb8wbSXpjw/QGGW3AaTwx2upqZkJLW4bJz19YYgcW1fQI2C9cHE+tKkn\n",
       "BwHI1HJkdU0XFMdNNeM68e9EDTV40bIwp/d8kXdsviNbsQLKqvp1VFq4HKASPf5MiNZNBPd/mtFx\n",
       "PLw6pDADV23bK5KRakyw5yuogWiPk02VQ63B095omQ/Wwtk6XLipHOsW0mH5v7I83mbzI2SgZ7gW\n",
       "fseqTUChoakP/U/tE5AhEmPiN76lwEUk4dzstbt7MJaObBKy5iALi8d0AMkES8UYCmW3sbp87iqx\n",
       "yxDYtHxXFKYwA/rgT0LooB6FzGkXHcbqqIkbyoEPdVcdY6GbsnIOarFkoEtu+0MagVZQAZeZpgHn\n",
       "K7wrJIDvAHskM7JcKb1ktL86HQCMqeXS//72dSOA0xDK+FSYnm1TPAwouoKg/rWopHAnWbv6jc0X\n",
       "8luej1v7MVBTiNquQyffwfSkTyKlSxKY2vZpj8yXjVnHH7KrfOj7Uc/gq2mfmP44vc4MVo7ebtFO\n",
       "KI4nr6/5PE2/JZzkIF0CgDMfabZ9DcQVDPhnjdaAZwTuOdQAbvu16GfJFGBl++CuCwWSu+Q0E3K9\n",
       "AmNgoAPJ1UOLjlhQd+GHUK+jpYBHgyN6ERWB4rIXhTsfqc2zLckMTIt54sQXtFCHQtsA6JZDyq2P\n",
       "Veg4BJ9eqsj3lhxaDGqg063vIeVtmleCre0M7rWeKtMucf2yVFX/aBtjqtS1byY1Z2KqjUWQvXVJ\n",
       "ZvFCsRqyaMMDrB4nVeaqk2bt4cJClLaQUuSdxOvPQF0kawLjsUWYEAEdxn37NRLeovNxN45hHiGt\n",
       "8RYjLRHTjC2Fyqud3GKTirhHn5Y9yENFQAbAE54hBgGaGLcBb6rwUux2mOKXV2VzBta+Lsu7f3Oe\n",
       "mm2xAm85k5dBS64SeRpKfseg/CaOLLzYyJ6WPw2lNKv4PZK/P0gsT83o/ONzyLwPRHhpi96inKiY\n",
       "HrBQMXDzXlAmJVU8Jhfc9HSi+g161NiCNunpYurDnsQLdnytWYFZvBWSjE8j0qM1KF/gRHoUxi+g\n",
       "mU/gtlX85K2G1zBeQDey3Zqrb6eHY8+FUtAYSW3IlT7Aqog3mX7lv5/C5k+koxokypfMq6eiQhg+\n",
       "jXGlxyLSRDfeyJNB1BORnbE8BOr+i7tvbH0ERAsHvgnFWnjOfZ2Z5skP0JRzJc2LNlNfQHLeWX+E\n",
       "BEu33BanEICAFUMWdKpM7wO57VGcf8KEvTEutaZkTVf8THRM6W1Bnsq3T7EODcAgeWtbjBU1tQjM\n",
       "6lPP19IY6kKRKcb8Xr60VxYqx1ZCtNzmBJOu8Q2U5T+zCmDb4F8kV8Rl1yyLV6re6uO9exTGFTRr\n",
       "NtMeygIWj0ibtz7NkTSxGf6iEu1p6y1JmspqwvUzJouhjmngmMwbeXfb80JeU1r2cQQ08o7V2Wjl\n",
       "MrI+YwswzaX2/qD0pcA55QXLlMipUfjaVGOIDwkvg93V84g0FwUacNMM3I6Wjii+RR0TBXKx+UzC\n",
       "rrv0R5DzQHPZox4FT1cvPlIxfNXu5jYzz85DabmfOKlziyetFLk5kksW2IJkxCTSu1A7RVaz9oL0\n",
       "qZsvIcg4BvHzBMX0hEQlCb7nwb29Y2+e0iXHMbQgBJYFodX46RpgkH5VJ1HzUfW+Mk8bTHZn+PXv\n",
       "cmUDr2SRd6Ddkw4ELO146y5hhi04Y1wEUE1I+vSlkPQYlUah2/EZbBWnhO439tT16NXc2GU/gfzu\n",
       "8FD2sz/lV7DgXYOO7yoBiOQwTpFisgtGY90S07cZi8kzIZZY/AEnTAX8s27Jys3ceP792oWvXFqM\n",
       "qRoAcBJSLJnHjffIpSz5L+zxbU7BvVwcfHm2wgrB4Qjvm/1Ur9FI4L1vkiNiq8ymDcrPJgJPWcBs\n",
       "gmauM+8jN3dZMC16Y903KoEl4+1foPIFcjoDrkFpVDAOg3f+hlMi0cr0AiuikznVV2G31YmcCBj+\n",
       "TGhI1kZ1buK4kb951U4XoB95cX2AoDuSurc1+IwKKU6Bdwuh6WK03ZGqUTqz1DrHw+ZdzmwVibJP\n",
       "jzNuwxazMAPv1PUcmRjkPA+IMsmdHHrcmeJfZ9NGtbPxF0jKGbphYDOPcdSoF3QF5EtOoywrMAE6\n",
       "FKHY7CwSNHCHgE4FnGUeq2Q7L9FbHdEP3piJXptZoRByJcS3evx+KeTNGVeO/ltSXWKOGoUS90Jm\n",
       "MBq6cPy1ZZWn4Uvqm3ffCCEmdrhAt5YjLBjuTbFuwCStrBrOBgcaNte+/dj/CW4NMbeJaQPKE8G4\n",
       "VXGGXOQQXlFP7ZWBZdyVH5hWANk5LaAOx8KcEqkbE0qA8SAyrBwaofVObK0jOo4QtCVZDjpAteAa\n",
       "shcLC/7Z1wU7RCWiv//QTLapeiiCYPlGtP5vS5VUzp13GlV1xy0jvHlNh0/6BfcTWdtTScusXYwG\n",
       "wEXqMH/tX71R/cs8RnOIMxySXuyfJBg+eQOHbINMe7gM224BEWTkIqnTGNwtxwfVYvNPvOQ7FkIS\n",
       "CgFtseYC6ETr7+PnjKvbaIHVIQYHni0eYDSLkVMvZ/9wiAmw+94tSLXrj5SFT8OBko0myZt63Gud\n",
       "xz6FHMlpc1oEDRifF9lTBXRgojL7v2QIobGeVjWaSZDG4vuNEAORQDc1LiyoKo36h32XSP+Ii/uI\n",
       "ByDbhsQ5kZ4wxnWvDC6X5UvmIpSH8o0amotbbp2sTkQ0IUyrpUddBiJ/5m7jJeUOgmEocsp+NpZY\n",
       "dQJzOkMVNPJ1LWEDyaVfqbqD56JNm/x/gxDaAeFMk9vmoXHcrw1lT0ivVTvwWjt+xSG+bEttGzqk\n",
       "XQJsyyh1BFSRJrDsR1aVWDP64of9+dL4AjrSamIifmG90vc2hVtnBdUn2Gl2tLLJapTzbBIGfPdb\n",
       "E2eFVBzbn4daOQJ5ise3qticiTD/PCgZaq/c+jPoPL9RzmHgUDQU3s16gI5D4VQH01NrYfM0Leaj\n",
       "NNGccoB5XgIoVTeha0jBOhs/tbHb1HXY4inX5mK+ofgyQ1wfRkwjhP+WTFW1YXAUh62HgEwYgtdZ\n",
       "gSoBylb7vpErs+QWna94XO6/0Lj2l2X900wTXicYXH851KRugicd6u6U8f09PKR022mvFGsWCQk5\n",
       "G09cFVnbFx5CK2X3AFgdKWR7A4+5pqbzSJ0EsqaJqcXRiw6yVe4Gkr1byJNvSESPzFzBwrBXa9zB\n",
       "xSeF+0xx3bk3mlW374lBUIEfrgVgjNzGnzSIywTAt3yJs9keIH2Res236cDF73zlx2tYah3vhJyv\n",
       "EAPzntvYDU+Yv+yLV84gOsrPDi7rLh9NM0LGK+1Lwcg9WLq+udeF4dhpRxOJJ4D8hgt8hHBfmSuN\n",
       "jcrrQOoP6DXOFP7fcRnPPmzf//4Q4u7HV4H7NluGEPj6rPfk9MKIQDaZHThkFbBlu5JzdU/37fZD\n",
       "t0pCsr9FTrAUBtGnqayCpJk88ad0g9wsS41E2aaXh7KMYc8iL2ieI5as6q1zUdcBONL7lmASxE7M\n",
       "AuFKr6vrWb9pEKRIqoBZblitjeZHiyD7XVg5+mT/56Ykvk3p48QdmSVKzEENFpTuR1zf+5T5RxGJ\n",
       "o0hNPXnqp1nceLlZw8Aw0rIXVY9SEbQvSghAIskV+xRVUudOO7lGr3svWYnJLkQ11dDvvRotfqol\n",
       "7vHTI8IFt1aRHiyD7l8JSL/T0EvBb+vyqN1QyBrWJ+9h/rD5Bnm9hDiF5wC0I2S3qReopKKQtHmY\n",
       "rL2YjQtL7yVBpblkMY/pxa05rKwGvce1nTplBsYm0T1afnJTyCqJ6+y/9cXdV/9CRV87YYeohkcq\n",
       "32OI1nUXLnINmkCYpnIx/hcxC/fp6Vxn8Gwo29VXI3nD3aHKbcSiGKaMVUrYX+wUoloDMZhVghCm\n",
       "38kmCLSKnIzurEhy6RVpLtUYX+iyTiVKoFNoK3JBFLCUom2jubUOM8WUaxRDh7ygYND9YkIaYLke\n",
       "ZeXP0UWLt9XUfGoldoFEnAKGKN1Yy0jr/+VMjNFniX9lYuDtsmcst38AsznoD1D8PRSQgi3sWu1/\n",
       "EFp4lRF9uO9kpzG4W6Yq/+O1c75Y915tXWBqSFHMGtU/jqnmpXKfJV9ZQZCt2Q8ek4gckBo5iPmV\n",
       "T4jhVDMJMJ1EyfQyXY2JbyTo3wcLZQwpvFoS6jJ7uWBIroRPtRGp9pptrHg2f7GvqQRAyluOr7qK\n",
       "eMcWyMYCuBK6WGtpq1SjFwXXhAAp44g4dyCLL9K4HT7ND/Y+vXDxbZCeVEelrraqySl9usmGdLOf\n",
       "5xDctDYVu/7M8jqlC2RGO5lE2YKRBWtaSr+4mGI6Yzg8rjmNIyNH4SFVPY2clm/7wX2y7Lxu5OMR\n",
       "Wda4SWdsjWbY0/AwuG/+6oZQE4uobgz7WJfXDRDolw/K6v8bPp4lSFNzberCK0O4dyGi6JbPaDjF\n",
       "W67tTi+Jn/MFQ2k/fDwxY3l5A3v/3+pukJbTtJLgO0UdNIUlFwrwSGw27B/RuXcVSqLJogv0BlSd\n",
       "72wEsM2A/ayqM7AzrMUO4ftrbRzlVBm3Tg9dkqeNVDhmDzsJaJ52IWu3p+IsZWcWLE5JPFDUxW9G\n",
       "Hekyk4AcxW19bZOSzCgAkAd66tObLz/uC4HltZZweVCIGJD1AypGA5jDupp8U9ideDahI1Saqu+p\n",
       "Hyc6QqunZaa44H7oeM84pR2IHumJ2r+mkCukIqs/E77sGZ1QggJh7d7jFxBpP2GBhgtv5+D/9gpm\n",
       "1sLcp1gKOU1qu1+PfcPpjMj4iW+Sg/Hew9bdRnK/6/vEaMByPqzNNxJmBNWHzNSOeLZZYd7r1dhy\n",
       "TimwqUI7F8vcTfK+qqagpK66pzke4ApZoQ+ws8PqV7axZKHuA2ajLvll9vwN0y+jkk5P43vqT/nm\n",
       "IEp1LncWcw1/dUaghlTieKPM7qFywnggcjJ1n1NT3p0o3GBdQDfSIf3qcqTWyNmez+3SyEuKvfHv\n",
       "sEMq8BTOO/GVXrs++ifUAqHET9rLLt88KwSAI4/du5/CJXcfUA2TwoaLF4+MaPVFUR1S0cgYvRp6\n",
       "pEzGhQogcU5HkFKtFYbQzHyS+AkXeTA+eTFCN7eNbUZuK6Y/WorgiOSBTsi5Ssu77hCEa7SRLncS\n",
       "cyoCz4W08wNplsXtCRUS7Cxj/ciNV4cKcs4i9MH3kwKYOXnfCs95vcrzJlLPW0k2+sal072UNycO\n",
       "o1yNKJ9L0uefnWdkekuwSqFD90kbVmMRI4tFxKqy/rZqxRthEMFUekUl5Fc2NAoTWL5M/Hc4EIH2\n",
       "UmuI9RSATx8heWgRlHK75rzVxy+Lgnr6aflgPcvBOxAhatGcBbGxiIm38wDUjtOr9u3azBkGmzYl\n",
       "CCHuAS59N3DxHEOFivHi8SSE6bEcAO7C3A5QINeT+h7u0CV6wjKXjyv4bMVimC2kVv+OFUwv9ZOR\n",
       "NC3gp3EofbNYRB2nZQj7qFLTlSDt1KnFecjDM2w7JhjjrSXGfNEbcxgy9jR35xcrkKguSL5ji1TV\n",
       "Tt0GJpp7PIFcJ4A+J778gmMGNuAmwOMBCXSYKQR2K0en5WuU790HyJhUOhdvNln7gkxDNRznj6nB\n",
       "/LcB9f5YCY2k349ShN2DHmVZHHl8ZXLBcU2p/uNII85eChUFO05waVTT3quVQeeuRh6VmN2B6oXy\n",
       "+2AEZ2Kcke5YuLMvUbHlA4ZJAnPBfuIPRKflnvUnhLEth4gyZxdBr5IXH4Ag+GGi6mxzq0g01IXr\n",
       "J1UwSQa8fmllHhBvHCFEhIFgiGEds+Mb/TpDXNDmmd7/eMlztn2HFjYpztLJU5RLocc6wSxijYDY\n",
       "nod2VSItvNR5jFdOP2qkxiNmC9QXYyV4JKJnzFpuyE7iB5zL0hMcrL+tqrV0FwDRaEilB8W6jWvw\n",
       "qxl3zmS+JDwJxmAoxWf483sg1+bqEqk+tXmoilfvPdAt2E14W2U5Pfb9Jq/kJJ6QIGdIfrLtKiuz\n",
       "sIACjxwrt5rPycvIkNvXr9ka8W9Ruw4T1/ghyXU5MJL2ZbkiWsbCFmt+ob4YzlDcmJ10qzQybA/3\n",
       "V+vpIQxGtB7+mzRP3m1dvcjqVU5m9aZvRRBo15MgGeXYEoktOIoIphRIyULQvhxe9GyjMa+KzfgW\n",
       "bL4X8JwAOWNgb6I/+uzEl/9jNnpoYwTDyIbD6Z3L5j95j9GcqspS9DQGPEQzCMc0h1oxgurQcPD7\n",
       "v9ef4/CPwz2c5gEFTHSO+8Ft8obvW0MujznbGGndLuafWa+On8qDXEDOTzg0GDcXC0KgmlXFcSLX\n",
       "AcKLEMEfZLSkvWkWrL+OocWKJg+CM6CYWEvd2IZyBf/CcItta4wkJTIZ4Tv0wLlgFHjkngPbX0a8\n",
       "odFI1ErxUP+govW/6ZzCEu6uFWeWzAp2iJGhVxJR3spKlX2BmflEI9l/yoLU08ficMiODdBbbEUc\n",
       "Q1QTNxNiClzTnnhZdWJIHInhOhyUljT6P63JyvgtmfiXx6oFPKkNpyZlrj+94zhIPpCbZRa7Tu3p\n",
       "ret0aiXPy85G/O+i3p3aKsH698hxRe6qM+Of4erGe59m/azfFp4xMOJjSyuhdtJZZu1Ys/e29tu7\n",
       "aoqzOswW+m/PcOCJPnBs1RUBZkw0HuZkCWUX9yxQBtGCBMB8ecoUl8i22jXcVqKy1+LgrfsinzE3\n",
       "3oWlXaA6DE55GwIa5Hj/Sjh/AnJWXuiIe5Rz7Y/ze64Fr+ulObPu7b1azQG4oyrhEMpLPeu1pK2J\n",
       "YPC9U2HxuE6MC4vAMaGFtnubJ0qcpeBANlcL6J4HqxfzMJFsygqVtLlPtbsEadZyCibjcScHD+i7\n",
       "qce2Jr9j/VZQOdQhomP5lS5iQ3tV6N6WYBJUsZEGu9WWPCsXFotL6tdcaRHwNavfVwpLmaxfFvyF\n",
       "5qDP/PPW7avSl3Mo0lDxSztge5aNgBwATMPRPcOwU/IiXngC7V4fTOT+JZOTUZGbaPYobqlJLbxI\n",
       "G211oKWZpuy88RsyzHKV2cd9EGbyMl/WzPz7j1xA5F1/+7Hfx1voRMJCaWazJesUC4Nya/m4aclF\n",
       "JxuU0jUVVY5cdhwqXoFiaNUDZMJt7fN+ZXb6DINfiL5QPfaDqUGiu9FgJYXqJDn2idnFoqrV4ejZ\n",
       "ryTtZLbKbqWIjbVcL9WlxpskMT/H4RYMhrvR+Nv1fQ7RhG9usb7beOvYUuOb+7vmPeFgD8vDNE4f\n",
       "O8uVCPP3t0YETH7DGuKOstXfcEXt68di+H1q9HgpHAyfQ1HmtMJHcVeC9O9rGV+cgYzvEKYPLyoF\n",
       "Ae9wjACLyP4I69Tfnjo1qQEbeFw9Uss5IYXX+rFjxNYrL5paK9XBsCiM8/Lhmwv6ru4wWyd/Vuf8\n",
       "SRRCp7q1a5LrU1cO41UVm5YRLCybgHIJxL1HdECyDF5sZHsQvwx6DVzQjCa0KwgUW5xBXkIWlVP4\n",
       "2Tp2QRJNDzC3/NLS8bZSGD1NviwV+pWH5xxu7QXQqRRCBZl2Z/Ty/bBsZO6D3hmgGqzCB/HKph9Z\n",
       "EIsyMdyWnLJR+7YBw5H8iuj1YYx3uMvLuYia6kadvJUt7HIOGi7YdK/nS4mlewX8mRX+8rZvNNfb\n",
       "Z1DXYgczZ4BuL0h9TlwA8UhyTNM4Q/cvk+c46oP3ViEsFdndhjToakenv3C0Ul+X5sRYLJI6wOVQ\n",
       "QYbL0mn+KWVth+7LT/7QZNswbsfz1fvCqZaRAun6fmaJEW6Py9WndtAyZhWo8nUvujb/MUlVj0B7\n",
       "VqT2loIw8BiqzyakvKKETO9LhGCqug7FwjRkdR6awLJ9l4h5P66ScqJk9QPlsgF54/dV23H4E5hB\n",
       "PQ6S5Dgp47pHGPj2llW2t2Jlj3MVmor7TZUMOk9BxaiWQeEsuKwPPdmcveyTzuQ1iBQC8W/4pboF\n",
       "lyGCKLdZ9gQ9HdLji7BAn/JcNa2Zy6/p7i3O8SLDwxAeE5txmCkzv7BWS9bjnTSGZUUGMLVWiPqS\n",
       "Oy9wkwj6YJXhkjGbjVzKcpQC6BPUrttqD88kki/jWU64UF6J5mXio5Ihgcg8uUPpMeoGg38Vd5NU\n",
       "pNOHhSTcBn8mOr1uwNY4LhvyaRzmpbKqTl+6FCCPe9Q/WlN6fruOrl/85Sf/IQAES3V34dbkBtnc\n",
       "A9UBHwyQNNrn9YFOOQnoTweOAue0r73e1QBjtsEAAAlKQZohbEFf/talabRvKAA7TehgDZj5iwoC\n",
       "pjj6By33OZ15G+esx7dNVR5jDYAlPCQoJjImzD02zbPlewDPH4ObCb62kvShyeN6H1diVwBHHSSJ\n",
       "88IELnaaubsyG5fYwyhqJDqgITrE8/A819uSgM7Ehqy4faAbsPv/K+98mZtQtvMaOuTOjVP+Y4fA\n",
       "Loe+M4iFe7K7TFdMHnLO2/nnWUaILvfPrUecEeWfRNElbui32zdzx7ONbzJSHEt1pKDM6XxnbYZ/\n",
       "nRmEIt3Gr1gIkP5daTawJaPKJHMhlkqqbOpA/R5hioNdl2mmA1aFDMX9U6J6heWx3RwITLcmUCSK\n",
       "X4P8bx+CrNliCIAmIoBoE0UX8h6iN41Y6w1kvtEkgLedjgCQv8niy+pU2PRD97PtTTdrvN3CdBXL\n",
       "AtpHjrV1/SaT+PtWoE2/3o3u20hK4BDg0VR7oeyASg8Fgek2JzEseVavQRQs59nUshSYZ0/i+Ok3\n",
       "I4KntbfxZ1mX2xRLLriBuRVDtwSMhTy4yO05xPclUP+zuNpBh8XJtrAv0bFILibeZ5Xxz3rtC0NL\n",
       "A8VFnJJa+/wmNZI+YmFfNAueCSz3RH4y318t5ULslLNAbxDiayQS+889i8xVIdSRY9hHepPb3Nms\n",
       "TwwPmnzSAHSr3o7KOzeTwyprC0GtaN+WJJeKdMOPRWuq7wlYVlzW5Ej2VWzFBhzCf/QfmE+Kz6fO\n",
       "vWxHskgr0wVTBuQRh+BqssE1t5nxJ51CXoMyDnL7OuEAqUvSvxl8QhDxuRBcBv0BFXO1KbppWIcR\n",
       "KSa0twbQVG6VYXmR65UwsddXPkUcAmZTS7O7IvtqIOy9lRLkJ5SOzJBC+Xef2MO67b6lkZqRGlXz\n",
       "Uo+HYyvRPZ+696NZtQC1qRow/Zm9rWYRsAnixaUgeUnV9+MxumS/uAbRtR3kP/jfhgNp5UcQd9v2\n",
       "CqpIBng5jChjf/qxvf/G/3eH/nmOoqmZSV3b3p3OakE6ECkAiEi9twF9/gKtixuXr8RlkKXoP4b+\n",
       "OIK9mCBUMCXF97p5JkbAFDK7USvRAYD1r2nQl9Mk77qpPI801RbscUavVdHs+034QGpfRSR87/he\n",
       "Z/kVonq+1hAwBmeIMlkaUzdTpUonV6/Gk2eXTWQaH9P9bC6h6mXrZdlbaiBBky9SmwQKByCeDx7u\n",
       "71Ag6GxIXyu3YPOWbrwnmFMf47NnZsJ5/h9NuhmRCbtI3dpDl8NJjzAsbO7f1onwSPsAMqRO6ljH\n",
       "eiJJm0xHz3nvx0smfV/xPTEDoeTtuU6jnk2HvKaZQGosRXb8JfGoyhrcg2TAeDbo/Zp6xOCgmSkN\n",
       "UBLiyl++Pbjl+pZkO6D3EmnCFrr+vbdl8UwK1R7ao4RN4LsURMbb7Zy8VkJWzRmghV2Mo8RMwOpH\n",
       "3RlTjE4olh0Wo0K3DBuBMG5KAkOUwmyaARZBXNM6CIZNIgkGF/O/wvyQwkfBtSymRTGdGGv5F5kY\n",
       "niiz3VPIMkygMNghVIPNP25Pw1+p/GvKFjUpo9QyamGcE4GVNCqWxcAt6Z4/NchxtjAyZ/0Rr2NF\n",
       "sptMvUoUE/ldIxnVGqO5jiifhpR15o25HG4TvNzmoZRJrNdGFdDoaTqCjMBA9aI7RRF2r0djUprE\n",
       "1Rs3O24YE8n9E2sbWs+YAl6DY7J5NNfros4VjNp7vMLMPayWbPpIQ09NvElXWjXZ89l0QhBVW8I1\n",
       "GdZGrHTySwNN7obCIH7DhfTDTUaubaZJA72x37uuOW+YlnYdx9D4WPRRltSlw/9npU8P9QuyUaK1\n",
       "eDRwirmE3USgHY2kfmR9oVOaqjKeO8Mj1y6G8VH3wK7FmRvQzTDJRAxGyhKnHZ8mpPU9AaLasdBp\n",
       "oUJxCpyJ4lIS6MLCYvx6I4DTHLCA5qhVLjaisvoS/INw/MRkRps9b0KlVqC9OoTsPeBvg0Pai32D\n",
       "M12zWdloY9TVZWC/EGuwyrtemd+zYAIZ/pPnPvm2ALiwPcposwyRTbDE/c002G1RTRZK7E7r8+d6\n",
       "4hBgGMqFbdE6FZHHFenDMx/QyP3g+24oj5354WyeId9B6apKHVCgoayI+1/sfLuXYrhbszQI4iQU\n",
       "iUCbdeVp0iXkicpauFpYmIHvVtKhv9/MqozmkaNeBJlNeZjCkpnQ5KRZqARRoCZL1Y1Zt3cDj/Z8\n",
       "Fn4QqbQFd/6JWrxgfP5YY8pOTIpdfJDNHxbBUOtcRjXfm06uqhbH4PZEcr+AsOwBwoM9AnCXNuN2\n",
       "bH7g4QlzM5Nh2St4AVpBaOQouPj4iQ57dFcfB4+aSZs95Jm0ioYb2sIFcgcq5G8mC7BKWTW3CuQD\n",
       "J0JtP03caoDlmcI9QpIXLGN/WP0q9Fc8DzNZ8oMCB+O178SNqkt8iva/kB7POoIuAq4ZG1NFH+qL\n",
       "SDcyKCO03iMn4Pr1PbljTJFRYfFWEPfipZ01MhZRID0qX4S8OF6+16+5Xw6DgudqG9Y4kL9bPndb\n",
       "DqtUa7YmHbBNjurDf/JxOyXLVN1Z54xWhd8BUVicM7efD6ZJkEzIZA6ZDxjqqguqzcmjFoE/XiSu\n",
       "mSoko9/YBh+N2ARm2QcQwrWPABQCdyImmPtdo/+KWyxF344d1z0PtVEaIog/iy85na0h63f4Zq7L\n",
       "4/3nwZJzJjXGTtOIVfWlEoxQO1+8hMEdl2GtxNm428CyN/9Uvjrqn7rJxpS5rFsOnN75IYQQyfOc\n",
       "2w5wbHVi4bSiUryhgWWiaQovbpHGzzDeEeBaGtpyvGeWkBMHrzZBqhV6Qf7kEMppol7du33r8/wV\n",
       "rFX9QdGX0gURcUVV9LK2hBdluLlScKTqJAn15m/zy3k1TKssNQMTyxH/GYvUcpz+ESXuRbibKZkK\n",
       "CJfbp+x4lQjqMDByXWRu/NYlk1nb+XS/tcdZSYILJEssuJsGmNTsZRkavfJgVjEeEQkDXIgno3X2\n",
       "+s5JvdzWj4AFdNdT+qbKCzH6U3lc5d/l4v3Csy3bIp73Gkrn/roa2h5fHFWO9LrjgiVC79F9RdLs\n",
       "2lhjSmxEO4SxGYrRH2oZHi+az9tCMdzExpspig1qP15KOWj0m7Vas+zilnWOGocVIpSPgPDPt7ga\n",
       "UlCdcv6YhI5aLzVSwifFXnd9WacGHQy6ojvSsIRS9Bd64T2Rpn96StNnnkzdeFZNfh3RlEGDHpzv\n",
       "l168ctxZZK3X4iDsNJp942AAAAMmbW9vdgAAAGxtdmhkAAAAAAAAAAAAAAAAAAAD6AAAD6AAAQAA\n",
       "AQAAAAAAAAAAAAAAAAEAAAAAAAAAAAAAAAAAAAABAAAAAAAAAAAAAAAAAABAAAAAAAAAAAAAAAAA\n",
       "AAAAAAAAAAAAAAAAAAAAAAAAAgAAAlB0cmFrAAAAXHRraGQAAAADAAAAAAAAAAAAAAABAAAAAAAA\n",
       "D6AAAAAAAAAAAAAAAAAAAAAAAAEAAAAAAAAAAAAAAAAAAAABAAAAAAAAAAAAAAAAAABAAAAAAbAA\n",
       "AAEgAAAAAAAkZWR0cwAAABxlbHN0AAAAAAAAAAEAAA+gAAAAAAABAAAAAAHIbWRpYQAAACBtZGhk\n",
       "AAAAAAAAAAAAAAAAAABAAAABAABVxAAAAAAALWhkbHIAAAAAAAAAAHZpZGUAAAAAAAAAAAAAAABW\n",
       "aWRlb0hhbmRsZXIAAAABc21pbmYAAAAUdm1oZAAAAAEAAAAAAAAAAAAAACRkaW5mAAAAHGRyZWYA\n",
       "AAAAAAAAAQAAAAx1cmwgAAAAAQAAATNzdGJsAAAAs3N0c2QAAAAAAAAAAQAAAKNhdmMxAAAAAAAA\n",
       "AAEAAAAAAAAAAAAAAAAAAAAAAbABIABIAAAASAAAAAAAAAABAAAAAAAAAAAAAAAAAAAAAAAAAAAA\n",
       "AAAAAAAAAAAAAAAAGP//AAAAMWF2Y0MBZAAV/+EAGGdkABWs2UGwloQAAAMACAAAAwAIPFi2WAEA\n",
       "Bmjr48siwAAAABx1dWlka2hA8l8kT8W6OaUbzwMj8wAAAAAAAAAYc3R0cwAAAAAAAAABAAAAAgAA\n",
       "gAAAAAAUc3RzcwAAAAAAAAABAAAAAQAAABxzdHNjAAAAAAAAAAEAAAABAAAAAgAAAAEAAAAcc3Rz\n",
       "egAAAAAAAAAAAAAAAgAAHY4AAAlOAAAAFHN0Y28AAAAAAAAAAQAAACwAAABidWR0YQAAAFptZXRh\n",
       "AAAAAAAAACFoZGxyAAAAAAAAAABtZGlyYXBwbAAAAAAAAAAAAAAAAC1pbHN0AAAAJal0b28AAAAd\n",
       "ZGF0YQAAAAEAAAAATGF2ZjU4LjI5LjEwMA==\n",
       "\">\n",
       "  Your browser does not support the video tag.\n",
       "</video>"
      ],
      "text/plain": [
       "<matplotlib.animation.ArtistAnimation at 0x1cfac6bcc48>"
      ]
     },
     "execution_count": 20,
     "metadata": {},
     "output_type": "execute_result"
    }
   ],
   "source": [
    "# Define the figure and plot as animation for clarity\n",
    "fig, ax = plt.subplots()\n",
    "ax.xaxis.tick_top()\n",
    "ax.xaxis.set_label_position('top') \n",
    "\n",
    "im1 = plt.imshow(KID13_nov_mask)\n",
    "im2 = plt.imshow(KID13_feb_mask)\n",
    "ims = [[im1], [im2]]\n",
    "\n",
    "plt.xlabel('Px', fontweight='bold')\n",
    "plt.ylabel('Px', fontweight='bold')\n",
    "plt.colorbar(label='Elevation (m)')\n",
    "plt.title('KID 13 Nov - Feb', fontweight='bold')\n",
    "\n",
    "anim = animation.ArtistAnimation(fig, ims, interval=2000, repeat_delay=1000)\n",
    "plt.close()\n",
    "\n",
    "anim"
   ]
  },
  {
   "cell_type": "markdown",
   "metadata": {},
   "source": [
    "We can see that the datasets cannot be differenced as they are currently.\n",
    "\n",
    "To ensure the same projection, resolution, and extent, we can use the [`gdalwarp`](https://www.gdal.org/gdalwarp.html) command line utility. Below you'll see that instead of defining a normal rectangular extent using (right, bottom, left, top), I'm clipping the datasets to pre-defined shapefiles.\n",
    "\n",
    "**Note:** I'm using the single `gdalwarp` command line utility here because I have only four rasters. If I had, say, 100 rasters, I would be much better off creating a shell script or using a `gdal` Python API."
   ]
  },
  {
   "cell_type": "code",
   "execution_count": 21,
   "metadata": {},
   "outputs": [
    {
     "name": "stdout",
     "output_type": "stream",
     "text": [
      "Creating output file that is 1236P x 8311L.\n",
      "Processing ./KID13_data/KID13_20201109_proj.tif [1/1] : 0Using internal nodata values (e.g. -10000) for image ./KID13_data/KID13_20201109_proj.tif.\n",
      "Copying nodata values from source ./KID13_data/KID13_20201109_proj.tif to destination ./KID13_data/KID13_nov_reproj.tif.\n",
      "...10...20...30...40...50...60...70...80...90...100 - done.\n"
     ]
    }
   ],
   "source": [
    "!gdalwarp -of GTiff -s_srs EPSG:32610 -t_srs EPSG:32610 -cutline ./KID13_data/Shapefiles/KID13_UTM.shp -crop_to_cutline\\\n",
    "        -tr 0.01 0.01 -r med -overwrite -multi \\\n",
    "        ./KID13_data/KID13_20201109_proj.tif ./KID13_data/KID13_nov_reproj.tif"
   ]
  },
  {
   "cell_type": "code",
   "execution_count": 22,
   "metadata": {},
   "outputs": [
    {
     "name": "stdout",
     "output_type": "stream",
     "text": [
      "Creating output file that is 1236P x 8311L.\n",
      "Processing ./KID13_data/KID13_20210208_proj.tif [1/1] : 0Using internal nodata values (e.g. -10000) for image ./KID13_data/KID13_20210208_proj.tif.\n",
      "Copying nodata values from source ./KID13_data/KID13_20210208_proj.tif to destination ./KID13_data/KID13_feb_reproj.tif.\n",
      "...10...20...30...40...50...60...70...80...90...100 - done.\n"
     ]
    }
   ],
   "source": [
    "!gdalwarp -of GTiff -s_srs EPSG:32610 -t_srs EPSG:32610 -cutline ./KID13_data/Shapefiles/KID13_UTM.shp -crop_to_cutline\\\n",
    "        -tr 0.01 0.01 -r med -overwrite -multi \\\n",
    "        ./KID13_data/KID13_20210208_proj.tif ./KID13_data/KID13_feb_reproj.tif"
   ]
  },
  {
   "cell_type": "markdown",
   "metadata": {},
   "source": [
    "Now that we have DEMs that are the same projection, extent, and resolution, let's look at them."
   ]
  },
  {
   "cell_type": "code",
   "execution_count": 23,
   "metadata": {
    "tags": []
   },
   "outputs": [
    {
     "name": "stdout",
     "output_type": "stream",
     "text": [
      "{'count': 1,\n",
      " 'crs': CRS.from_epsg(32610),\n",
      " 'driver': 'GTiff',\n",
      " 'dtype': 'float32',\n",
      " 'height': 8311,\n",
      " 'interleave': 'band',\n",
      " 'nodata': -10000.0,\n",
      " 'tiled': False,\n",
      " 'transform': Affine(0.01, 0.0, 4988.834808077358,\n",
      "       0.0, -0.01, 5097.191270051388),\n",
      " 'width': 1236}\n",
      "{'count': 1,\n",
      " 'crs': CRS.from_epsg(32610),\n",
      " 'driver': 'GTiff',\n",
      " 'dtype': 'float32',\n",
      " 'height': 8311,\n",
      " 'interleave': 'band',\n",
      " 'nodata': -10000.0,\n",
      " 'tiled': False,\n",
      " 'transform': Affine(0.01, 0.0, 4988.834808077358,\n",
      "       0.0, -0.01, 5097.191270051388),\n",
      " 'width': 1236}\n"
     ]
    }
   ],
   "source": [
    "# Read in each DEM for CUH, look at the profile, load the DEMs as arrays, and mask nodata values - CUH\n",
    "KID13_nov_proj = rio.open('./KID13_data/KID13_nov_reproj.tif')\n",
    "pprint(KID13_nov_proj.profile)\n",
    "KID13_nov_proj_read = KID13_nov_proj.read(1)\n",
    "KID13_nov_proj_mask = np.ma.masked_values(KID13_nov_proj_read, -10000.)\n",
    "KID13_nov_proj.close()\n",
    "\n",
    "KID13_feb_proj  = rio.open('./KID13_data/KID13_feb_reproj.tif')\n",
    "pprint(KID13_feb_proj.profile)\n",
    "KID13_feb_proj_read = KID13_feb_proj.read(1)\n",
    "KID13_feb_proj_mask = np.ma.masked_values(KID13_feb_proj_read, -10000.)\n",
    "KID13_feb_proj.close()"
   ]
  },
  {
   "cell_type": "code",
   "execution_count": 24,
   "metadata": {},
   "outputs": [
    {
     "data": {
      "text/html": [
       "<video width=\"432\" height=\"288\" controls autoplay loop>\n",
       "  <source type=\"video/mp4\" src=\"data:video/mp4;base64,AAAAHGZ0eXBNNFYgAAACAGlzb21pc28yYXZjMQAAAAhmcmVlAAAdqm1kYXQAAAKfBgX//5vcRem9\n",
       "5tlIt5Ys2CDZI+7veDI2NCAtIGNvcmUgMTYwIC0gSC4yNjQvTVBFRy00IEFWQyBjb2RlYyAtIENv\n",
       "cHlsZWZ0IDIwMDMtMjAyMCAtIGh0dHA6Ly93d3cudmlkZW9sYW4ub3JnL3gyNjQuaHRtbCAtIG9w\n",
       "dGlvbnM6IGNhYmFjPTEgcmVmPTMgZGVibG9jaz0xOjA6MCBhbmFseXNlPTB4MzoweDExMyBtZT1o\n",
       "ZXggc3VibWU9NyBwc3k9MSBwc3lfcmQ9MS4wMDowLjAwIG1peGVkX3JlZj0xIG1lX3JhbmdlPTE2\n",
       "IGNocm9tYV9tZT0xIHRyZWxsaXM9MSA4eDhkY3Q9MSBjcW09MCBkZWFkem9uZT0yMSwxMSBmYXN0\n",
       "X3Bza2lwPTEgY2hyb21hX3FwX29mZnNldD0tMiB0aHJlYWRzPTkgbG9va2FoZWFkX3RocmVhZHM9\n",
       "MSBzbGljZWRfdGhyZWFkcz0wIG5yPTAgZGVjaW1hdGU9MSBpbnRlcmxhY2VkPTAgYmx1cmF5X2Nv\n",
       "bXBhdD0wIGNvbnN0cmFpbmVkX2ludHJhPTAgYmZyYW1lcz0zIGJfcHlyYW1pZD0yIGJfYWRhcHQ9\n",
       "MSBiX2JpYXM9MCBkaXJlY3Q9MSB3ZWlnaHRiPTEgb3Blbl9nb3A9MCB3ZWlnaHRwPTIga2V5aW50\n",
       "PTI1MCBrZXlpbnRfbWluPTEgc2NlbmVjdXQ9NDAgaW50cmFfcmVmcmVzaD0wIHJjX2xvb2thaGVh\n",
       "ZD00MCByYz1jcmYgbWJ0cmVlPTEgY3JmPTIzLjAgcWNvbXA9MC42MCBxcG1pbj0wIHFwbWF4PTY5\n",
       "IHFwc3RlcD00IGlwX3JhdGlvPTEuNDAgYXE9MToxLjAwAIAAABjyZYiEABb//vfTP8yy6/c5teOo\n",
       "96KeJl9DdSUBm5bE7TqAAAADAAZ25c2X2e1BcB+IO/8hdjXgAF01OpWeFC9HU2GLwcPqgN+ORXet\n",
       "vTNEVNx8rQWnHHFUfoV949fWJvbsHw7rAyMsfYN/V5dMS29u6p2zdXUYgfYLydBh8PHhdtoq1D/e\n",
       "iXaD69VcwNx3vOSG5GQdkNa3dm7/QUOYFt+wybUt7AxP85QDS7nXRNM4wJRcMDyShJP+HAwV236b\n",
       "8Qqn8V8i2r/iDIWqTvSMO/C57y+hT4R0HkSAUtKhOr3I26bgMkiF19LrPXlQl8y0WssHPsB+gFnY\n",
       "Ob/9aqCcoqh4alZbHe881RKa3bVcsDs7t7yX6k+slrsAgNUB8ZF46rErIg5BAt/fGlbwyxNC1Xm/\n",
       "HK/OXDFK9vBUJS1UJyvXc2vk8l9wj66NxKKOAE5AAG9npdomiY2AKUmM2tIfbtyZkNZyjWQU313/\n",
       "xJfzPY/KZ1ZEQ/DpP8pV7vatp6EZ2wKVZb6Ii2N7cjMN4WtqyZWXC5WY9g9NoIDmpnwNRFt8Hula\n",
       "Db/kZGWoxTP+utQqDrgM3RRmtAOh1se6MJwdoleYXVlxpUmsLY6EuRLglZxN3C6canfIT9G3yv8f\n",
       "xMTNwYznvZd2ZxVTz6vbYKZCN9qymFomE5Pzp5f1TmxLpEGFJmI1MzGUaVv2ygTxFMVueFmoxaHm\n",
       "jC7LgaGUUKSMduFDPHMdJ0U7GS4Oj7wmJsCbKp1wMvjajQtk0SwVdI44msOT8/XGYWBSXqwiPDw2\n",
       "yeshcytYJ8hDstWrvEKHetTe3BNY7yGyX+veDjKqSoJtdmoCkbqI2CwgkKarx0ySeljZwuHb5uWR\n",
       "MzPQQMVpMt+a9/EYFb7iqVNO2phmETULiWcbltTza3VnSIu1Iyr17F5xpp8UkDY6v42aeTAH6MZT\n",
       "ADhrNrrGdqHc0zpCgJpH+RA0B7y0zhX7c4wHzX/0MKHxuB4cRxZQ68LU8QjZOQxbXgJi8oU1U4KM\n",
       "ZTROTviaIjoVdMtLkaaM+EYkixXJy5V8uSWFtt1e3cs0y9sEOIv1gKkeO4/yqSZzhnO0yBUmMpqR\n",
       "JU3toTix8EgV1N5YphX0VPaPvDtDXB+oZ8IOPtCLL3kvZWiIRB0QnDY2/8WGRCiU36hUA5kH8d1D\n",
       "pORp8bA6N9NLIJ9CxWqU/Er4TsGgfWIzddVcZQCmgmf9HlbSRdoc3fy3siSt1R+FQ3d07U/f9kfi\n",
       "7X4U7XXTJPgMV96Jwu3se8i3BRnZq30vO3kPRj19Tj7E3El+kP7mxYZf9VWUKQylnngx0KnKkQ65\n",
       "5GXbjeULWUWyyS//54+3hKUlPoimUlYrnRQDsptUNjh8puTcksWWwAHDOzDHEy2dU58CHpIKa5rw\n",
       "M3Qcf+O0XSDuJ7M1RCwqU36rvWVHdVq4qCG5bQmh2aLKQahMF8HpPcIux8qjQ7WdxqHWkfY+XNeB\n",
       "/is0lU3HB0tM9lk0Q0Gw3yzSgOP687MhEUI8GNVrZr3HGfWbCUg0w6KZtMbx0s5V2Rvq9Yr1lU2/\n",
       "Kj/dn+rrFDHTH7AQ7hmyzpQ6/Wgyk/EXP0LI8il3NaTavMhlvHgK/tiibk2Qv0tSLYHFAMdR2TC/\n",
       "mU5QPhEEAYEm3fVuCWq6MFaY7zh8JreamjlvQZX1oR6O8kLy5IJk34bf4/jy+rj6Lo/hd5CnO1sR\n",
       "V2eHNZBFOx1b9F/Z2o7sHnqCbnHHDBTHRXoSUdeqXO9WJCBKpq2RmxcbK+D5bCMORleBpJ6YLiLW\n",
       "um7T5Jl6XJLDqNKiCytVrt0Js+VerwegfoCvxu/q0T4kV559G4F/dv/Lbt8CGiCt8tBx6nN9yFNE\n",
       "wvPl0ChCNahEmPe85g+Ymb29qmzeM9HjehTGM5VnJs5nrvSILMlEkOELlVeoLvdxbF/EvVodAwU/\n",
       "XWe8vR+lFHqS/YFwYHki63ZsaYJxG1s6wKgIyIyz/k+BTiwbY5u8YEQfPftKvMChJQlxRwdFodLR\n",
       "Jucbrlu6Uw7VgDr24KTfSVFX+7j0LQFPWcHT8OVWNTjwGII6IMsZkVvckYjTU/FMWaiRw4QfBuyG\n",
       "RFB05D1rPVRfjzipWmoVOvygB4X7/aWN6c+Ip72mmnllbOiEVrHvvBlvVvXb2ZDVALustiQBqMuo\n",
       "mrZFeWZjMZzGs41UzF+VIxXTPIBV87KxcphHpqen6gzedDF++LAOvWArGIcPW7qZ7XUAWovZJVSr\n",
       "TSLSZKoO/9YtRKj06Wiew0TQK9iV6sdloOx4ipUmcYA+n48Qh757QWArEY6dbY36KJB5JZwVJlb3\n",
       "0nfev3/t3IGO8lWtCCmWRFrd2J+SFsHYEUQ4nOwjLhFGhMg5Yn1MJB4IWXRYSFLuaU9r9EM+q+Vk\n",
       "9KqiX8sZvmmSRRPNO2KWtaZBDPWywEr5+4u968vXGFZEj9DynRxV8A8srKzxe86RBaEVX8EwvTdF\n",
       "fJ44opQhCDsNiKriHINOPyPyXLiUD9ZAplh2fdiwjcYRdNQKmFfUlwVCnZZYbpa35azsTRNg7NYl\n",
       "Y1ZvddBBrUtE+mmgXuCVNhcGRJMJydnZoFQqVTM6S0XjaA6bB9XEh+TCnsk93Ig3+HPxMuEZmYaO\n",
       "KkInu9+yPsjMb+dITPPv2KPfW5zDDt/Wz2ypj1hWg52hhMVLyhpMBJ4qclwPQboPX2wwEAlkxelg\n",
       "5lgGUX8xuyjYgjYzvj8XMgVvT9tg+PSabxLzSPgm21gd1lGqHsjT3alQjK820yiAH+VsQSff2DXY\n",
       "aR8TxJHQGbsH+Sy+R4KjAgLCXuI7JdlFU3oQpA4iIEK8KVImjzNrP7aoimyXwEbtpyOdQABUgMSF\n",
       "z9I96bybCS470VajgWwkN93WzHWdNErRjbYRod182XS4zLHk2yDpy4TcXu6PcNmfax8+ciKL57ai\n",
       "0FCSKMAbTWWMLE3w8Y5pTnpd8T2zy+vTkAl7ElQyAoCxk76wspjMtoGTejl/O/TzFsHIuKW5wSVt\n",
       "JSf0uNdGx+oO12gbCW7mlQs9AEgrxC5vFjzA4ZjI4zMI/npGCmVsQm1qg3RveLNlisGt07Oppsvb\n",
       "h9xhnlix9MiIcpKKgUZLEKur72rJyp4WyAy3CoKt0yxVGfKLNVEySHi4XBuIUXQoiKmbkQIzv26W\n",
       "TsxMOvEmpSYvwQAAF2LNo9fHvP23wieiHrTLg7GoUXX6v0DAjGo/BnonB1+T4QSvNl1wDb05/pzN\n",
       "bZ3LwS00HJezEaMBjhIwrzu38Q3mV2lOe4c0dLC5U6fmz2UyBxdoDhzxbIXCz9OWZxTfbRI4HRTw\n",
       "+DHvF9imxixvUELeFSVON9S/uES2SY6IdREr4fQXzGLM5o0tAKX3pVEBf4Zc1cxjjhvl0uM74/VG\n",
       "iudi8cMtrqoOwKYWChHSE/btrJbYVMMhIhWJOa3DaH5dnlRf7AYvsn/oPnGMjBT/XwwwXk7AEaVF\n",
       "SuiCEjHvlrvQMwASSSAaDjZJZwIoHBof2MAkSf+//DOBdHjFcS0Om038WSuEm/sMs8vieSesijsb\n",
       "WuxLPokctVup2pGkFbDvAYIDr9SwqcWaq0FfpftjxxbtZG1+udgtb3rdJbmTfwPQ1wTXfxS+gqD+\n",
       "jzMjrvH7VItPjoIOsez5mhPvP4eL2qx73pTtpOn7whhzD1oYbs7RWTAAuJZhwmjEn4yssXZDExOh\n",
       "twrPxk0Rjh07uYm3lpzR5qqoqkgTca9XUocDdXVcqS49PU0g0AnJs5Tjul3Rm/b1A5g+edjis9Is\n",
       "yp4OkFC64Q0JUaGpaht/XscIuAl7R9iHxLtSym7scvaZr83FgFgyOJp3xUSoezodUgQdY5m0mT4G\n",
       "zwtWqa4MaquoRrWmze0RmNB0aWHQb6JdNrRholcHLZFav0xjc9kYi1ZZZjINGt1Fy6gBQ/fieJwr\n",
       "Az7xnL+ApiXek8b+2dQuemJv/iDObMvnKUs7WK1f06Sbh6m4i+WrBTVGWxxypkylt1pgeUGI1zhm\n",
       "CFQtuzsotfSj5U6GM4monaTRPQQVrdgsO/RtwgXa7SJWd0Hkf5BNn5vv8YIlep12hZAbX3jCYnKO\n",
       "GELYNnyZNOEu2ExwbXs64nUzr6LnINmkCYpnIyntlHuyu+1V3t2B9scI56LeCSvHy87NE8NiTf/Y\n",
       "yzzIsm9h/R/whpCfe7o01NwU48q/SxH4hFGHuKUcxYIPDZ0oLNEzzRiLwlbsrfvg30vOotL4twYh\n",
       "TQkiFb0raEdH7M+9ckVkJ6MB+My9Yo3AEGhnaFzeIe9xNkkRjzrPlZ8qooS2LIYEXiPCJNUg/QRO\n",
       "xulnz2Wt23Yp1MXaMjTnAYsLbhFGhMg5texnLPdVxpcbcoPP2srKo+ZNdLeiQ4fvIaHV/s4BfHoc\n",
       "052ehTggBJPvvMHUG8aVa+UV1+c4dWjdm+kTE3sZ9VEV03QkBXrui1XcqBqgcJnvqA428Ra0gfZq\n",
       "XsjE35vTRdbqzxVTtPj3MYNX2uARuJYRQv37VrPTiB3UUz4Jko2DaYOdQyA4Wd8nWOhXFnn3SJsh\n",
       "NKXdOuW45MYuN7ENmHczFx4gS7TUD4kYbWZHfVDQ8bMpS+ECqAsWcn26qvwk0Tx6Rbamp4nR0uJW\n",
       "niU0Dy7Yyoe0n8ij06LPhpAj5Ezv6XdgBVyLyXCrtZo+jiGfZ9Qsucx3x8omJL5N4YMT4rMbpfO8\n",
       "6qcMJpF9pzEQczdwCzvWlHpL3fJplA7gx4Ft+KzU/b8Aj5UaD2Iakh7zVHdN3WXNM+388L33xyEA\n",
       "q4BxH9PaiXD8rq/xl6iA86pr0OahLLfB3sS26+PcVb+O32XCoLxsixOnRooWQcloE4/6CkoZmJcH\n",
       "NsXAivEKWIrvXYcsTV1n5WxRzhZrqsUY+Ita3z7GojLpytDLkr1UK3mb+3hjMI+Y3lbv/E2JLgO0\n",
       "UdNYXDqKOUxBFXk3UYA0Nq/3H0QX6AypO97yVgZIAY8FsGD0WTdEQeT8HJVgTtQ4/Gg++rhYSjzl\n",
       "BmY0dzjWjOtM3uvMVEmv6hkktCTfyu2EstfIpA4UkEoCG13xFt/kBhMVDTew4rFKyPxbN1AZppOU\n",
       "JwfLCZ0S6K9rpbt81dx/FNQwpXuris95DHbJRbKiOJEkySLZ3LBdEYK7O89nT+mZwr+zF5zmD9Tq\n",
       "002c7eNYK7iDkYZ7DjczpsOSrZhSY5DiIVGjGUVbkcplSHMUh4RLYuyOPG+WkojrkrTiN4ZnteKq\n",
       "QT/WnQFScVPY5FU3x+Ox198JXlRNnKXhMsV72isuM17FpMI1DU81jDxKEXXBV6d5Fb5dRjnr/URr\n",
       "mHOgzuJl8t1A4gMROaHfF/1mk/nMwBR18gjxLNQEfYUKm08wNuPxq/7g/GOsKLHuQmqXc8D8IiRW\n",
       "ZpcANOXnfCs95vcF3yTejcu7gtwTewuKi4ycOo1yNKJ1g3+3c3hzYqgJQDyt+7Luulc0p7Op+wmJ\n",
       "T/NNnOy4Ccrw3xYocjWmh0lV5IksmUrPyluhbwdtapLbOMoNKswBJKXVfj1Au2QN6i5uxcbhZJJ4\n",
       "PwTZWvz/fOqqTIrIzS0sebEwbLxm845wEQyrOD5YprVjLPHHIfabiNYO/Vk5E2tVAbKJMIV9LfDX\n",
       "Socx/WDyv7jPxd5cKnaKFy+ub8kzAB0YVIjh8CA/TW0CWKsk9c+YWki+u5z7p+4YUdXIi/V9//76\n",
       "e+mLmJgO4x9y8czD+SnqWj4VW4CUtqSwgoS1gIHUYIZWTdUJxST6yUd2jv8dYstN5JzSYKp8WRX/\n",
       "uNFP50W6cd6x4NSIoQDV8VRvJ98sf0m0bZ00xxXdouoOkZ2zedI8ZL+tFo+r/NlHzfFx+2crwOIN\n",
       "BHwHOFr2JfLlmvFgYL5e/I0poj4uTrJA4+R3rkKqWGbJPSpdXbavtctT26op9BI2k7/je5a/ecnx\n",
       "uRYb5gl2d2nabF2Aac1AtgkWUQkiMR7ppqria7G1G5XtHJUkZPvi14X4RSGFwiUXjwIp4/WzEk+a\n",
       "Pt4Lk3hz3ts/t8qUy5XiPGb1Vj9EMzWiGHj0dvM/neAqgKG83AhlPLu8RxqlWoVPNheUg1k3oAgj\n",
       "9Yh9r89nHUpRBLL3NeK1/iIvWtxH6TPFKloswC2f9QUVmQ7tOG99ccibv+4jixzy3x/89MSXyb1y\n",
       "LwDPlF936Aa0PGEae8QqypYhEY1oKkGqEgsypRMViNtWbn/8JlznEVVSJtIdXgJ15Sknp/wZFAZA\n",
       "HF3KwJikgFuAB40lmfi/xjuBW52ChbH9nSODPFkHJS2AVofjpct49+fM1zhzxeFxgxjFGwGxPL4B\n",
       "Sds7Vw5GM/5iDFISqw/iDlQwfuXomvdKNbj8IIUKLNMCmDu1baRBNm8Z/9GkSlewTf0LbhFGhMg5\n",
       "5LTN/AvUBNhgwkT71dSuwOmtedUJmSb/10NfnuWSVj2Yq+bf7MovOuZsADe/M4HRIZaY6TE4fE1k\n",
       "/TXPNmkL1NL7vSPnUXjwE4AehxJGEhDIRiqEJ12q5fapLEGHT3Q4V9Ab137S+UTdRNexkkn3efrX\n",
       "4nEqWd5sc1btpEbZxlmDZXVWPVmbC7Utv63nTOm8LI0S/J0zmZOWbE72H0EgEBzUieacDLH8rCk7\n",
       "//o0me/uUq1pN+Yu84O0ORP8qseUN4CNWzFIYpR5xqoK46ulb9oMewhhOpmqlIrC132RXybz3GAa\n",
       "tT9sSjpvlA3n1+5NiemgkLcgWoLWaULT+ViNHyrJX07OwlTpwdSQMK/6JYjcCDpe0/ehtRhJf2b2\n",
       "IlD4oNRyXmv6p/83QJJgxIa/5bYcfx8lf8bzg44+hevtWiDFUq9UUmo08rtpfsJ8UYwoZvmeb4+r\n",
       "e7uHRPrEotvl1dKVQPmKDpTw3DHAu3qPyhe6qTykni8NexEYAT/LoO6ZlIF5VTAneEPzoHzo0u1v\n",
       "rfJxhX1gN5JdIcXQYygonJTpOUaSM9oZJj6BkMhVvMOWK9dqyW14TbbHpJlJgpa6n55+JFve/+zg\n",
       "4v6pvNsGHZIDeeXh4rJS3mGL8/3hi8Qr0r8mTiOx+ZATnVvdLymrqz+W8IxqU7yU49YzdDwmHPsA\n",
       "xDSnGILgtRcV5qUU4sryoggCIntKC46JA+Aveka//wE2W9qISDpVr1CAJLDCAkMT+Z/nxwa/5a4g\n",
       "EkWRltkcv25JlwcwzqYswIV8nznGwKZE4EKFmLn3eryCHKovZYdNXwOuBDrnlGonmAMvPz1CHolU\n",
       "tiZ+HHN3uE87UX8yCzNC7XEAEiPzHrLVvpw7XBzEgWVdBKnGTzPu6cntLxR7h6Xnau2pTNLKKXMI\n",
       "C6BMu10Dgf6VbSVtQt81/BI9ADF9LeynVj6VQ74BtNsx9+A5ONYP7tUE/4Ll0OUq2LY+qrgwXz1/\n",
       "l/vItVTBPi+UUPgqcWFII9A+Ha1Dk1McxEgpqXCemPGriIDcoT33FP6mY1rwGQNB2p9Te2BnXOMs\n",
       "QswPwRVvI9H2xTVoq7GfIHSSOvAZ+T/AGy9HJHK2KWHfv0RldBwqZV5+84Jz2sDLP9CnAjbTs2cr\n",
       "L//mt09U27L0WC7nx4TcCBnF7KzndptcuhugrCXQG/Od9IPV5fS8NDfef+3IWm0dLJcYUT+0XDOQ\n",
       "yZUeONU79mspuIp0BBGM1I++quxQD+891UpHmRR6B/QLgd2u0nfClMPfKO+5e4YUA3L3PmJjEw9B\n",
       "Jp4A/6jVngEzX1UPYz3yVErHvSQ9p7S0iqb65c0jls2+0VXFUNL7eaO1Mp+WtBtATbg8uoLjIjmi\n",
       "stJNYTx/qEkL0mnpZk1HyFMnvUnnNF5a1uCtDo0PSV4zjlLZ6giiIw8tcT78mQYfJDVBtL73MqLm\n",
       "4nhGkF2+EPQQ8+l+utYSomxGL0H9XpfWbzUluNEQ9wQV3+JTLh6z1LURRUilGoC+jxxtXqPemK96\n",
       "mfDkchOPdc7afq/wfcuewqJWpLJd2WLe7qdPMGLhyuc0ooSH/EpY2C8MOTSpNIWXTTFn/KIAZnrG\n",
       "PLBUockb3e17NmLpgA3EUiRgQeX9tLZ1qrF75lkHTzC523QK30fk07am+/Qg9D/ZUdhyZMG15B0v\n",
       "mhVByKhAmwST6JhYTJ0WPLVMjuWwd3iHI9w+KSpt+UIsKFWVRUEGtmpmvz8larkY6zPjQtMtdwlY\n",
       "9kjKKnSwEKx8fsQmD3+bavKqK/HYRoIaywa8nVtnrxvBfBSjTF1ae8edbYwQVDu/matfG6NIq3Tq\n",
       "BBqOlvACy+jiy2jtVminPQfUc6w5F0eQRPhGLfGUECz39in3ZTLIHNeVwgcsM3yO3QB0+87ErV2v\n",
       "ZVrgFUwE/fI8VcTtsswOkxD5YxkbFhFv1j7H4NJbIs3m405cAdr3b3jsH2fwZnMGFVkdEHzdshrx\n",
       "FTj1MeLgnXlEcPXHCTsAervTLLV1TNVoBO7+ZSuwo1smUqCHE49DHgVnYx0HTmFwC2imaE6eLzIm\n",
       "4yH+Yi0OiNl13OUd68Ov1pcUrweAgRAcXpvCZe3Nm+LxzGnyAQ3uPSAjK27/AbJJVABp/44AERc6\n",
       "Pwd6VtADuN/VOG4EnRPoccvh19IkqvSF78b6fQpzBTjh35wbEgJDnJMAAAIFQZohbEFf/talUApN\n",
       "R70AFRZiYHh0uB1e++/sTVHN7sqGswkYTMQYxDER3eO9830+ioFa7BFRpm6UpIRQLSJHIAi8VZBS\n",
       "YKq0QUdVf72wFPQZ6TOsTCtTYkjd96XpZbMdhTyMRuvkBdbjWRL32uRURJ8Q2e1Byzcv5998f3Dh\n",
       "Qj7FoJ9ZJo07Os7OXeU2+MEeSXyTXHo7xDgDdI2qS08nDxCtjEtmxTSKMgzeCNWWuEWWfU3a19Vt\n",
       "LY2Y5I3/9GFZimJfpr8cEV+3z646N+TMdtbm6In2hqldqDeSuVitlvQIZWep6kXXPgad1G4DGZ9w\n",
       "WXCJxa2gQhfVZEn752dU79ImOUPWj4yUM4VYARVGI5xdFL/TNF15LfnLwCP41WQiUdVpaTftBu+X\n",
       "OI7iPcjKcPTy1GHT/QgVU+3iOYRna9UpsjRQ+sjjDqLZEyNDmrKzvNB82Tw9o10JFv8yGkGpI/nP\n",
       "Sk6aMJi9VsbqUwqq5Ye2NP1m87fsIxV7lxJXruBLIC1M/UQIJZfOam5cUJ9aXxd3PMhL2/6YAbz+\n",
       "E2tnUVd0nG4WSNbfpCgnF0syarDilWoeD9rjtmWfAItfRCGPHp1OIFQ3QpNJWo4Dowj0s74DbfoZ\n",
       "YjvEl2geL48B2hP/IVT8gv9IFc5PzqgJIBnMbK5WaPBrkT/4fv4gzpgxQR6NjsXeQAAAAyZtb292\n",
       "AAAAbG12aGQAAAAAAAAAAAAAAAAAAAPoAAAPoAABAAABAAAAAAAAAAAAAAAAAQAAAAAAAAAAAAAA\n",
       "AAAAAAEAAAAAAAAAAAAAAAAAAEAAAAAAAAAAAAAAAAAAAAAAAAAAAAAAAAAAAAAAAAACAAACUHRy\n",
       "YWsAAABcdGtoZAAAAAMAAAAAAAAAAAAAAAEAAAAAAAAPoAAAAAAAAAAAAAAAAAAAAAAAAQAAAAAA\n",
       "AAAAAAAAAAAAAAEAAAAAAAAAAAAAAAAAAEAAAAABsAAAASAAAAAAACRlZHRzAAAAHGVsc3QAAAAA\n",
       "AAAAAQAAD6AAAAAAAAEAAAAAAchtZGlhAAAAIG1kaGQAAAAAAAAAAAAAAAAAAEAAAAEAAFXEAAAA\n",
       "AAAtaGRscgAAAAAAAAAAdmlkZQAAAAAAAAAAAAAAAFZpZGVvSGFuZGxlcgAAAAFzbWluZgAAABR2\n",
       "bWhkAAAAAQAAAAAAAAAAAAAAJGRpbmYAAAAcZHJlZgAAAAAAAAABAAAADHVybCAAAAABAAABM3N0\n",
       "YmwAAACzc3RzZAAAAAAAAAABAAAAo2F2YzEAAAAAAAAAAQAAAAAAAAAAAAAAAAAAAAABsAEgAEgA\n",
       "AABIAAAAAAAAAAEAAAAAAAAAAAAAAAAAAAAAAAAAAAAAAAAAAAAAAAAAAAAY//8AAAAxYXZjQwFk\n",
       "ABX/4QAYZ2QAFazZQbCWhAAAAwAIAAADAAg8WLZYAQAGaOvjyyLAAAAAHHV1aWRraEDyXyRPxbo5\n",
       "pRvPAyPzAAAAAAAAABhzdHRzAAAAAAAAAAEAAAACAACAAAAAABRzdHNzAAAAAAAAAAEAAAABAAAA\n",
       "HHN0c2MAAAAAAAAAAQAAAAEAAAACAAAAAQAAABxzdHN6AAAAAAAAAAAAAAACAAAbmQAAAgkAAAAU\n",
       "c3RjbwAAAAAAAAABAAAALAAAAGJ1ZHRhAAAAWm1ldGEAAAAAAAAAIWhkbHIAAAAAAAAAAG1kaXJh\n",
       "cHBsAAAAAAAAAAAAAAAALWlsc3QAAAAlqXRvbwAAAB1kYXRhAAAAAQAAAABMYXZmNTguMjkuMTAw\n",
       "\">\n",
       "  Your browser does not support the video tag.\n",
       "</video>"
      ],
      "text/plain": [
       "<matplotlib.animation.ArtistAnimation at 0x1cfac759188>"
      ]
     },
     "execution_count": 24,
     "metadata": {},
     "output_type": "execute_result"
    }
   ],
   "source": [
    "# Define plotting extent, then plot as animation for clarity - CUH\n",
    "KID13_nov_extent = rio.plot.plotting_extent(KID13_nov_proj)\n",
    "KID13_feb_extent = rio.plot.plotting_extent(KID13_feb_proj)\n",
    "\n",
    "fig, ax = plt.subplots()\n",
    "im1 = plt.imshow(KID13_nov_proj_mask, extent=KID13_nov_extent)\n",
    "im2 = plt.imshow(KID13_feb_proj_mask, extent=KID13_feb_extent)\n",
    "\n",
    "ax.set_xlabel('X (m)', fontweight='bold')\n",
    "ax.set_ylabel('Y (m)', fontweight='bold')\n",
    "plt.colorbar(label='Elevation (m)')\n",
    "plt.title('KID13', fontweight='bold')\n",
    "\n",
    "ims = [[im1], [im2]]\n",
    "\n",
    "\n",
    "anim = animation.ArtistAnimation(fig, ims, interval=2000, repeat_delay=1000)\n",
    "plt.close()\n",
    "\n",
    "anim"
   ]
  },
  {
   "cell_type": "markdown",
   "metadata": {},
   "source": [
    "Excellent! Our DEMs for each site now match. Let's difference them and plot the output:"
   ]
  },
  {
   "cell_type": "code",
   "execution_count": 25,
   "metadata": {
    "tags": []
   },
   "outputs": [
    {
     "data": {
      "image/png": "[encoded data removed]",
      "text/plain": [
       "<Figure size 432x288 with 2 Axes>"
      ]
     },
     "metadata": {
      "needs_background": "light"
     },
     "output_type": "display_data"
    }
   ],
   "source": [
    "difference_KID13 = (KID13_feb_proj_mask-KID13_nov_proj_mask)\n",
    "\n",
    "fig, ax = plt.subplots()\n",
    "plt.imshow(difference_KID13, cmap = 'seismic', vmin= -0.2, vmax=0.2, extent=KID13_nov_extent)\n",
    "plt.colorbar(label='Elevation Difference (m)', extend='both')\n",
    "\n",
    "#ax.text(0.175, 0.08, 'B',fontweight='bold', horizontalalignment='center', verticalalignment='top', transform=ax.transAxes)\n",
    "#ax.text(0.175, 0.3, 'A',fontweight='bold', horizontalalignment='center', verticalalignment='top', transform=ax.transAxes)\n",
    "ax.set_xlabel('X (m)')\n",
    "ax.set_ylabel('Y (m)')\n",
    "plt.tight_layout()\n",
    "plt.savefig('Difference_KID.png', bbox_inches='tight', dpi=300)\n",
    "plt.show()"
   ]
  },
  {
   "cell_type": "code",
   "execution_count": 85,
   "metadata": {},
   "outputs": [
    {
     "data": {
      "image/png": "[encoded data removed]",
      "text/plain": [
       "<Figure size 432x288 with 3 Axes>"
      ]
     },
     "metadata": {
      "needs_background": "light"
     },
     "output_type": "display_data"
    }
   ],
   "source": [
    "fig, (ax1,ax2) = plt.subplots(nrows=2, ncols=1, sharex=True)\n",
    "\n",
    "im = ax1.imshow(difference_KID13, cmap = 'seismic', vmin= -0.25, vmax=0.25, extent=KID13_nov_extent)\n",
    "ax1.set_xlim(4992,5002)\n",
    "ax1.set_ylim(5034,5040)\n",
    "ax1.set_ylabel('Y (m)')\n",
    "\n",
    "ax2.imshow(difference_KID13, cmap = 'seismic', vmin= -0.25, vmax=0.25, extent=KID13_nov_extent)\n",
    "ax2.set_xlim(4992,5002)\n",
    "ax2.set_ylim(5014,5020)\n",
    "\n",
    "ax2.set_xlabel('X (m)')\n",
    "ax2.set_ylabel('Y (m)')\n",
    "\n",
    "\n",
    "cb_ax = fig.add_axes([0.75, 0.1, 0.02, 0.8])\n",
    "cbar = fig.colorbar(im, cax=cb_ax, label='Elevation Difference (m)', extend='both')\n",
    "\n",
    "ax1.text(0.07, 0.95, 'A',fontweight='bold', horizontalalignment='center', verticalalignment='top', transform=ax1.transAxes)\n",
    "ax2.text(0.07, 0.95, 'B',fontweight='bold', horizontalalignment='center', verticalalignment='top', transform=ax2.transAxes)\n",
    "\n",
    "#fig.colorbar(ax=ax1,label='Elevation Difference (m)', extend='both')\n",
    "#plt.tight_layout()\n",
    "plt.savefig('Difference_zoom.png', bbox_inches='tight', dpi=300)\n",
    "plt.show()"
   ]
  },
  {
   "cell_type": "code",
   "execution_count": 79,
   "metadata": {},
   "outputs": [
    {
     "data": {
      "image/png": "[encoded data removed]",
      "text/plain": [
       "<Figure size 432x288 with 2 Axes>"
      ]
     },
     "metadata": {
      "needs_background": "light"
     },
     "output_type": "display_data"
    }
   ],
   "source": [
    "fig, ax = plt.subplots()\n",
    "plt.imshow(difference_KID13, cmap = 'seismic', vmin= -0.25, vmax=0.25, extent=KID13_nov_extent)\n",
    "plt.colorbar(label='Elevation Difference (m)', extend='both')\n",
    "\n",
    "ax.set_xlim(4992,5002)\n",
    "ax.set_ylim(5034,5040)\n",
    "ax.set_xlabel('X (m)', fontweight='bold')\n",
    "ax.set_ylabel('Y (m)', fontweight='bold')\n",
    "plt.title('KID13', fontweight='bold')\n",
    "plt.tight_layout()\n",
    "plt.savefig('Difference_zoomMid.png', bbox_inches='tight', dpi=300)\n",
    "plt.show()"
   ]
  },
  {
   "cell_type": "code",
   "execution_count": null,
   "metadata": {},
   "outputs": [],
   "source": []
  },
  {
   "cell_type": "code",
   "execution_count": 4,
   "metadata": {},
   "outputs": [],
   "source": [
    "# Define datasets\n",
    "MEL14_20220309 = './MEL14_data/MEL14_20220309_proj.tif'\n",
    "MEL14_20220428 = './MEL14_data/MEL14_20220428_proj.tif'"
   ]
  },
  {
   "cell_type": "markdown",
   "metadata": {},
   "source": [
    "We can open the datasets using the [rasterio](https://rasterio.readthedocs.io/en/stable/) package:"
   ]
  },
  {
   "cell_type": "code",
   "execution_count": 5,
   "metadata": {},
   "outputs": [],
   "source": [
    "MEL14_0309 = rio.open(MEL14_20220309)\n",
    "MEL14_0428 = rio.open(MEL14_20220428)"
   ]
  },
  {
   "cell_type": "markdown",
   "metadata": {},
   "source": [
    "Let's look at the profiles for these datasets."
   ]
  },
  {
   "cell_type": "code",
   "execution_count": 6,
   "metadata": {},
   "outputs": [
    {
     "name": "stdout",
     "output_type": "stream",
     "text": [
      "{'count': 1,\n",
      " 'crs': CRS.from_epsg(32610),\n",
      " 'driver': 'GTiff',\n",
      " 'dtype': 'float32',\n",
      " 'height': 81164,\n",
      " 'interleave': 'band',\n",
      " 'nodata': -10000.0,\n",
      " 'tiled': False,\n",
      " 'transform': Affine(0.0011500000000000236, 0.0, 4984.383,\n",
      "       0.0, -0.0011500000000000004, 5083.1766),\n",
      " 'width': 16570}\n",
      "{'count': 1,\n",
      " 'crs': CRS.from_epsg(32610),\n",
      " 'driver': 'GTiff',\n",
      " 'dtype': 'float32',\n",
      " 'height': 82267,\n",
      " 'interleave': 'band',\n",
      " 'nodata': -10000.0,\n",
      " 'tiled': False,\n",
      " 'transform': Affine(0.0011000000000000209, 0.0, 4985.6574,\n",
      "       0.0, -0.0010999999999999998, 5084.1489),\n",
      " 'width': 14891}\n"
     ]
    }
   ],
   "source": [
    "pprint(MEL14_0309.profile)\n",
    "pprint(MEL14_0428.profile)"
   ]
  },
  {
   "cell_type": "markdown",
   "metadata": {},
   "source": [
    "We can see that while the projections are the same, the resolutions and extents are not. To be able to difference the DEMs, we will need to ensure that they are the same projection, resolution, and extent.\n",
    "\n",
    "We'll load the DEMs as arrays and plot them so we can see this graphically."
   ]
  },
  {
   "cell_type": "code",
   "execution_count": 7,
   "metadata": {},
   "outputs": [],
   "source": [
    "# Read in the DEMs\n",
    "MEL14_0309_np = MEL14_0309.read(1)\n",
    "MEL14_0428_np = MEL14_0428.read(1)\n",
    "\n",
    "# Mask nodata values\n",
    "MEL14_0309_mask = np.ma.masked_values(MEL14_0309_np, -10000.0)\n",
    "MEL14_0428_mask = np.ma.masked_values(MEL14_0428_np, -10000.0)"
   ]
  },
  {
   "cell_type": "code",
   "execution_count": null,
   "metadata": {},
   "outputs": [
    {
     "data": {
      "text/html": [
       "<video width=\"432\" height=\"288\" controls autoplay loop>\n",
       "  <source type=\"video/mp4\" src=\"data:video/mp4;base64,AAAAHGZ0eXBNNFYgAAACAGlzb21pc28yYXZjMQAAAAhmcmVlAAAinG1kYXQAAAKfBgX//5vcRem9\n",
       "5tlIt5Ys2CDZI+7veDI2NCAtIGNvcmUgMTYwIC0gSC4yNjQvTVBFRy00IEFWQyBjb2RlYyAtIENv\n",
       "cHlsZWZ0IDIwMDMtMjAyMCAtIGh0dHA6Ly93d3cudmlkZW9sYW4ub3JnL3gyNjQuaHRtbCAtIG9w\n",
       "dGlvbnM6IGNhYmFjPTEgcmVmPTMgZGVibG9jaz0xOjA6MCBhbmFseXNlPTB4MzoweDExMyBtZT1o\n",
       "ZXggc3VibWU9NyBwc3k9MSBwc3lfcmQ9MS4wMDowLjAwIG1peGVkX3JlZj0xIG1lX3JhbmdlPTE2\n",
       "IGNocm9tYV9tZT0xIHRyZWxsaXM9MSA4eDhkY3Q9MSBjcW09MCBkZWFkem9uZT0yMSwxMSBmYXN0\n",
       "X3Bza2lwPTEgY2hyb21hX3FwX29mZnNldD0tMiB0aHJlYWRzPTkgbG9va2FoZWFkX3RocmVhZHM9\n",
       "MSBzbGljZWRfdGhyZWFkcz0wIG5yPTAgZGVjaW1hdGU9MSBpbnRlcmxhY2VkPTAgYmx1cmF5X2Nv\n",
       "bXBhdD0wIGNvbnN0cmFpbmVkX2ludHJhPTAgYmZyYW1lcz0zIGJfcHlyYW1pZD0yIGJfYWRhcHQ9\n",
       "MSBiX2JpYXM9MCBkaXJlY3Q9MSB3ZWlnaHRiPTEgb3Blbl9nb3A9MCB3ZWlnaHRwPTIga2V5aW50\n",
       "PTI1MCBrZXlpbnRfbWluPTEgc2NlbmVjdXQ9NDAgaW50cmFfcmVmcmVzaD0wIHJjX2xvb2thaGVh\n",
       "ZD00MCByYz1jcmYgbWJ0cmVlPTEgY3JmPTIzLjAgcWNvbXA9MC42MCBxcG1pbj0wIHFwbWF4PTY5\n",
       "IHFwc3RlcD00IGlwX3JhdGlvPTEuNDAgYXE9MToxLjAwAIAAABqQZYiEABb//vfTP8yy6/c5teOo\n",
       "96KeJl9DdSUBm5bE7TqC53zVEl58HMAIhgRf+MAiZu9YYFaq3zLETpKocMEOmywze1ugwjqZoF5J\n",
       "GWWGpsPGkGtY0hhXUHWds3I/BAg487f83Fy328uklvJ8AJPtaf5x2aE2C+SsXCuBdFicvx6rjkg7\n",
       "82ixFYfDRY8gkggSbapurGwRR5xTZXVRLQAAAwCmxRJ7zVnWKrW/hP/DSxhCZEZLwnhypL/wbeBM\n",
       "CNU5bOGACO7iXRQd5fh3EP3z4dWxSTw+/uVuJNgPcL/nql5xNIux9EY7aVmZMDXWRLieQ6hvNGvX\n",
       "bGRFZSOw2MopOKx/wgS3d2NPoluLHiBhFOkSbZObJhBW3EWgfJYwy4+O1fRI2SRsbMrjI4ETdBKI\n",
       "C5aA47/gA+q40z9fhs1y3/iOPRJdpEXfT7x8EDFmH8akgRCIlLGTxax3+AKicf8Ccl43gPsK7JHB\n",
       "PHfsgmqSIsO/W6V3b+hWudTCR5fkchpt53fABbojWv/ApaMmvFvcYxXYwUGfvgp5RUa1z8J/rljN\n",
       "GFdu0PeM5pEIb8Ce9tUsdV1VBKEhWv+Za4aSMHs5XAVKKqv6xPdK/GhHdJOmx7xX79mNBn+TgbrA\n",
       "9890u3qO6zSvZDhaG1CvuVSfxzoGQUxAAsYAAsJYcpr6Vrd+ip3alI10CwBKl7JU4AyKMNuappYx\n",
       "9TeSv7lU203Vg0X/wfR2hndVR7HC5nh35MRJUB9LOdu4PIrAbzXJmZ0jZeRJJvNoNun+9H3vfDXB\n",
       "VSUGh70yDu/ttKZ4FaBOaM3Hu6l9B/v1mhol8TPQ/gNBUJj/Qr7/jSA3i/glNxdjgBIdBGsAJfHe\n",
       "GLRTVqTMcGSTT2v+VSEBt4rVQk8yjI21goO2BqmYsI74hoChRrrWecMY/0674zyNpJzDKJd4J8ko\n",
       "DZm8+w2SxQdHW/2a8WD9NQo9QFipJxx42xvBJSar1yo/gtucS065uxdgBRMoLXS21pd5fkdNN4X4\n",
       "gaPqZlQoyYFBOznWyI2Iaqy9goQ16NjB3IfzegwIxboWdVxkRirHIyusWFSPrhqyzerpUyPHasY6\n",
       "B/7S9jkr56kxzfZsmD8+XD86X870sx62K/l2sGi+QnJqYjVxblKzQMMmtz4hInGatyr8hkeK9z+q\n",
       "I32WPOYHWjlCX0r5Nb7sK3obqwyLSobhdSk2gGniN49LKk2Hay3Od16AIS28OHRbgAN66LMOVkek\n",
       "8NKVW66nAuc+fSE9fV2+JlzIakfMNHdUMTm8oJscAzsEoaeKPrvPwBsnrLtJW4X4hanimZXH2IiH\n",
       "QtE99ZwNBTsUFPGfoMlWZkj5nb0BKKPM32ub9Vs5oe58Vp0nmiaLqTBhI3LPnYmsduY/gBUERAk8\n",
       "Fcf7GPQnkKmIUMQLjokuxUpsqC9YlIrXnLTZ6s3oaV/q+KfHvjPAVVmojV+DrHVkUbMuyFV0EpYK\n",
       "aKEkrZqhrJlS1BCaoaXx6wCtDos0X56qn9UUnG5TSNRVVPgxr3mWqogY7ebGjqawEK8NV18wddlY\n",
       "WOIt1KDRXeiZBVQcPfFKROzi0VVkyEgLyZJ2sltlO2CybQzJtMq7OLai/VpcabJDPDIhMpz1rJZD\n",
       "TIA8S4dRax8a0+B3YkUq1mBJaHqm9HI/Pex7ZMjOyPyhVHRPbU6sKjsHiVXBQGRMmuukcO7R5lxD\n",
       "/TzByC+Tx3juqV5l7YmrMcYzyzGFWE2AaF5v65DuZWR9NC2X59y71bM/KT3ob89ncYfXPmgOfd2d\n",
       "pGgmJ5nRBbFbgs004VvY0BIkbzrDjuqaE9cxJR1j9ukpQ6XN4ODHuk1sfkzT/yYH9QB716wD3iQ3\n",
       "etJv0/hvT06vf9Ict/uq4Y0pduIVZviMyETyEDy4amFCYpPmQm89BeQGx55FPV7e/6n9C8BDUFYr\n",
       "DokGIAQg6mvuOOI/2+Hqn+FyBaKVCzURHE2KUH1iEIG8wM21A8OyONOTmTbiHPfM5wbWgDcZF8XC\n",
       "4pvNTTxJdfVoXCus5sokwSwbM1YDfVHTxd3PR0G6DeK/Nx6r5tReFgsZB/Pdkzx09l4Z9qp/eMzQ\n",
       "pMT7MtoF5F4jg35R/ok9XbFez4LhU9GiyOD8cQmSzRtRrwKf4YkXtcTsvtZljT/OojutvMNZPxDl\n",
       "Aev3mridrnRbYn50oMnOoBxAMee98Me0ji7b75dZrXe4MQpjcSgNGQbPVw2jpMZu0P6XHecEQLhh\n",
       "DQ1EQWFJ3MgDTNW0X4Jp979WlluimmBP21dVtU+h8BGxIlS1uj+XZH/+23sYomwI3KlNJQ8Ks3fs\n",
       "J8RfEMmu6MyOuMw5ErD23+YzXHzLwp5XaU0t4+EvF5ekESUv7BaHInm/bQqIptCVuvW+6zlSh80G\n",
       "oRVA0cX1JTy7jk1VVclgjI2qep8GHT3/eAT+kqRYKbFw+sUlib2JzQaIm0AHI5zCeugrAa5VV8L7\n",
       "BEkWHqtwZav1AOxz8WJ9QviR9PlxlWElgxrjkRQuU758nT5IRpSJ8t6CYPgYnm9sc+ZtP2VXVy40\n",
       "CotRRzFBqn2xttrVBiEga3XrIdYYKg33asXO1I5xd6gGSaqKry+N8Xy+4w6SEog4yGn/y6kmhimq\n",
       "SML5aoFPJHYb0ElEhu55yKJ4M/rS4wmeYrX4RetE7VYWKzvqaIIbWZWLo0uk42OWxvXe0zB5CdZS\n",
       "EoWFbT3cjczFfocb8XPyeZnfp2zWQATnnsym31s1KID1xM8w2aXm3ZBHTrzh3Nf2PU2zTsiSCqsY\n",
       "9sOxbzE/UIEN0XS6SfWEk3LrK/iejFGg4fQP4jONqcoBsPbQSSMjXl1GFXKganqmIcYojgmUvlpN\n",
       "S5T0esd5jUXJSlG3YNic/Iq3VfVEuYERyIHH0ICn9kpDdaH9iUXecAB9LXoi6AamUoLayOfJuuKo\n",
       "8oaGPjqkD1E+WsSNN05wMcxOfDMkhyxkDwzSO/5T6rIo83D3TZ8oKsNsV9AoDyk5gfMC7Ntshkud\n",
       "eUeo/Qmda5T1qsLNmeqtt9f0IVNPDLUD6vTN0kJiORaK5+Kkhcfq9kCzKfW/X0qj1fBNasy5tRk9\n",
       "TSB/JnCn/dfU5jlQgY8HXAqysVRiaNITT156qdZOHRKBzhdOli/AXLpHnLcjU4XAGo83TuQQTZYq\n",
       "vkAcXcrFDxwBY+LGeV+P7ZxpCAnEZj+0Q8prQo+1p5HwrvkaRqQbk7u1lbhxc7k4r9IiVWxZKBLb\n",
       "vtDGoDLWtLCQJl6GdUX0JmI++pLa8b6VXaC7FonRas/SWXcZXsnATkR9SSpwrUH2/6M3zqp/fIJT\n",
       "o1kq2JrMyUqZ7iCQ1SIwyYNFa/Z1Q5EHf75DQNWJ4z31i574Zm3nJ+MvetQyuwrlHQ1XNcWA7yle\n",
       "mHxJQYjc9sJ2Ai4w8gZ3rSv4quTabnfrLLxHFuAoc1zGkTtNErithFSN986Q4sekCvBBEWGHRF+/\n",
       "CNH4wk0rEc6qxpWUC0PBLFKy0KJKiMALem8S0XxBw69bIj2e5NRaR0V+rOsYvw7cnZMxFr1nx6bw\n",
       "NcGWFqdF0xQUomhDuhMe+95XHLJ/YBJO0hojPORZhnYDXMRMrCMuK9Rvw0cjM3kEpJBaDnr8Jbnh\n",
       "Iy+hzEcNn2iVcG+vHzDjnbMef5mfbCikanciQSsIcKddDQhTN8EraxuDCQUCQqVfR7cdkG/AdmtC\n",
       "EXfTs59sP5MZPlYsRu+nHdVe80n0lIr8aqJrCHDLL2ZReQPoe/L7jSIcqLnWQVkrXPQW0t8iTCyI\n",
       "RMwbf4N+7oyBcRyfF49jo1XhNiGcsJDxjRYH24jVB+W8J6HaMp0MNlmiN6rthm6ZzVsCeCKpyhhD\n",
       "Fd+FQFiFdISnoucf0zdJDz5+893Cmb6R8urEMDBh5rvhnvk7gpORhQNhdFcovsYNMp9ItrRIro9t\n",
       "TspQXEDerovVJSp52Ifi+vbivzi4XCaeLmfA12u9pbhITPO4G8x+cSZfvWO0SOjrs8QSmGKoMnv4\n",
       "NH/BH/ByWy+/GzMkhPk2VSoKBR/A7B19noLzqrFc83orcUlnIpFMTsfNlBOwofq7D0h7KhnkT5wM\n",
       "0OhROLsPsOQNv5lnTLyImBjSYHKV8RJNd7BqZSFDJ2ianzTAvoJQFXqPyrUTm4WZlvZRykni2mm+\n",
       "GYMGKuv7O5TBqMEISPrRQKwQZfW7Jx8AIdISqJOYjBTydFf11BtMO+XAhLyYfvF0Gkrj90YvFaQu\n",
       "vni/niV0wHRN1Y8aV169Qd61wK4GzB+XKUoA/6KAiZiReCHtqc7n7+wclibvgK1UZ7NETcf9zC9T\n",
       "YzFqs7FCi2QuFn6csziIHlL1m/Veu9Gizu73x/J/ZVaVdaNyIgxnEQrXLdF8p7XlGNlC6piU4hvV\n",
       "OJffn7w8A3Pl9LLeIAWiCXZYlKGFoRqrxeZsGYl9pnLc+U0QJ0vl4EKIZAsWNwN/KZPGllTfkvOD\n",
       "tgUKhvQcc4m+416yuYGrzIJ+tM1c4MR1p2EmwmUE221heKt/JYa3DaH4J+ZcFuUpihgmr2duCQIU\n",
       "fp3rHflKzA6kABE36aw4ChnlkKV4R8UuZU6muH19N8Erx1PQTswIJcoYjLcFR4NY4wA5SpjBTpwA\n",
       "xgs3D7YEyFa3e2qdbwvlkZ2qK8R9x7OOD0vLKPj7V+Fu2gTDRtxTbRgm0wqJL86q6LSeZWc00qXq\n",
       "Te9LKWY5NSI57Hlg0QN9+WCe1g3nM8usVbf6fxSeGVd70DcJhPARevSYV1tHrAA/00nifHNKKpoc\n",
       "f2BWpgSiIPs4R2RQE/6/xT4IJN6IlFsJGvyobbWVmyxnEX4meF0tMT6CtPmWgUXVS9rHC0/0x+Io\n",
       "KVtRBfMRY6XJ3HwblK1s0GoXtOcSQJtoAmHMJgJd/HNDOENyiwtHqh4qfQp2q/jCh3Ctf4kDXHLO\n",
       "fHSXgjuSyvA/qqzAiBZRaLO+V2q845DewKXOv0L9czOiGHxP9J45aqcLsd7ao9JY/p44Hlcx73z3\n",
       "+CCwfiX1j+U1dMUQS7ZfP7FYsPAT7nROx27Ou7xStDBAEUZxjVTAUdRJFgyx2sAcA4EsdTAyZd3S\n",
       "PaLADEhIrffR7DtQBFbWdOmUGxibRPTTk+rszFMyPcq6S6LtfQ/gypJGD7epCZajE1bz519FzkGz\n",
       "SBMUzkaYS8if8589UvnjBLkg3DWooJYBiI4zrCHPaRj4c81UNUIIuC7WtgOBNpjTwJuzPop3BU0q\n",
       "OD5f3dDnT+9l2ZWQ96wVG74yQthNiPpHdxN1YPo+h4QiwnHvXWud9VyrXbhLg+9R0hChNtSyBfKE\n",
       "BJH10eA08q/8ATlw7sSCUcuEunH95dBv683IucD44dnB31We8N70AI2Uwj0eDgu/79v3rPSnezlX\n",
       "XiY3gq7SnA479zpYAgW9h3ClG5MRqKgCIOztS8ZZ7IsCNOw67xSC/cA7+K0vm5KYPxfhCKbiRv3n\n",
       "VThegTaqjrAIA7krq3NfiMAkN5sbRIGR0sKgemp78JszQtVmApHkyyxtTVHdOH3aqZoH88L33xyE\n",
       "Aq4G/UqmySj/rbD4thSeAdtY16HNQllvg75lXobdtIs9LH+35dpq4RMDkcGeLIPt4MJgQGmnwLWE\n",
       "hKNX4Lz7HZoHfLI6z7GmzCc/ft7kr1UK3mb+33hPbx4rugV/xNiS4DtFHTSFLunlE6koq8m6jAGg\n",
       "G2s2DCC/QGVJ3vbb4YZQDaJZk/q/Ov+Nkrk07ecl9+sXDo7YijLovZYiUZuwJ3rK8rIrszqXA3QB\n",
       "QrRQHB5h9BV2hJGfLhcSxWkIG81P63Zr3WoGY21rTFpMFt8vkmuPXwoMD6Se8va9rc/MxfdceJMJ\n",
       "uvZYedfJP8SGXxxUmHEuT7T6KBagM44du0+EwENW6M1zQK4ISDXmV4JKu2hFPKW3+Wdjm2KqqqZo\n",
       "SyucUt0zuZ4Lvu1mEAiBdnNTakDhBXpGcaLtrkuy+j5eN1eT9kqpqo56/kw628f7f+ul7MZ3qvOZ\n",
       "dJxsctjeu9pKYVUYO28BtodfTygDdN0frVVOf+kmseS9znHwvjpwN98b1LBpvQL3nTN8fYXNWU3z\n",
       "c1/Y8KFXP/9iYC/KlXiTGQRJ6CG6LpdJXkQVM4EVKJ/DyvI5TXJBG1OUA2HtoJJKN9CXTVdpBsR/\n",
       "8MzJ3dfVxrrCREw4ZUfbELEoLyXpp8Ny2fgQD6MTE9zzTmb0KxhKzWUSH53+9vVoyqdvKDnMl7dL\n",
       "FOBdYxnHzW6p7tI6jWtDh/vNLdyBxS/n/esUUOpvTPvrBL/VHXL7cUHX9UOkBEtjkv6OdJFF4h26\n",
       "i9hMXhsaA0u2N3MVEAF9PnprMPZM8r2pYJAAMbVJf8wKUI/4Cbjw9yOhQvTWBD9Q3cNr/ITBMvvL\n",
       "21dYsbi7Jk7EkEMFq5Am38pLbkn2rPk2J8ppV3QnIBOCKeTBA7kP7CZZiToNla5yDa+Rqm08wN1W\n",
       "HvAmQ5d+eFZ8JwEapXN0A8buPKtFijGiIyQrrsis/UyW/WttJNvtFIP/ZgGMnDqNcjSifRDRh+CC\n",
       "/cyJ+8QKCQNAZAZHLWRUAz3ttMg/vkrE/pGFPZgQZrt6ILRCiwcQ258YNC7LtXiMDWtU2GSJxxsT\n",
       "JPrPC+arPzqNc9ouv3cSoD59/fsYbNeke/C0uMJqSS+IRXSUUW1VyyXK8SseAztvFfgBh2hFXahF\n",
       "OCckvxTFj1r/ewsKbjnyC0n8BM89uSLwL4fSbPB0CEWJhmbr4sf4QCaSKsXNlMPCPIvv+2F4NZSn\n",
       "9ArdVvuBibEj8b24ZTkEYxR42WWw2qvIOh1aKtR1aiIYOkJnOhqLrq39WtLgpZx9QyufRqfu7B1n\n",
       "CEphNHoBfQ/gBQmXPQlLYZbtgfFSbFFzi6qUaksj2h1t72si1ws8Rd5kxABqH1gZfdLNYnhlk6sm\n",
       "aQRyOdXyGAs9je+jVOsPKMSk8rVAV3FSCoatRsnKXMxWSrBbi09UxzV/z9pr3Zs/obC6riQx/yBn\n",
       "a6xK4hEmK8uIWkwwCCLzqP70XvJUpNtMgKHr24fWxvSaAjjAxUB0X9ONbvEoHc53itvsT3kipqhJ\n",
       "UW7HddBBurXuNTciwwq/JS5hFkRZUQJpgKXVuuOrPT0tHMCQ5gnsdnFDF0/IZDGfAz3YeoYkAhYP\n",
       "2fQw0wuT0FKp7E3IPexSAwxcVtncwNin+ZyBYdYudjckf2L2Il5bOxsdQ3FszBqSwF7n7YjSmZ/6\n",
       "7QNqxghQJq3VFUCgA9XjW7L3u6KF2JWBPj550/Y8xCvnLw83Lnv7cT+gVkRK25cwBE3bTJqJp6I9\n",
       "ih5rvXXsrp8MunYewJQCnNtiXH93n+AyWp6ZDO2m9eTjB2faF8Xjhas0J9QTDLRhlPbsdIMzI+x+\n",
       "8EgoE42CL4L3HzXf/Q7rc27GZ7gzBioKNAuzgTGvi3sUA1el5fFD7tunV5lhrjpxhbC6msxNvzyc\n",
       "VcI8/LHeM17M0bCk1/2Absz+K2N/vxp61F9OnjlbJU65+lCJME1pECibddradenR0UOaF59p1IH9\n",
       "BgRyTKwD6VF4foecUe+4RPajskXX2hZzFNchA/WaAFCj3sZPRaipn20twogkX6TPvNVrhbxavXms\n",
       "qCUIBBblGwYjP02WZ7lJDDVHlgtTFi78LgGUtuURigsjOiubtAb5W6i5KUQ86wf0FKDBiqQbQF5a\n",
       "CfAMpZmkt3R6qhLlsUWwP1MPOWFhMJhg74APXb9+dajBG4USMS0mSPScbiQ9da0GGUhZKMEl/LPX\n",
       "mX85lc9Ce8yGesDlM+j4/KZ/qetLaMscRAs8dMr1BhXTk5tBSDti0o8lFhbFfDeUcM8Mxw19tTPE\n",
       "bwqdirJPD1I7jiM9OgjN+w3tYOXyfR+g+WDjD2tLHvUI+kFSk04fEQZGTLuH+iVHVSwuTo7J2HfJ\n",
       "mHBYDstKvyDXsJp8t6txcOPrNzuW/kjjLPJq5njZzmtvCH4sQ5yW5CsUAxyT/ngIaM0SEaDwywlC\n",
       "VC0k+oVhNQa5YedU+K66BCg3DIcdFx2czvnmD5tw/0BXdj5jGefL9cf/ndCXHW6uFj+rWMz9yN1w\n",
       "82OJ5WXDfPX3bTumPdVr/UMuQlzcuh3Qsw2iu/JNFyMNFKiojUhLu7ir/vQk5sCc5wM+773Sr/Ko\n",
       "fbLtxZDAjkAhamBUBMq5feLkCGv/EZIqDUWKCDAFP15YMg/mMWfXmR2YTcpm2K2wC66pVdwa0s9x\n",
       "jjMHp0855Ld0HYQhUjh03YjHg1IuIjyYQMfXzkbUKlBRXMpyHA/KTbLmCpm6Pw0WWBuntWRLmZVK\n",
       "y2/UNpGrEVUDVRixakq0KWyBUYxegStGJCdKIxbMALflwPCfbLnYJqXWKbmSdQHVkF8Sd8eL4Kox\n",
       "6SmPkBBmQqkW6ffKVwf79mCUB+s1gt9eSYvVDOxyQPH4Hmb4LihUa/Kgqx5rW7cw82wT///sn+A+\n",
       "qgEHJLWfA93WTcMrzMLdTqYSMN7m9IH958tNdyk0PkCFG6LtPsRwUjSxMpzapJ3tzpCVxKd91taW\n",
       "NNC4IqDcyzcohAcBvZD4asilAjjF9VQ3RrdvzDt6LCQf+9jAGfm28IFeFtnmzqWQsyaicSFXehSs\n",
       "4iYQ/OTl/ZEKcEP+wwF7IHgFNRsOtvEnAN8dINdFJlJBD24vhokQ3+6946KMfzOAcl4hJKbB3l+H\n",
       "cQ/fPh1RrRUMk5eOKI70lK7214pvNVkLhGShwLFVZ2SH1WQMQ0PUU/tIm3b/MNm8uPcR76d+kVJd\n",
       "aft2DSmPhVh0ilvk1PfiGD1l2ct/TnVWTNV9CTXraOAn3H1EaVfYsoKCceSRoXZIfimyAmgK1BZx\n",
       "xQdpAz0Z1ag34V4ZdgPiC4mqg2ZKz+AmbPWK4Ne1dvd0Xx7hQbq+Oqv/2Qci265ThC7H/JgvfUjN\n",
       "77UvMYQss1Uw1Av8Md2pHcBBYJjqtjH7uyrc0N9xqmOSkwMNuW8gIII2CN+UPVEQ20fvnc4AfLCY\n",
       "6WjhzpeWG4wtp4LX7aSdktLN9DrfDDmpbTSxRf3HRkg4VIdaUouiXm9J89kTQ2D77fa2COJOcfEa\n",
       "yZ8j0qSAKtMWr0BQFyGFUTpvMPSkIQucc1Tw5JACNW5rVMz9lV5yPB33puTGQAW29L7HhYAAjIcA\n",
       "AAVZQZohbEFf/talUAyPzFAAdcsP7YUpuuNaQVnvZ/tyXMxpGIGvfBvfowC5Kv4LGD2/c5QF/SFJ\n",
       "qjBQaURhjjod6HVubuWhlZjdmcD2Hab/VfnQz+fsUF1WooXNv/iSN677mfUS1yRpc5RDdpQk4+Mh\n",
       "H3EctGIQujwnIRBZw7ysxRZgOGVD8YVLIlCrGGucbW+jf6QRSoRVbttG+5v/2UeKT0fBqVK6kff2\n",
       "z0jpkJaO+HIffr3zqQI7tY8rw/0VK6fhHau0wvQ8rzbw79pfNqdwVDcmK7gbodE0MdtuhL6Gu6LF\n",
       "b7bwXv3r3olGQlNvxnX/3fvER6C65vtm7U7XbVU1t6slGCLHzv1aDByppaP9yijScm1WakRY9+Ri\n",
       "U6KUo8nEkYdwuulo4nfZfAYlkjnochPTqD9GyLo104X4e9rX41Ws+4eAJgHzw4Svc1BzlfitGP0p\n",
       "V766ikiWQHlXh3bdFPwUWxefO7ScpvyQmFgugGhZ53+PXYQnSc5DuMIvQjK+SoUiXzWiXFRCbZet\n",
       "d42GP2OpU17NlJ6rC9WAWNVFui6XW58wWXwmFLIm61DMWEGX4JL69o7i7PZO6AAgA5uGpO5LTtzd\n",
       "kwfOu//sK3DaXZ1obWpHpQn61GL/2GFglkZwMwkGgf+YSXlXYD+xL1RObWzxzMZogsqRjgzkD/04\n",
       "M9/CdxlnaDcVhu0cg/WeAACh7ifkWL9fup3cjRxEuClk33y3tHN6ysY7RGR9e1brPcsHq6kr9c9/\n",
       "+0UTdEDOW5OMBVJqPeRyELKarzOzB1BZOdY6xlqspZzHm4j54YyRhpluTEVBrH1EDKlhCnLaTMFo\n",
       "nmAnQPM3XXmG7vOrn9GvOphq7inBClS7NE0NJEz6VwQ8Ct1hmTekNsZaJ13EzoYmAyf7klK7qSEF\n",
       "9tSfVoncPH5LJFTbI+mgS4GV4r4zQ3urqKRAGEeD9x6/RCOdz5yvtfdKqifLjdUFlXy1A/6VuRcX\n",
       "AWGQgTGLiGcO924nA6RH74FgzXMzPgR2PKcuwXSgCCia1cCCjYx0sHXVQw3dOt9Wo0dO44py2nt/\n",
       "qxs2p0NbEWIWZTSi4PsZFCS+1ZIFRppd7/zrYNqM6dAMm6tUQZxKWHeF83YltfF/leL/W+pM2u9m\n",
       "cC0UplrLWDoc/8zmoIQngGFmJHn+AzmcNiRpumlefu9hnTHlA33B0ECqWX5wyQxI/c4kUH0A6SGo\n",
       "LZf7gxlYAP1Fz9wHnunDsCKCmlEMWNpRGA//fP+jYL0q7K8eTFSXtj7V/UizLnAzuDcSyfvlkQV4\n",
       "U6EWdAwcWHqIRCdSp5hBMawNl+Jm4KdRnuWFK+swBecsj5FBUlzeVblofVn+h9ibw8mZGx4oZM/9\n",
       "69EMP9xxc582WpHoM+3nGIU4JEu7J7djlZ/uBsJKAboXjlt68Fvlg7YvQRIhhqJOHoqXLp4DLMNm\n",
       "Yohpk1Uend9shn8Tmt+XL7e9+xiuJbtQNh/uFLQ+51hYSCX62CcNzXmcdtW9BLBnrWYjgLvOemEx\n",
       "kbM7cXMOM4sFCrp4AllQ9+rNR9y8oy84/8+k6SlS96soDwvYnA4LxalpuVEZo5UvlwTKmAlSt2Vy\n",
       "p/M3zNJBrAoE/nJXWDB93H6TQmO8gD2sWQBAlO/+3Gm7uW1HRskGaG7TR682RfX+OxxYOoYNMWDl\n",
       "/L5xpyCu4flqMlLC4zBDDFToQW8lsJZubZwZ/W9B9abZr33m7Gs46EsJwDEaF/SprUNauc5TAcbQ\n",
       "wBjeNrBOtHHHmcxaqWZT1YkKbmYuttZxUdcGlgA6sw2rQZXZEFAILYecoFFaUe8Zo1mZWEKaIZnl\n",
       "Sr7xcAAAAyZtb292AAAAbG12aGQAAAAAAAAAAAAAAAAAAAPoAAAPoAABAAABAAAAAAAAAAAAAAAA\n",
       "AQAAAAAAAAAAAAAAAAAAAAEAAAAAAAAAAAAAAAAAAEAAAAAAAAAAAAAAAAAAAAAAAAAAAAAAAAAA\n",
       "AAAAAAACAAACUHRyYWsAAABcdGtoZAAAAAMAAAAAAAAAAAAAAAEAAAAAAAAPoAAAAAAAAAAAAAAA\n",
       "AAAAAAAAAQAAAAAAAAAAAAAAAAAAAAEAAAAAAAAAAAAAAAAAAEAAAAABsAAAASAAAAAAACRlZHRz\n",
       "AAAAHGVsc3QAAAAAAAAAAQAAD6AAAAAAAAEAAAAAAchtZGlhAAAAIG1kaGQAAAAAAAAAAAAAAAAA\n",
       "AEAAAAEAAFXEAAAAAAAtaGRscgAAAAAAAAAAdmlkZQAAAAAAAAAAAAAAAFZpZGVvSGFuZGxlcgAA\n",
       "AAFzbWluZgAAABR2bWhkAAAAAQAAAAAAAAAAAAAAJGRpbmYAAAAcZHJlZgAAAAAAAAABAAAADHVy\n",
       "bCAAAAABAAABM3N0YmwAAACzc3RzZAAAAAAAAAABAAAAo2F2YzEAAAAAAAAAAQAAAAAAAAAAAAAA\n",
       "AAAAAAABsAEgAEgAAABIAAAAAAAAAAEAAAAAAAAAAAAAAAAAAAAAAAAAAAAAAAAAAAAAAAAAAAAY\n",
       "//8AAAAxYXZjQwFkABX/4QAYZ2QAFazZQbCWhAAAAwAIAAADAAg8WLZYAQAGaOvjyyLAAAAAHHV1\n",
       "aWRraEDyXyRPxbo5pRvPAyPzAAAAAAAAABhzdHRzAAAAAAAAAAEAAAACAACAAAAAABRzdHNzAAAA\n",
       "AAAAAAEAAAABAAAAHHN0c2MAAAAAAAAAAQAAAAEAAAACAAAAAQAAABxzdHN6AAAAAAAAAAAAAAAC\n",
       "AAAdNwAABV0AAAAUc3RjbwAAAAAAAAABAAAALAAAAGJ1ZHRhAAAAWm1ldGEAAAAAAAAAIWhkbHIA\n",
       "AAAAAAAAAG1kaXJhcHBsAAAAAAAAAAAAAAAALWlsc3QAAAAlqXRvbwAAAB1kYXRhAAAAAQAAAABM\n",
       "YXZmNTguMjkuMTAw\n",
       "\">\n",
       "  Your browser does not support the video tag.\n",
       "</video>"
      ],
      "text/plain": [
       "<matplotlib.animation.ArtistAnimation at 0x1cfa98bbf48>"
      ]
     },
     "execution_count": 8,
     "metadata": {},
     "output_type": "execute_result"
    }
   ],
   "source": [
    "# Define the figure and plot as animation for clarity\n",
    "fig1, ax1 = plt.subplots()\n",
    "ax1.xaxis.tick_top()\n",
    "ax1.xaxis.set_label_position('top') \n",
    "\n",
    "im1 = plt.imshow(MEL14_0309_mask)\n",
    "im2 = plt.imshow(MEL14_0428_mask)\n",
    "ims = [[im1], [im2]]\n",
    "\n",
    "plt.xlabel('Px', fontweight='bold')\n",
    "plt.ylabel('Px', fontweight='bold')\n",
    "plt.colorbar(label='Elevation (m)')\n",
    "plt.title('MEL-14 20220309-20220428', fontweight='bold')\n",
    "\n",
    "anim1 = animation.ArtistAnimation(fig1, ims, interval=2000, repeat_delay=1000)\n",
    "plt.close()\n",
    "\n",
    "anim1"
   ]
  },
  {
   "cell_type": "markdown",
   "metadata": {},
   "source": [
    "We can see that the datasets cannot be differenced as they are currently.\n",
    "\n",
    "To ensure the same projection, resolution, and extent, we can use the [`gdalwarp`](https://www.gdal.org/gdalwarp.html) command line utility. Below you'll see that instead of defining a normal rectangular extent using (right, bottom, left, top), I'm clipping the datasets to pre-defined shapefiles.\n",
    "\n",
    "**Note:** I'm using the single `gdalwarp` command line utility here because I have only four rasters. If I had, say, 100 rasters, I would be much better off creating a shell script or using a `gdal` Python API."
   ]
  },
  {
   "cell_type": "code",
   "execution_count": 9,
   "metadata": {},
   "outputs": [
    {
     "name": "stdout",
     "output_type": "stream",
     "text": [
      "Creating output file that is 1032P x 8335L.\n",
      "Processing ./MEL14_data/MEL14_20220309_proj.tif [1/1] : 0Using internal nodata values (e.g. -10000) for image ./MEL14_data/MEL14_20220309_proj.tif.\n",
      "Copying nodata values from source ./MEL14_data/MEL14_20220309_proj.tif to destination ./MEL14_data/MEL14_20220309_reproj.tif.\n",
      "...10...20...30...40...50...60...70...80...90...100 - done.\n"
     ]
    }
   ],
   "source": [
    "!gdalwarp -of GTiff -s_srs EPSG:32610 -t_srs EPSG:32610 -cutline ./MEL14_data/MEL14_UTM.shp -crop_to_cutline\\\n",
    "        -tr 0.01 0.01 -r med -overwrite -multi \\\n",
    "        ./MEL14_data/MEL14_20220309_proj.tif ./MEL14_data/MEL14_20220309_reproj.tif"
   ]
  },
  {
   "cell_type": "code",
   "execution_count": 10,
   "metadata": {},
   "outputs": [
    {
     "name": "stdout",
     "output_type": "stream",
     "text": [
      "Creating output file that is 1032P x 8335L.\n",
      "Processing ./MEL14_data/MEL14_20220428_proj.tif [1/1] : 0Using internal nodata values (e.g. -10000) for image ./MEL14_data/MEL14_20220428_proj.tif.\n",
      "Copying nodata values from source ./MEL14_data/MEL14_20220428_proj.tif to destination ./MEL14_data/MEL14_20220428_reproj.tif.\n",
      "...10...20...30...40...50...60...70...80...90...100 - done.\n"
     ]
    }
   ],
   "source": [
    "!gdalwarp -of GTiff -s_srs EPSG:32610 -t_srs EPSG:32610 -cutline ./MEL14_data/MEL14_UTM.shp -crop_to_cutline\\\n",
    "        -tr 0.01 0.01 -r med -overwrite -multi \\\n",
    "        ./MEL14_data/MEL14_20220428_proj.tif ./MEL14_data/MEL14_20220428_reproj.tif"
   ]
  },
  {
   "cell_type": "markdown",
   "metadata": {},
   "source": [
    "Now that we have DEMs that are the same projection, extent, and resolution, let's look at them."
   ]
  },
  {
   "cell_type": "code",
   "execution_count": 11,
   "metadata": {
    "tags": []
   },
   "outputs": [
    {
     "name": "stdout",
     "output_type": "stream",
     "text": [
      "{'count': 1,\n",
      " 'crs': CRS.from_epsg(32610),\n",
      " 'driver': 'GTiff',\n",
      " 'dtype': 'float32',\n",
      " 'height': 8335,\n",
      " 'interleave': 'band',\n",
      " 'nodata': -10000.0,\n",
      " 'tiled': False,\n",
      " 'transform': Affine(0.01, 0.0, 4988.348838527598,\n",
      "       0.0, -0.01, 5083.972941589739),\n",
      " 'width': 1032}\n",
      "{'count': 1,\n",
      " 'crs': CRS.from_epsg(32610),\n",
      " 'driver': 'GTiff',\n",
      " 'dtype': 'float32',\n",
      " 'height': 8335,\n",
      " 'interleave': 'band',\n",
      " 'nodata': -10000.0,\n",
      " 'tiled': False,\n",
      " 'transform': Affine(0.01, 0.0, 4988.348838527598,\n",
      "       0.0, -0.01, 5083.972941589739),\n",
      " 'width': 1032}\n"
     ]
    }
   ],
   "source": [
    "# Read in each DEM for CUH, look at the profile, load the DEMs as arrays, and mask nodata values - CUH\n",
    "MEL14_20220309_reproj = rio.open('./MEL14_data/MEL14_20220309_reproj.tif')\n",
    "pprint(MEL14_20220309_reproj.profile)\n",
    "MEL14_20220309_reproj_read = MEL14_20220309_reproj.read(1)\n",
    "MEL14_20220309_reproj_mask = np.ma.masked_values(MEL14_20220309_reproj_read, -10000.)\n",
    "MEL14_20220309_reproj.close()\n",
    "\n",
    "MEL14_20220428_reproj  = rio.open('./MEL14_data/MEL14_20220428_reproj.tif')\n",
    "pprint(MEL14_20220428_reproj.profile)\n",
    "MEL14_20220428_reproj_read = MEL14_20220428_reproj.read(1)\n",
    "MEL14_20220428_reproj_mask = np.ma.masked_values(MEL14_20220428_reproj_read, -10000.)\n",
    "MEL14_20220428_reproj.close()"
   ]
  },
  {
   "cell_type": "code",
   "execution_count": 12,
   "metadata": {},
   "outputs": [
    {
     "data": {
      "text/html": [
       "<video width=\"432\" height=\"288\" controls autoplay loop>\n",
       "  <source type=\"video/mp4\" src=\"data:video/mp4;base64,AAAAHGZ0eXBNNFYgAAACAGlzb21pc28yYXZjMQAAAAhmcmVlAAAeGm1kYXQAAAKfBgX//5vcRem9\n",
       "5tlIt5Ys2CDZI+7veDI2NCAtIGNvcmUgMTYwIC0gSC4yNjQvTVBFRy00IEFWQyBjb2RlYyAtIENv\n",
       "cHlsZWZ0IDIwMDMtMjAyMCAtIGh0dHA6Ly93d3cudmlkZW9sYW4ub3JnL3gyNjQuaHRtbCAtIG9w\n",
       "dGlvbnM6IGNhYmFjPTEgcmVmPTMgZGVibG9jaz0xOjA6MCBhbmFseXNlPTB4MzoweDExMyBtZT1o\n",
       "ZXggc3VibWU9NyBwc3k9MSBwc3lfcmQ9MS4wMDowLjAwIG1peGVkX3JlZj0xIG1lX3JhbmdlPTE2\n",
       "IGNocm9tYV9tZT0xIHRyZWxsaXM9MSA4eDhkY3Q9MSBjcW09MCBkZWFkem9uZT0yMSwxMSBmYXN0\n",
       "X3Bza2lwPTEgY2hyb21hX3FwX29mZnNldD0tMiB0aHJlYWRzPTkgbG9va2FoZWFkX3RocmVhZHM9\n",
       "MSBzbGljZWRfdGhyZWFkcz0wIG5yPTAgZGVjaW1hdGU9MSBpbnRlcmxhY2VkPTAgYmx1cmF5X2Nv\n",
       "bXBhdD0wIGNvbnN0cmFpbmVkX2ludHJhPTAgYmZyYW1lcz0zIGJfcHlyYW1pZD0yIGJfYWRhcHQ9\n",
       "MSBiX2JpYXM9MCBkaXJlY3Q9MSB3ZWlnaHRiPTEgb3Blbl9nb3A9MCB3ZWlnaHRwPTIga2V5aW50\n",
       "PTI1MCBrZXlpbnRfbWluPTEgc2NlbmVjdXQ9NDAgaW50cmFfcmVmcmVzaD0wIHJjX2xvb2thaGVh\n",
       "ZD00MCByYz1jcmYgbWJ0cmVlPTEgY3JmPTIzLjAgcWNvbXA9MC42MCBxcG1pbj0wIHFwbWF4PTY5\n",
       "IHFwc3RlcD00IGlwX3JhdGlvPTEuNDAgYXE9MToxLjAwAIAAABgvZYiEABb//vfTP8yy6/c5teOo\n",
       "96KeJl9DdSUBm5bE7TqAAAADAAZ25c2X2e1BcB+IO/8hdjXgAF01OpWeFC9HU2GLwcPqgN+ORXet\n",
       "vTOQJ4BxgejVfShqKnIgEsxLpG3DfouDOmQErgzMOJc3DKaqpQJo6HXQyrNwSP3wDEfwYOgAWneF\n",
       "vusbTmmV7DismqiH2iajF2qHq/XxWOoWY3SM4PsxiAqEfdrew2KHGKPQcmK7TyzS8DCF1djxxxyJ\n",
       "YGApWXyaamgLp5PlVnBaB+K59Zx0khpE86HGJkTy0w6xWDjWgXwis5pwqCQWTwLidjOxhps3wDjW\n",
       "UDQP2uJ3/MYI3X/VChKcyYahL8r9xW3VLTGpRrBQSgLFeTg+Eo1u0h+I9GagHQh8pnGY2MjtigHZ\n",
       "jvg8ldXHq8KOlRvGSjZnwZpx/nDcaL5FIy5S+tZXhyMinSFgsIcJb+8on96ck0oV4dM3exQaevbi\n",
       "6Em30mJdwvdwFHACcgAI+LPtOz+8mju0zssg5hMYPKY1XrXVFPT8Xjs4RWM+40Izouf4mce6MWeJ\n",
       "otLSSeGS+Bh4cKKbfqh7Vjaa2F9zUsQ5Kxyd2s65pdmgHQDnsGZVc/LBXQumwFULRRnypeGXJKfZ\n",
       "1P0jOI6fzsB81M/n+uvppCw31/xhHlxDrPxI0z4byFF2ImeV/IyYAkbS6erRIRC5UnP9ry8TY5Hi\n",
       "jp1fkcjpLq3TiUdgHj8FryDYABFlQZ0IiWhz3TIrKvO/8fNHubZEGY5zPC/xxvmG3VESA7lS/KEi\n",
       "ioxtxcV++mBBEOApco9M5tu4Q8XtSq2coaVhSw4VJiArYyMRZbRibYelYA0Zb+62r18oqz2uD8j0\n",
       "uuz/iy5srEpb2mwWSfodnBQ6rP+gzIRzUihjtDTXNHU0lJL/+xSda4Q7BYtAkKGZs0D3GpV8h3ue\n",
       "h6AXMsc3tZv3/9kovrUH/3/m1IKM/uKNBRRTyBHF8wDif4F54TtY2JhX4jAcxqV6WfdK4z9HGNC7\n",
       "xL4p3GKR4ph9D4o5wo0o7yONw8jz97YOrC9BxjK9JvT2eoJwMs/K27xRwPpkOfngBTCi10eHdyi1\n",
       "VVZQXthBba/sbPQV+I15yKtvVgxOZRsBtWPFWWvyCmq255mEWbivpEKVOYp35O2ieDxe67qeMthv\n",
       "DT2P+o/YWC+7rDvbpxSWhNLLu6OS5cMMPhqUf90Q00qwpuz8ek30en8gYTctOGR76kX4ieCfyOap\n",
       "WahAhllqoXgwM2DLk4ugUvL5a3RG9KvWefVFPNQS2peH2wDS9kgmlVYk8gbQO8CFqlkzm2Psawig\n",
       "s8FnCvHZsinp/NAThp6Hcopqa2fwMi60Z6j6a8dh84E+lZSuQk0ujT7n7yqgKVvXOKH+3bkv3Aiz\n",
       "IJKgJPuhomLSCSn6FitJ8j43ff8FaujcWdMviAaKjOTUzD8F5JmY8bWRu/xGYCMDXo+sRlvaucEi\n",
       "udAdNDtPjNkM32X7WQwE3Dd2EgdOy9A9ttGSmcJsrPZvlif2QxbmniZQmCOwwUGiQ5iG/PihkY8A\n",
       "ukY7qCeWzL9DYoP4jICmabBQLG+e0g+C0aN2nc7ELK1feejoxi/vqUnXBf+PfA3VzMtJG6xnJVvT\n",
       "FACkBKoUZmWFIQN5qkOvXNZaCfM30Eh7NYxjnPLdXXs/kND8HNI85WA2aYRrqJU3YJ58Woh5AHgf\n",
       "kLNIJMSsXZ1ylyg0mmkzDPYd6Zq+k4DrTYjEDXcf9NN9t/UvehV5xYia+vXpadarFsEuHgolU5A9\n",
       "EMsCjHHNySoXWeJw1SMLTgQ6sc54j+8ifUc+6zTBKj+60z5PeYJljpi8muA/5QdnhpzkVugJ3hLQ\n",
       "PFx7Qq3P5h2awoked9Lxwb+TAwv6/QFWUE+SG6GOBLGP5v36MezhGaI5XXmE3MaNbyL6UeeYEOqI\n",
       "FwAMXwzXNHN6SaGS7ZSnybhhVmvZIORYjoj1nRIO6jUGHAYfjP7IL+QF01Em8NX/AgY5zrjgH2Uz\n",
       "5CcYHzFAa0qlIIagp9etqFlU/v4OxFVmxStMH49WLqsGJV46SDs3Fvyx0KZBC2VUnL90KEFeo9PM\n",
       "MWhwwwFrikAYlhZ0gSW7xM6SGZNieaHVDoufed7lXwcSg2BrFwRDuLeBd+7HnYxrfLOkNySR6gmp\n",
       "DFazpiu0dpb6Kwo4dslDg64qviH8WmiXicOW+VWZaGjrMR1pPxJ5wNuUuULy/SoI+mNjSJz76/jR\n",
       "23GG51HW4optaPHlvjnylK4EAst5oc/6pF8terL7uN5zuvFGGMzr9YIW9dKY2gUvcuKhDfRPwS14\n",
       "/+9xsJ+wdwP7nxaqQWjH1AYYTmQhas+jiHmSmowL0BVFFGDKlXgkhy9EGSYshFJe72xCJwl1eYlM\n",
       "qfT45SUoA/lv+KPz2E4nuFjQLTXZFwmtuLehBEi8ljMA7uXFGThs7DRK6eImEo+zF/SPWOLgE8RQ\n",
       "hVDIsnZHobmkqBBMubyDz+VWwXPiXfXRBiFBNuveXL4lolqDaH9/HEpaySQT+fJM0C0cZlkyHFgj\n",
       "k+GYJvL3MuhJLUGP6mpaU3ngYH0eMQJgQYI+88M1SeXxRZLFa3IARtdboTyCkyiZp6MqBF+xpTur\n",
       "z3cTPW+JH0JNFacFpJAE4SZiTXb0VmJWxLetokf27LdTsioF+8/rqvKfsfkBMDL/qcEMt14JngBs\n",
       "bDqBPLtLoJtRy26kfYMTb5oWOTu66HTXdcbAzQ6/kewVGIt8A099KZNQTT390Zf9wn6C2xYrzyrp\n",
       "N3bNSyu85+BKjHHUeDY++DumFw6fNlsYfMf7l6BPRNzw8Hat2bWksH7fIDGnHj1ykWSiQODxDPd8\n",
       "ND0lHqIuwcZu71o80BQdu/ccG+P41OzBeWJ0YAebES8DnY/U3cXZZgDOCj1fDBGOOUKS+2lwWv7/\n",
       "nqNEAsJczQUzdoSWO+1lfIR8eoZpMQTmIAFTUKwTFZtZv9mu5YUL1EGTxFrHWOlphwlHMZOuiIyp\n",
       "My2RoCYY9vDNiurSlsv/2W4GP9/RbPxcpfgAQLcmInJA0N/eQHTJfrp73+kqwYyg9I6DMBA7WdaR\n",
       "1//iJFXbA7AG1NqbqCaAvah6njZGmL4H1Wuawl+i7J0FLUH0LRESwzf0rcTDei+1JI6ABV9+/3CK\n",
       "RuiQXGq11hdy64TxyGEs0CPN7oBQHA8lBs0btVOjjrDdfHOsORdHkET4AHiwcBagn6WoClYoJJAj\n",
       "h9zWuwzY8g+qppfzZgDEM/gj3E05ysMJPphtppZz9th3x1wszp1tb2PTx35UZZ8asH3aJu8Qtkji\n",
       "HitMann7vKgjuOstag4mGrpw0lPYjL8gLhYJC0F7vzK2kOltEWvkE6pg82sK4gjlt4OZSnr0l29I\n",
       "/N0l9KL5S1Y7dQbAizG2+mYZqK0SwipmQXHUp2eOF2mo4kTNMm52PqEWySUeF37ueoy9HZoPGsEo\n",
       "Qj50fuQ0zhAAXKb+yXOS8Ic+UmjYXM2bYTxsOqSgnKtz0etCzzZGwpAOjFpNPOHWVTgiEPeYuC9O\n",
       "/arOrc1gxnI1QrWMagWUBbkXnAKhyjQx1HpwX34YX5kSk6s1TN9o84hUN6DjnE31nQSe99vubpWm\n",
       "WsrpgI6Qn7dtZLbBzz+iEUMPyE0afSq1SPv3/b7VwkZWU73Qo8zjlszKCOrMv0gbDE+YfymRoGGs\n",
       "lMZcE3bbWLgr20HuB3XttAZsnbvBdL+k3u3oF0tteFZ9i5vg+fPbFWGZsh7gz0m2WUiURD2qik4K\n",
       "NIpBOC+EYMn58pI2kG9HMoYucDRdYH8VHfJK8qlaRQtG1LiydYrKG97s584G+eamsPLYF1cDFnaW\n",
       "7DMq43j84XplQtbAvC6zUhc/4hzmALBJmD4vyG8dp522rtdNICDTdtwQuf/562XRQrCpXz4MRNo0\n",
       "3XGeU2zTUjVddBYpL6XcusyToMs7Su9aGo29m6wubkrADEhIsBOabKHrzceYFlZycnvTCEO4TeN9\n",
       "N9s3Gyo5V0mBnl8Trg8mnCXbCY4Nr2gC3tmd2yhOSLt5GMURjJlNZd/jKawlU3GVLTtDpAUz7z+X\n",
       "R0Jp4PkzxEli6It/ClOGV2mfUJ59tAh6f84pA0p/VjJsbRLm19LkIgj2isjgxH7nqnBegCrJyg+q\n",
       "lMLaxdfXTxJg13NXVY4FweC/F5PJkByJxYtLP7xJUUWSONokUKumXoOUKclt9IkqDNsANTZi3DgC\n",
       "t9XpdDYrMoOQUjLLdFIZI97cy1qbGn1nizawMeAfQ22OkXsXFz/Ezj3RizxNFqKRK88LYaFqE+e7\n",
       "55N39MlAiYFnh+dFaGRETuvJq/MYDKRrdvA/VTZQFvUEA6li8S5t6Uyqvxi3foKSt4EccDpAqMVw\n",
       "6e/KpPTIHL9YoaA4WXy5x5wNRvjeiCgQfWteCHdeH29wDzP4l236kyCSnRLXZqd2tkmie+AeAFqt\n",
       "l8cNV5erxOX5TubEy8bc6IZX+VE3am+wQmbjeNG/Suz5BadrXbcg6jv94EARsIOmlb5tBcuRef0S\n",
       "uWMg9Z8o32Lb+hgLeDD9bMJNAMMShLBj1mhfHbvWQmFP8nyW/LE+5B/y8Q9k6+u+sTH2R/SYpaDO\n",
       "ge4PxIIaJp/przYzO9X3cn/x/jH2jJZ5yf7ip+dDy9ZkwYox1H8XbRbu9hot/gtbMBv2qRCEh9Kr\n",
       "sncoXxy0q9O1b5ZNtMEKKYSkG/fnhzDq0TAZ5ECD/wHzsMcZxMEQL8/v6tZ38K6X0psWQo5jFw/T\n",
       "6t88NED6L9wW5Hz2TS1FL38/lwr1iGiOsjoSQ/BTC2sif5GR8CoBQRP8hAKrqQLXAv7m4fldX+M6\n",
       "yB/OKHuJqEst8HdQFA5T0y53T8tfw/psqNsyDY1xY/V4eji9JL0yGHjLArHHRlQZ2b47DEZsIvXG\n",
       "isuNJB52Jd/o0aQ7S9es4TZ4wRoB/A8OmCutbT/7/xNiS4DstHTWFS3uwwSGw27CIhzxaOGC4yKO\n",
       "/QGVJ3vTZZcFgM/N8HnbM6tlIwntuVglR9Mt/9ty0hOY+WGytxSY9kJ9ZtMQe8ATvgLOFC/DTayh\n",
       "NKwn0jCJp+5BR4FQ4zpzjg53RzGUYPkFgfdJjflSgKfDt0xilHcaNkkRTN2aBTMjBzB72WEVHHet\n",
       "NcIimK5Ev7vGscv8xUXhFJPA3iFYMa2QFjJ3UhJv2C2j9ZpBmh+Jgrhix4JPvcpj3+iD2xo4gtkm\n",
       "4X94WgqkLklOedJ1oJcMLcxEc59PzwybPtDdRYP19o+ZqEtunHqvxTI0TSGd995IfyuP1mCer7WA\n",
       "c//nJ98o+QqU+49fUlJvA0axsPkwaBc2wublbIkFsmiUFwyqcSO5VLcDT4DO5V0HAJFmrYRdu930\n",
       "e9XqI/Y+YEZiTA28yGEJ4Ki9W79tlK+ZgAI3FZGINLi6ROenhb9uOS+6yd8O2hHKzZmXd2OVY3JA\n",
       "0tAUZaVyqcgl0j1NVk6Q6tBOVnomykWv1pbsjMO4MshT5jrrRYoxoiMkK67InZPiKWsjpCKfO0JH\n",
       "/ZgGMnDqNcjSifX1bDeXf+gpKeoukPMqGub/A97OE5BF25bQpCvt6MQJztjlGimcN9rnrSKX2tBW\n",
       "Oyj3ME14oGGzFjdO/JAWZpx3vxp/fjvWsDXxsuVFesPQ4mAvqM4I+kPAs+5kUTyZDUDyjKB7Vxm+\n",
       "u5JimzSyWlxKzi4umYo/TQ9zPXMwrCN/IpqBThS7yhMxCb4/uu/luEw6F83Zo8LsRizQ5FOT92Gk\n",
       "XZGDPP+jMMSn4hSVK8+Xv8jxRIaJX/ZfYGbia9CQdUPKrKIwFikeUd+7254Ql/hH+gx+0qAL6tj1\n",
       "hUWqwOUZV51LCLTzZR6jglUM2xKSnxKGloLH5eYfFYJM8DU43yuRzk5OPi5/iZx7oxZ4mroZu39A\n",
       "Ywe8qfgV+Zp9BIv91pg2QQIg4TZo2RcWki7W97u5FC3+vTHy/6bBLPM+Y7lX3muKZ2+9QGhfZbzy\n",
       "2JhmRYdG72XDfq7TaLSm1NqKAA0EF8LzV/zqJK3x4sF2DGXkpVbH0b+G2cXtHEuFDfYIGEzFdCYf\n",
       "ia4WFeUZTQrHjwH/bYjHBnn9dxghfsCqkkVi5UeMK5yWAgN1L2X2BFH1HEQcen4CzYbAlCrpdmHE\n",
       "1smdMFxFBaqt6cCshZ7aRd3q0AIgCW8n6gS5dbBJoBhiUJYMeQUUThfPgtGvnwHT9hqRblADKl0y\n",
       "JQ6rii/Pg9jbE/k1Qc+Zighzg5wmUzYlW20w1Ga5HdiDaJ5dl1bP6Tc0/CxY2vqm9lFS6HcPT2/w\n",
       "kkYTlfLCBRaOHprzTfgot7KBoxPZTLqFQm1Vsesf7MACRfNif/AkBwUXn8Wg3hIREO6a45d/hHKp\n",
       "jDUkFUvfRhtgX8nPeEtJxHwa4bcRToCCMWSFcvmzrtKGdieZDEw1o2L18PkaY04qxxCiMQxX4WUH\n",
       "p10tSf2zF0S/UKVpL3GCt/2RZz4Era+qVLVRSOLsj5ZDvWKRQQ50w5D7nxD+QrRenXHaYmLTQ3fC\n",
       "8L27+Qrgn8jzanHVBV/oZVDZHMKlzzasYj1w0j0yKNB/C2UcMvSioHp/7/KxZgOwejbh0JtbjAW8\n",
       "UMT6NMp9SVvXaWUPMVlrRS3UpstTzESn8N10m/zuCvp/Gt7u9LCHF8Zl2OrJoKn/HUF88nDMMFyv\n",
       "LAmOFFoNHUbhQCi+qjMxH3V4BO9J3WxIOLPu7G6BixHe0zFzcuez++6rzbqfpZlWbOAROCq8i3P7\n",
       "MAsJnLt+BBAcPKgYLQ9SqFdt9jfaO6LB/TX5hdPwj/DQziDq7ptDLeVdmoDFwIXshU+3YYbXHrwm\n",
       "L+k6IyUACmScv1AQHmXP7fBDjwtykbTbmHfk7aXeEHvAtqmsfgtuBfeDz7vGmRYyN2n31g7+4yG/\n",
       "UvguPZMTl5bcT8QiE0SXNo/E6wlVGlUJXcP/vIxJcAGl3DaHxdd//fYieVTSVqlpGFbJdUObAJUq\n",
       "KXFG00tE0fzoHC2jGVlS7WehCkHljUcCbyM5v/vgIeXvkW8KUHmCDCAMHZRTNKkEU5w3KCTplkI7\n",
       "YCFeKVpTX6/QRobHpXMXusg72CGHujn/9Oif/DDj/wok2BvBTos6ZIeR1A8NMnJDve7Y8F73CFWI\n",
       "+LTIdJD00xOIr0Mpo1/Rk123qWOgy0b+EjbNcN2M7ks4Y7XvN8hNhoX3awQyUvSerR2PubJL3DPX\n",
       "1w9ENV3ABmpqBkNnzv4tm7B+UpjqNhKqNIPPqMIjcan7visZCBgeNdwFOWaHDHc1h6Ij9s4BVzZF\n",
       "Kljhidc0idXb3VDHfvXtr+wvXcmd0RvsTq3gdElLTFnDyqcqr8Ro6NdRDys2DDDjBcyhhB/h7gyB\n",
       "kX8XxoVXewbsZGVDvpnsbZcxxUjjgRY+/8v/t9K6I9Vh4miolzQUVICfJcBrHBcN4hIT0hDtWfGX\n",
       "c4LXJ6+eyyOQogSx+aV6RCM+sev0JEzrSSVSMXDgPHul1vu8wymBm+Q/f76G5FxTZadDtIpFBaYs\n",
       "lLbkRtW2gqgLKmXEDoG2GxXGGsetO9+5zH/k4gJAAdkBbFDS1ozARToU3Cc1rnert2U3jOxBMRZc\n",
       "dN9QXAGMphp7h7n7ZzQbMTgH79kuNldlnx0uUZ7grKJlm+SWoVvc7RhTQzXyZKWhD/7ICOtT21tc\n",
       "Z9tAPSK1q6v+62RlrftfO9J820xNYbXWgE5+BZ9IXkszeSXfw/izaOCIwZPC0LF/epaxF+Ygt+CU\n",
       "ShhjPjFa5BStBA5x3DyubtDFsBQ6fYJZR4c8FVCNyLRw71zhEx1Pl474a5lH0eNsWbzzSbB+rCR2\n",
       "ZVv3T/c5y7ykRWNIiDjHDhADOuzvBsCp45peVn9zLs2TIghFpQDXh8ydEhT2BdhnMVjxIWtkSRSJ\n",
       "Ju4IVNbDmW3IJSQu8PygWOMa371I/vCgYIU8FCUQ6jpvG+/sKKoYkB+xTni6UPgprUURissg+wYt\n",
       "QS0HAJLwXdUvSrfMte4j5pg8HeQfEPc5hGd9LpIYK6GHbvdlttM36e8Bqes147GMJ7P3GL+9Sa5I\n",
       "lanYUzlSJVqrqKIeClcsCD2ZDyDZEO8Z9AdLrRHt9KrD7hVD6IpiPBKUWB3ylb6IbXVXHlvxqLd2\n",
       "9YoGMNb2Hd8EjVBBNut6q7/+FA9WKP+uvr9eIGBaTMYool9A27PGk2UkcRoFlPBjnwI6cRZ9SQn4\n",
       "L84yKjEJwNSfqhCqpq3coPLeg5QNxOnMIQoL0c1bQDhBeBq15To4hBelhN0B/MCQdPJq/yiJ77qP\n",
       "y0bYcEo42lQX8E3zQxbV6WEAAAM4QZohbEFf/talUAtVQBgAy4jny1KU3WX7jAtGdq+hHPRnPUv/\n",
       "uK9XoWzeZ8Ux0XY9x78lqzd9d5YsACu4K4wxjKB4VlkrzdLiaMncP4q1l1Ia35yGmsUEkJw0oDmS\n",
       "9tRwhwTUDLhrHmR1VGZRNG5zLv+p2rqJ6Z6DEH/yX8gUv3YB6Y5Q+M+9th+nyPPedUIq///EEb5u\n",
       "cDSsPmgaSQiePsznO0r25pj1XMqxFut2Ep6J5gFcxmcJVe9fg/NljZ3egrlsDy1J1CVhqiuiTTuY\n",
       "Bi6vaQiUYnPFAYFzg9/Z8kSlUoPRD2A6JroJgnb+X34MU4k5AEHyJ2o/ukBNAJ2VRGsR0QMtjGaY\n",
       "LV5ac0RDcrwD7XliecAWwzutiG0dDsbhtAWR5BEvWBFqhPh+ofKqi4SOx91MzF7WUUI5UTDYPwKS\n",
       "76t5bCL+JSYCCRUAJ4hF9a8LdolkmjAkkCCrWl2XGR3q8jmiUVLCC3GUob8g05wqIg0hLtJZQTp0\n",
       "GGpXaycCD/gwJ/hkvWau3crCLVSnjWUkeLW8x3R8ye7Ji4Oy0hs7ZpAoUAJyl+UJ1rPCr1HA1AIJ\n",
       "UQYZl4KL64fgXVRNdO0gFj10N+kPOFqnJASvYsZOo2KV5BFgFjnHi9qPJAqYDrjnMo9pdX6oiK80\n",
       "PLiEfh5ufRU+zJmT4mzKbEpECyZCXFTHa2zjJUj3EgIfujj18L2HEv1yenuZb/pUX3wq3PXQUvOg\n",
       "5HvQOGjlRiXHk9YorO9pxAnDJXlYi4TjyY3ykCSZBx9FeamVCG8wfDfbOORkQTradBcSpxp//k4g\n",
       "emv6YtEVmmNYZKn0u8SRV5jRZ656Z+dDN0cLfYUcDLN/VVGDrq/BKn3Oq5RhZ23NPl1QMOfGrPPa\n",
       "iF7ctOXunWLKUQCv7Y1dNK0kylE1qRXnP5ac68JE49++rw/tv44kbUPYPnY/jm3kWrf8PHXWny2l\n",
       "3sM/HmB1kZff3/FpxSJA8ZzoCa87plYNG/tsjAME7+8PS2UITS6WBJSUgtOAkjsE/4PIqwgNQ1Q7\n",
       "uv+xDUSiPyfnPUv7Mr77V5CQ2/yLxyFZ02aP/5eFVM6Ek6msnc2VSQFLdxENzKQAAAMmbW9vdgAA\n",
       "AGxtdmhkAAAAAAAAAAAAAAAAAAAD6AAAD6AAAQAAAQAAAAAAAAAAAAAAAAEAAAAAAAAAAAAAAAAA\n",
       "AAABAAAAAAAAAAAAAAAAAABAAAAAAAAAAAAAAAAAAAAAAAAAAAAAAAAAAAAAAAAAAgAAAlB0cmFr\n",
       "AAAAXHRraGQAAAADAAAAAAAAAAAAAAABAAAAAAAAD6AAAAAAAAAAAAAAAAAAAAAAAAEAAAAAAAAA\n",
       "AAAAAAAAAAABAAAAAAAAAAAAAAAAAABAAAAAAbAAAAEgAAAAAAAkZWR0cwAAABxlbHN0AAAAAAAA\n",
       "AAEAAA+gAAAAAAABAAAAAAHIbWRpYQAAACBtZGhkAAAAAAAAAAAAAAAAAABAAAABAABVxAAAAAAA\n",
       "LWhkbHIAAAAAAAAAAHZpZGUAAAAAAAAAAAAAAABWaWRlb0hhbmRsZXIAAAABc21pbmYAAAAUdm1o\n",
       "ZAAAAAEAAAAAAAAAAAAAACRkaW5mAAAAHGRyZWYAAAAAAAAAAQAAAAx1cmwgAAAAAQAAATNzdGJs\n",
       "AAAAs3N0c2QAAAAAAAAAAQAAAKNhdmMxAAAAAAAAAAEAAAAAAAAAAAAAAAAAAAAAAbABIABIAAAA\n",
       "SAAAAAAAAAABAAAAAAAAAAAAAAAAAAAAAAAAAAAAAAAAAAAAAAAAAAAAGP//AAAAMWF2Y0MBZAAV\n",
       "/+EAGGdkABWs2UGwloQAAAMACAAAAwAIPFi2WAEABmjr48siwAAAABx1dWlka2hA8l8kT8W6OaUb\n",
       "zwMj8wAAAAAAAAAYc3R0cwAAAAAAAAABAAAAAgAAgAAAAAAUc3RzcwAAAAAAAAABAAAAAQAAABxz\n",
       "dHNjAAAAAAAAAAEAAAABAAAAAgAAAAEAAAAcc3RzegAAAAAAAAAAAAAAAgAAGtYAAAM8AAAAFHN0\n",
       "Y28AAAAAAAAAAQAAACwAAABidWR0YQAAAFptZXRhAAAAAAAAACFoZGxyAAAAAAAAAABtZGlyYXBw\n",
       "bAAAAAAAAAAAAAAAAC1pbHN0AAAAJal0b28AAAAdZGF0YQAAAAEAAAAATGF2ZjU4LjI5LjEwMA==\n",
       "\">\n",
       "  Your browser does not support the video tag.\n",
       "</video>"
      ],
      "text/plain": [
       "<matplotlib.animation.ArtistAnimation at 0x1cfa999cc48>"
      ]
     },
     "execution_count": 12,
     "metadata": {},
     "output_type": "execute_result"
    }
   ],
   "source": [
    "# Define plotting extent, then plot as animation for clarity - CUH\n",
    "MEL14_20220309_reproj_extent = rio.plot.plotting_extent(MEL14_20220309_reproj)\n",
    "MEL14_20220428_reproj_extent = rio.plot.plotting_extent(MEL14_20220428_reproj)\n",
    "\n",
    "fig, ax = plt.subplots()\n",
    "im1 = plt.imshow(MEL14_20220309_reproj_mask, extent=MEL14_20220309_reproj_extent)\n",
    "im2 = plt.imshow(MEL14_20220428_reproj_mask, extent=MEL14_20220428_reproj_extent)\n",
    "\n",
    "ax.set_xlabel('X (m)', fontweight='bold')\n",
    "ax.set_ylabel('Y (m)', fontweight='bold')\n",
    "plt.colorbar(label='Elevation (m)')\n",
    "plt.title('MEL14', fontweight='bold')\n",
    "\n",
    "ims = [[im1], [im2]]\n",
    "\n",
    "\n",
    "anim = animation.ArtistAnimation(fig, ims, interval=2000, repeat_delay=1000)\n",
    "plt.close()\n",
    "\n",
    "anim"
   ]
  },
  {
   "cell_type": "markdown",
   "metadata": {},
   "source": [
    "Excellent! Our DEMs for each site now match. Let's difference them and plot the output:"
   ]
  },
  {
   "cell_type": "code",
   "execution_count": 34,
   "metadata": {
    "tags": []
   },
   "outputs": [
    {
     "data": {
      "image/png": "[encoded data removed]",
      "text/plain": [
       "<Figure size 432x288 with 2 Axes>"
      ]
     },
     "metadata": {
      "needs_background": "light"
     },
     "output_type": "display_data"
    }
   ],
   "source": [
    "difference_MEL14 = (MEL14_20220428_reproj_mask-MEL14_20220309_reproj_mask)\n",
    "\n",
    "fig, ax = plt.subplots()\n",
    "plt.imshow(difference_MEL14, cmap = 'seismic', vmin= -0.2, vmax=0.2, extent=MEL14_20220428_reproj_extent)\n",
    "plt.colorbar(label='Elevation Difference (m)', extend='both')\n",
    "\n",
    "#ax.text(0.175, 0.08, 'B',fontweight='bold', horizontalalignment='center', verticalalignment='top', transform=ax.transAxes)\n",
    "#ax.text(0.175, 0.3, 'A',fontweight='bold', horizontalalignment='center', verticalalignment='top', transform=ax.transAxes)\n",
    "ax.set_xlabel('X (m)')\n",
    "ax.set_ylabel('Y (m)')\n",
    "ax.set_xlim(4987, 5000)\n",
    "ax.set_ylim(5000, 5083)\n",
    "plt.tight_layout()\n",
    "plt.savefig('Difference_MEL.png', bbox_inches='tight', dpi=300)\n",
    "plt.show()"
   ]
  },
  {
   "cell_type": "code",
   "execution_count": null,
   "metadata": {},
   "outputs": [],
   "source": []
  }
 ],
 "metadata": {
  "kernelspec": {
   "display_name": "Python 3 (ipykernel)",
   "language": "python",
   "name": "python3"
  },
  "language_info": {
   "codemirror_mode": {
    "name": "ipython",
    "version": 3
   },
   "file_extension": ".py",
   "mimetype": "text/x-python",
   "name": "python",
   "nbconvert_exporter": "python",
   "pygments_lexer": "ipython3",
   "version": "3.10.9"
  }
 },
 "nbformat": 4,
 "nbformat_minor": 4
}
