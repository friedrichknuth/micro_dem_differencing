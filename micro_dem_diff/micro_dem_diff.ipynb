{
 "cells": [
  {
   "cell_type": "markdown",
   "metadata": {},
   "source": [
    "# Estimating sediment mass displacement  on a small scale using digital elevation model differencing\n",
    "## A Proof-Of-Concept Example\n",
    "\n",
    "### Objective\n",
    "Create a Python script that automates estimating sediment mass displacement on a small scale.\n",
    "\n",
    "### Datasets\n",
    "The two datasets used in this proof-of-concept exercise come from unmanned aerial vehicle (UAV) surveys carried out in Spring 2018 for CEWA 599: Advanced Surveying at the University of Washington (UW). Both datasets were collected on gravel paths near UW. For each dataset, two flights were carried out: (1) undisturbed and (2) disturbed. The undisturbed flight was over a 1-meter by 2-meter patch of gravel that was in its natural state. The disturbed flight was over that same 1-meter by 2-meter patch of gravel, only instead of being in its natural state, three 40-centimeter by 10-centimeter troughs were dug. At one of the sites (CUH), the troughs were approximately 0.5, 1.0, and 1.5 centimeters deep, and at the other site (RW), the troughs were approximately 3, 4, and 5 centimeters deep. \n",
    "\n",
    "The image and schematic below show the field setup:  \n",
    "\n",
    "<img src=\"./images/field_setup.png\">  \n",
    "<img src=\"./images/site_setup.png\">  \n",
    "\n",
    "### Basic workflow\n",
    "To estimate sediment mass displacement, the following workflow was used:\n",
    "1. Pre-process digital elevation models (DEMs) to ensure same extent, resolution, projection\n",
    "2. Difference the DEMs\n",
    "3. Set noise threshold/outlier threshold\n",
    "4. Mask differenced DEM so only valid data are shown\n",
    "5. Convert from elevation difference to volume difference\n",
    "6. Convert from volume to mass using approximate sediment density\n",
    "___\n",
    "First, we'll do some basic setup."
   ]
  },
  {
   "cell_type": "code",
   "execution_count": 1,
   "metadata": {},
   "outputs": [],
   "source": [
    "# Import packages\n",
    "import numpy as np\n",
    "import rasterio as rio\n",
    "from rasterio import plot, mask\n",
    "import matplotlib.pyplot as plt\n",
    "import matplotlib.animation as animation\n",
    "from IPython.display import HTML\n",
    "\n",
    "\n",
    "# Set parameter for animation\n",
    "plt.rcParams[\"animation.html\"] = \"html5\"\n",
    "\n",
    "# Import pretty print\n",
    "from pprint import pprint"
   ]
  },
  {
   "cell_type": "code",
   "execution_count": 2,
   "metadata": {},
   "outputs": [],
   "source": [
    "# Show plots in the notebook\n",
    "%matplotlib inline"
   ]
  },
  {
   "cell_type": "code",
   "execution_count": 3,
   "metadata": {},
   "outputs": [],
   "source": [
    "# Define datasets\n",
    "KID13_20201109 = './KID13_data/manaster_20201109_KID13_5x_test_dsm.tif'\n",
    "KID13_20210208 = './KID13_data/manaster_20210208_KID13_5x_dsm.tif'"
   ]
  },
  {
   "cell_type": "markdown",
   "metadata": {},
   "source": [
    "We can open the datasets using the [rasterio](https://rasterio.readthedocs.io/en/stable/) package:"
   ]
  },
  {
   "cell_type": "code",
   "execution_count": 4,
   "metadata": {},
   "outputs": [],
   "source": [
    "KID13_nov = rio.open(KID13_20201109)\n",
    "KID13_feb = rio.open(KID13_20210208)"
   ]
  },
  {
   "cell_type": "markdown",
   "metadata": {},
   "source": [
    "Let's look at the profiles for these datasets."
   ]
  },
  {
   "cell_type": "code",
   "execution_count": 5,
   "metadata": {},
   "outputs": [
    {
     "name": "stdout",
     "output_type": "stream",
     "text": [
      "{'compress': 'lzw',\n",
      " 'count': 1,\n",
      " 'crs': CRS.from_epsg(4269),\n",
      " 'driver': 'GTiff',\n",
      " 'dtype': 'float32',\n",
      " 'height': 15351,\n",
      " 'interleave': 'band',\n",
      " 'nodata': -10000.0,\n",
      " 'tiled': False,\n",
      " 'transform': Affine(0.00642, 0.0, 4987.07599,\n",
      "       0.0, -0.00642, 5104.8759),\n",
      " 'width': 2606}\n",
      "{'compress': 'lzw',\n",
      " 'count': 1,\n",
      " 'crs': CRS.from_epsg(4269),\n",
      " 'driver': 'GTiff',\n",
      " 'dtype': 'float32',\n",
      " 'height': 15016,\n",
      " 'interleave': 'band',\n",
      " 'nodata': -10000.0,\n",
      " 'tiled': False,\n",
      " 'transform': Affine(0.00634, 0.0, 4984.98335,\n",
      "       0.0, -0.00634, 5103.20182),\n",
      " 'width': 3252}\n"
     ]
    }
   ],
   "source": [
    "pprint(KID13_nov.profile)\n",
    "pprint(KID13_feb.profile)"
   ]
  },
  {
   "cell_type": "markdown",
   "metadata": {},
   "source": [
    "We can see that while the projections are the same, the resolutions and extents are not. To be able to difference the DEMs, we will need to ensure that they are the same projection, resolution, and extent.\n",
    "\n",
    "We'll load the DEMs as arrays and plot them so we can see this graphically."
   ]
  },
  {
   "cell_type": "code",
   "execution_count": 6,
   "metadata": {},
   "outputs": [],
   "source": [
    "# Read in the DEMs\n",
    "KID13_nov_np = KID13_nov.read(1)\n",
    "KID13_feb_np = KID13_feb.read(1)\n",
    "\n",
    "# Mask nodata values\n",
    "KID13_nov_mask = np.ma.masked_values(KID13_nov_np, -10000.0)\n",
    "KID13_feb_mask = np.ma.masked_values(KID13_feb_np, -10000.0)"
   ]
  },
  {
   "cell_type": "code",
   "execution_count": 7,
   "metadata": {},
   "outputs": [
    {
     "data": {
      "text/html": [
       "<video width=\"432\" height=\"288\" controls autoplay loop>\n",
       "  <source type=\"video/mp4\" src=\"data:video/mp4;base64,AAAAHGZ0eXBNNFYgAAACAGlzb21pc28yYXZjMQAAAAhmcmVlAAAm8m1kYXQAAAKtBgX//6ncRem9\n",
       "5tlIt5Ys2CDZI+7veDI2NCAtIGNvcmUgMTUyIHIyODUxIGJhMjQ4OTkgLSBILjI2NC9NUEVHLTQg\n",
       "QVZDIGNvZGVjIC0gQ29weWxlZnQgMjAwMy0yMDE3IC0gaHR0cDovL3d3dy52aWRlb2xhbi5vcmcv\n",
       "eDI2NC5odG1sIC0gb3B0aW9uczogY2FiYWM9MSByZWY9MyBkZWJsb2NrPTE6MDowIGFuYWx5c2U9\n",
       "MHgzOjB4MTEzIG1lPWhleCBzdWJtZT03IHBzeT0xIHBzeV9yZD0xLjAwOjAuMDAgbWl4ZWRfcmVm\n",
       "PTEgbWVfcmFuZ2U9MTYgY2hyb21hX21lPTEgdHJlbGxpcz0xIDh4OGRjdD0xIGNxbT0wIGRlYWR6\n",
       "b25lPTIxLDExIGZhc3RfcHNraXA9MSBjaHJvbWFfcXBfb2Zmc2V0PS0yIHRocmVhZHM9OSBsb29r\n",
       "YWhlYWRfdGhyZWFkcz0xIHNsaWNlZF90aHJlYWRzPTAgbnI9MCBkZWNpbWF0ZT0xIGludGVybGFj\n",
       "ZWQ9MCBibHVyYXlfY29tcGF0PTAgY29uc3RyYWluZWRfaW50cmE9MCBiZnJhbWVzPTMgYl9weXJh\n",
       "bWlkPTIgYl9hZGFwdD0xIGJfYmlhcz0wIGRpcmVjdD0xIHdlaWdodGI9MSBvcGVuX2dvcD0wIHdl\n",
       "aWdodHA9MiBrZXlpbnQ9MjUwIGtleWludF9taW49MSBzY2VuZWN1dD00MCBpbnRyYV9yZWZyZXNo\n",
       "PTAgcmNfbG9va2FoZWFkPTQwIHJjPWNyZiBtYnRyZWU9MSBjcmY9MjMuMCBxY29tcD0wLjYwIHFw\n",
       "bWluPTAgcXBtYXg9NjkgcXBzdGVwPTQgaXBfcmF0aW89MS40MCBhcT0xOjEuMDAAgAAAGudliIQA\n",
       "Fv/+99M/zLLr9zm146j3op4mX0N1JQGblsTtOoLnd4fH0JrVABtdjl/4wCJm71hnfS5cw7RE6SqH\n",
       "DDpMH8usva3QYR1M0D5wILdrWpB6jdgUWlMKJI7l7Lvr5F/n1SJIUe9SVw7j+8ZAIeWwt5m8IvNs\n",
       "4KBg0NRrT+nKXTM42sZc+sBR9+OWjrXXaGgfN9EU/jr//jDm5xLO8H7nIShIANIQMkUV4XcaP6u/\n",
       "pMz1vA5Wr7DTWwklzQDV/YRbYHGqkcYj362JsOHRvIQs5+URtD08Dcf4l/2p8ncq+D762nvJ2zUx\n",
       "ZTF2d/yV7+x1jM0cZw8ULN1VDR5nGF8Iv6yYNVNZwR0JPZlhQ9U9Hp6f8jj7PUzkg6csbxA5m5lE\n",
       "U0GtdL2eGLg6cIheMd0sYrismSRvTMqRhmsRPUBgyhvauo1riXZ8DHCDqzI8X5BInQPg9GYQ0c+M\n",
       "RrZErrxV7UHnkPpdWR7Kwv5eTnNLdI8Xmm77Z/mtscEJSj2+tJRJc2DcdeBDNMUFMswrcBn/FH0V\n",
       "AkhayhpwmMNwugWIthbUwdGCibJPaGyKSx43RUsQ8pP/z+J4BUz9aFqWQdLtyGzPtVi+Q8WReBfr\n",
       "tJRkv240kTfzh6cYLnGVwU421DXCTjbWk3mWdoy6rBMsas2fwZAKIlIMencbIZqAXeQMTp+syCn7\n",
       "y+EHP2GE81kjLj92dwERaUtCRqk0plHx4AACEtxFX55LgSWLr3qQJDtROBtDzaKZv3m7ArNg3F57\n",
       "25jy7ULCp8MxHIu3EaUXljI7JAZeo9PhDKEZL4DEB03tdo4pAFVW+pMMrv6lvli8rupT54TwQuai\n",
       "fw8bOvEobmSgI1I7nzvVVeD8l5gK6lmnsiFf3pgYXogmLuC065AFp0w5b/v95ABlSzTo3uezwqTG\n",
       "H5V/6M1KDO6aZxTWkBLALz0dNb2GfIvxP3JiRDZvVIC7fSnv3sRniktBYbaheSVhkmPcvOpigQLB\n",
       "y954p363PqejBe7shGiHxMTUWCV40uDpMUUE+mTl3c3OUFcOJS4iXcEdQ6e2XfxFOD/ugUIy6ad2\n",
       "jr6ERjx8CDpkUZvPeAjYM9ZXzZZ3+ZU+L1SgWkqBvzBtJemPD9AYZbcBpPDHa6mpmQktbhsnPX1h\n",
       "iBxbV9AjYL1wcT60qScHAcjUcmR1TRcUx0014zrx70QNNXjRsjCn93yRd2y+I1uxAsqq+nVUWrgc\n",
       "oBI9/kyI1k0E93+a0XE8vDqkMANXbdsrkpFqTLDnK6iBaI+TTZVDrcHT3miZD9bC2TpcuKkc6xbS\n",
       "Yfm/sjzeZvMjZKBnuBZ+x6pNQKGhqQ/9T+0TkCESY+I3vqXARSTh3Oy1u3swlo5sErLmIAuLx3QA\n",
       "yQRLxRgKZbexunzuKrHLENi0fFcUpjAD+uBPQuigHoXMaRcdxuqoiRvKgQ91Vx1joZuycg5qsWSg\n",
       "S277QxqBVlABl5mmAecrvCskgO8AeyQzslwpvWS0vzodAIyp5dL//vZ1I4DTEMr4VJiebVM8DCi6\n",
       "gqD+taikcCdZu/qNzRfyW56PW/sxUFOI2q5DJ9/B9KRPIqVLEpja9mmPzJeNWccfsqt86PtRz+Cr\n",
       "aZ+Y/ji9zgxWjt5u0U4ojievr/k8Tb8lnOQgXQKAMx9ptn0NxBUM+GeN1oBnBO451ABu+7XoZ8kU\n",
       "YGX74K4LBZK75DQTcr0CY2CgA8nVQ4uOWFB34YdQr6OlgEeDI3oRFYHisheFOx+pzbMtyQxMi3ni\n",
       "xBe0UIdC2wDolkPKrY9V6DgEn16qyPeWHFoMaqDTre8h5W2aV4Kt7QzutZ4q0y5x/bJUVf9oG2Oq\n",
       "1LVvJjVnYqqNRZC9dUlm8UKxGrJowwOsHidV5qqTZu3hwkKUtpBS5J3E689AXSRrAuOxRZgQAR3G\n",
       "ffs1Et6i83E3jmEeIa3xFiMtEdOMLYXKq53cYpOKuEeflj3IQ0VABsATniEGAZoYtwFvqvBS7HaY\n",
       "4pdXZXMG1r4uy7t/c56abbECbzmTl0FLrhJ5Gkp+x6D8Jo4svNjInpY/DaU0q/g9kr8/SCxPzej8\n",
       "43PIvA9EeGmL3qKcqJgesFAxcPNeUCYlVTwmF9z0dKL6DXrU2II26eli6sOexAt2fK1ZgVm8FZKM\n",
       "TyPSozUoX+BEehTGL6CZT+C2VfzkrYbXMF5AN7Ldmqtvp4djz4VS0BhJbciVPsCqiDeZfuW/n8Lm\n",
       "T6SjGiTKl8yrp6JCGD6NcaXHItJEN97Ik0HUE5GdsTwE6v6Lu29sfQRECwe+CcVaeM59nZnmyQ/Q\n",
       "lHMlzYs2U19Act5Zf4QES7fcFqcQgIAVQxZ0qkzvA7ntUZx/woS9MS61pmRNV/xMdEzpbUGeyrdP\n",
       "sQ4NwCB5a1uMFTW1CMzqU8/X0hjqQpEpxvxevrRXFirHVkK03OYEk67xDZTlP7MKYNvgXyRXxGXX\n",
       "LItXqt7q4717FMYVNGs20x7KAhaPSJu3Ps2RNLEZ/qIS7WnrLUmaymrC9TMmi6GOaeCYzBt5d9vz\n",
       "Ql5TWvZxBDTyjtXZaOUysj5jCzDNpfb+oPSlwDnlBcuUyKlR+NpUY4gPCS+D3dXziDQXBRpw0wzc\n",
       "jpaOKL5FHRMFcrH5TMKuu/RHkPNAc9mjHgVPVy8+UjF81e7mNjPPzkNpuZ84qXOLJ60UuTmSSxbY\n",
       "gmTEJNK7UDtFVrP2gvSpmy8hyDgG8fMExfSERCUJvufBvb1jb57SJccxtCAElgWh1fjpGmCQflUn\n",
       "UfNR9b4yTxtMdmf49e9yZQOvZJF3oN2TDgQs7XjrLmGGLThjXARQTUj69KWQ9BiVRqHb8RlsFaeE\n",
       "7jf21PXo1dzYZT+B/O7wUPazP+VXsOBdg47vKgGI5DBOkWKyC0Zj3RLTtxmLyTMhllj8ASdMBfyz\n",
       "bsnKzdx4/v3aha9cWoypGgBwElIsmceN98ilLPkv7PFtTsG9XBx8ebbCCsHhCO+b/VSv0UjgvW+S\n",
       "I2KrzKYNys8mAk9ZwGyCZq4z7yM3d1kwLXpj3TcqgSXj7V+g8gVyOgOuQWlUMA6Dd/6GUyLRyvQC\n",
       "K6KTOdVXYbfViZwIGP5MaEjWRnVu4riRv3nVThegH3lxfYCgO5K6tzX4jAopToF3C6HpYrTdkapR\n",
       "OrPUOsfD5l3ObBWJsk+PM27DFrMwA+/U9RyZGOQ8D4gyyZ0cetyZ4l9n00a1s/EXSMoZumFgM49x\n",
       "1KgXdAXkS06jLCswAToUodjsLBI0cIeATgWcZR6rZDsv0Vsd0Q/emIlem1mhEHIlxLd6/H4p5M0Z\n",
       "V47+W1JdYo4ahRL3QmYwGrpw/LVllafhS+qbd98IISZ2uEC3liMsGO5NsW7AJK2sGs4GBxo21779\n",
       "2P8Jbg0xt4lpA8oTwbhVcYZc5BBeUU/tlYFl3JUfmFYA2TktoA7HwpwSqRsTSoDxIDKsHBqh9U5s\n",
       "rSM6jhC0JVkOOkC14BqyFwsL/tnXBTtEJaK//9BMtql6KIJg+Ua0/m9LlVTOnXcaVXXHLSO8eU2H\n",
       "T/oF9xNZ21NJy6xdjAbAReowf+1fvVH9yzxGc4gzHJJe7J8kGD55A4dsg0x7uAzbbgERZOQiqdMY\n",
       "3C3HB9Vi80+85DsWQhIKAW2x5gLoROvv4+eMq9togdUhBgeeLR5gNIuRUy9n/3CICbD73i1IteuP\n",
       "lIVPw4GSjSbJm3rca53HPoUcyWlzWgQNGJ8X2VMFdGCiMvu/ZAihsZ5WNZpJkMbi+40QA5FANzUu\n",
       "LKgqjfqHfZdI/4iL+4gHINuGxDmRnjDGda8MLpflS+YilIfyjRqai1tunaxORDQhTKulR10GIn/m\n",
       "buMl5Q6CYShyyn42llh1AnM6QxU08nUtYQPJpV+puoPnok2b/H+DENoB4UyT2+ahcdyvDWVPSK9V\n",
       "O/BaO37FIb5sS20bOqRdAmzLKHUEVJEmsOxHVpVYM/rih/350vgCOtJqYiJ+Yb3S9zaFW2cF1SfY\n",
       "aXa0sslqlPNsEgZ891sTZ4VUHNufh1o5AnmKx7eq2JyJMP88KBlqr9z6M+g8v1HOYeBQNBTezXqA\n",
       "jkPhVAfTU2th8zQt5qM00ZxygHleAihVN6FrSME6Gz+1sdvUddjiKdfmYr6h+DJDXB9GTCOE/5ZM\n",
       "VbVhcBSHrYeATBiC11mBKgHKVvu+kSuz5Badr3hc7r/QuPaXZf3TTBNeJxhcfznUpG6CJx3q7pTx\n",
       "/T08pHTbaa8UaxYJCTkbT1wVWdsXHkIrZfcAWB0pZHsDj7mmpvNInQSypompxdGLDrJV7gaSvVvI\n",
       "k29IRI/MXMHCsFdr3MHFJ4X7THHduTeaVbfviUFQgR+uBWCM3MafNIjLBMC3fImz2R4gfZF6zbfp\n",
       "wMXvfOXHa1hqHe+EnK8QA/Oe29gNT5i/7ItXziA6ys8OLusuH00zQsYr7UvByD1Yur6514Xh2GlH\n",
       "E4kngPyGC3yEcF+ZK42NyutA6g/oNc4U/t9xGc8+bN///hDi7sdXgfs2W4YQ+Pqs9+T0wohANpkd\n",
       "OGQVsGW7knN1T/ft9kO3SkKyv0VOsBQG0aeprIKkmTzxp3SD3CxLjUTZppeHsoxhzyIvaJ4jlqzq\n",
       "rXNR1wE40vuWYBLETswC4Uqvq+tZv2kQpEiqgFluWK2N5keLIPtdWDn6ZP/npiS+TenjxB2ZJUrM\n",
       "QQ0WlO5HXN/7lPlHEYmjSE09eeqnWdx4uVnDwDDSshdVj1IRtC9KCEAiyRX7FFVS5047uUavey9Z\n",
       "ickuRDXV0O+9Gi1+qiXu8dMjwgW3VpEeLIPuXwlIv9PQS8Fv6/Ko3VDIGtYn72H+sPkGeb2EOIXn\n",
       "ALQjZLepF6ikopC0eZisvZiNC0vvJUGluWQxj+nFrTmsrAa9x7WdOmUGxibRPVp+clPIKonr7L/1\n",
       "xd1X/0JFXzthh6iGRyrfY4jWdRcucg2aQJimcjH+FzEL9+npXGfwbCjb1VcjecPdocptxKIYpoxV\n",
       "Sthf7BSiWgMxmFWCEKbfySYItIqcjO6sSHLpFWku1Rhf6LJOJUqgU2grckEUsJSibaO5tQ4zxZRr\n",
       "FEOHvKBg0P1iQhpguR5l5c/RRYu31dR8aiV2gUScAoYo3VjLSOv/5UyM0WeJf2Vi4O2yZyy3fwCz\n",
       "OegPUPw9FJCCLexa7X8QWniVEX2472SnMbhbpir/47Vzvlj3Xm1dYGpIUcwa1T+Oqealcp8lX1lB\n",
       "kK3ZDx6TiByQGjmI+ZVPiOFUMwkwnUTJ9DJdjYlvJOjfBwtlDCm8WhLqMnu5YEiuhE+1Ean2mm2s\n",
       "eDZ/sa+pBEDKW46vuop4xxbIxgK4ErpYa2mrVKMXBdeEACnjiDh3IIsv0rgdPs0P9j69cPFtkJ5U\n",
       "R6WutqrJKX26yYZ0s5/nENy0NhW7/szyOqULZEY7mUTZgpEFa1pKv7iYYjpjODyuOY0jI0fhIVU9\n",
       "jZyWb/vBfbLsvG7k4xFZ1rhJZ2yNZtjT8DC4b/7qhlATi6huDPtYl9cNEOiXD8rq/xs+niVIU3Nt\n",
       "6sIrQ7h3IaLols9oOMVbru1OL4mf8wVDaT98PDFjeXkDe//f6m6QltO0kuA7RR00hSUXCvBIbDbs\n",
       "H9G5dxVKosmiC/QGVJ3vbASwzYD9rKozsDOsxQ7h+2ttHOVUGbdOD12Sp41UOGYPOwlonnYha7en\n",
       "4ixlZxYsTkk8UNTFb0Yd6TKTgBzFbX1tk5LMKACQB3rq05svP+4LgeW1lnB5UIgYkPUDKkYDmMO6\n",
       "mnxT2J14NqEjVJqq76kfJzpCq6dlprjgfuh4zzilHYge6Ynav6aQK6Qiqz8TvuwZnVCCAmHt3uMX\n",
       "EGk/YYGGC2/n4P/2CmbWwtynWAo5TWq7X499w+mMyPiJb5KD8d7D1t1Gcr/r+8RowHI+rM03EmYE\n",
       "1YfM1I54tllh3uvV2HJOKbCpQjsXy9xN8r6qpqCkrrqnOR7gClmhD7Czw+pXtrFkoe4DZqMu+WX2\n",
       "/A3TL6OSTk/je+pP+eYgSnUudxZzDX91RqCGVOJ4o8zuoXLCeCByMnWfU1PenSjcYF1AN9Ih/epy\n",
       "pNbI2Z7P7dLIS4q98e+wQyrwFM478ZVeuz76J9QCocRP2ssu3zwrBIAjj927n8Ildx9QDZPChosX\n",
       "j4xo9UVRHVLRyBi9GnqkTMaFCiBxTkeQUq0VhtDMfJL4CRd5MD55MUI3t41tRm4rpj9aiuCI5IFO\n",
       "yLlKy7vuEIRrtJEudxJzKgLPhbTzA2mWxe0JFRLsLGP9yI1XhwpyziL0wfeTApg5ed8Kz3m9yvMm\n",
       "Us9bSTb6xqXTvZQ3Jw6jXI0on0vS55+dZ2R6S7BKoUP3SRtWYxEji0XEqrL+tmrFG2EQwVR6RSXk\n",
       "VzY0ChNYvkz8dzgQgfZSa4j1FIBPHyF5aBGUcrvmvNXHL4uCevpp+WA9y8E7ECFq0ZwFsbGIibfz\n",
       "ANSO06v27drMGQabNiUIIe4BLn03cPEcQ4WK8eLxJITpsRwA7sLcDlAg15P6Hu7QJXrCMpePK/hs\n",
       "xWKYLaRW/44VTC/1k5E0LeCncSh9s1hEHadlCPuoUtOVIO3UqcV5yMMzbDsmGOOtJcZ80RtzGDL2\n",
       "NHfnFyuQqC5IvmOLVNVO3QYmmns8gVwngD4nvvyCYwY24CbA4wEJdJgpBHYrR6fla5Tv3QfImFQ6\n",
       "F282WfuCTEM1HOePqcH8twH1/lgJjaTfj1KE3YMeZVkceXxlcsFxTan+40gjzl4KFQU7TnBpVNPe\n",
       "q5VB565GHpWY3YHqhfL7YARnYpyR7li4sy9RseUDhkkCc8F+4g9Ep+We9SeEsS2HiDJnF0Gvkhcf\n",
       "gCD4YaLqbHOrSDTUhesnVTBJBrx+aWUeEG8cIUSEgWCIYR2z4xv9OkNc0OaZ3v94yXO2fYcWNinO\n",
       "0slTlEuhxzrBLGKNgNieh3ZVIi281HmMV04/aqTGI2YL1BdjJXgkomfMWm7ITuIHnMvSExysv62q\n",
       "tXQXANFoSKUHxbqNa/CrGXfOZL4kPAnGYCjFZ/jzeyDX5uoSqT61eaiKV+890C3YTXhbZTk99v0m\n",
       "r+QknpAgZ0h+su0qK7OwgAKPHCu3ms/Jy8iQ29ev2Rrxb1G7DhPX+CHJdTkwkvZluSJaxsIWa36h\n",
       "vhjOUNyYnXSrNDJsD/dX6+khDEa0Hv6bNE/ebV29yOpVTmb1pm9FEGjXkyAZ5dgSiS04igimFEjJ\n",
       "QtC+HF70bKMxr4rN+BZsvhfwnAA5Y2Bvoj/67MSX/2M2emhjBMPIhsPpncvmP3mP0ZyqylL0NAY8\n",
       "RDMIxzSHWjGC6tBw8Pu/15/j8I/DPZzmAQVMdI77wW3yhu9bQy6POdsYad0u5p9Zr46fyoNcQM5P\n",
       "ODQYNxcLQqCaVcVxItcBwosQwR9ktKS9aRasv46hxYomD4IzoJhYS93YhnIF/8Jwi21rjCQlMhnh\n",
       "O/TAuWAUeOSeA9tfRryh0UjUSvFQ/6Ci9b/pnMIS7q4VZ5bMCnaIkaFXElHeykqVfYGZ+UQj2X/K\n",
       "gtTTx+JwyI4N0FtsRRxDVBM3E2IKXNOeeFl1YkgcieE6HJSWNPo/rcnK+C2Z+JfHqgU8qQ2nJmWu\n",
       "P73jOEg+kJtlFrtO7emt63RqJc/Lzkb876Lendoqwfr3yHFF7qoz45/h6sZ7n2b9rN8WnjEw4mNL\n",
       "K6F20llm7Viz97b227tqirM6zBb6b89w4Ik+cGzVFQFmTDQe5mQJZRf3LFAG0YIEwHx5yhSXyLba\n",
       "NdxWorLX4uCt+yKfMTfehaVdoDoMTnkbAhrkeP9KOH8CclZe6Ih7lHPtj/N7rgWv66U5s+7tvVrN\n",
       "AbijKuEQyks967WkrYlg8L1TYfG4TowLi8AxoYW2e5snSpyl4EA2VwvongerF/MwkWzKCpW0uU+1\n",
       "uwRp1nIKJuNxJwcP6Lupx7Ymv2P9VlA51CGiY/mVLmJDe1Xo3pZgElSxkQa71ZY8KxcWi0vq11xp\n",
       "EfA1q99XCkuZrF8W/IXmoM/889btq9KXcyjSUPFLO2B7lo2AHABMw9E9w7BT8iJeeALtXh9M5P4l\n",
       "k5NRkZto9ihuqUktvEgbbXWgpZmm7LzxGzLMcpXZx30QZvIyX9bM/PuPXEDkXX/7sd/HW+hEwkJp\n",
       "ZrMl6xQLg3Jr+bhpyUUnG5TSNRVVjlx2HCpegWJo1QNkwm3t835ldvoMg1+IvlA99oOpQaK70WAl\n",
       "heokOfaJ2cWiqtXh6NmvJO1ktspupYiNtVwv1aXGmyQxP8fhFgyGu9H42/V9DtGEb26xvtt469hS\n",
       "45v7u+Y94WAPy8M0Th87y5UI8/e3RgRMfsMa4o6y1d9wRe3rx2L4fWr0eCkcDJ9DUea0wkdxV4L0\n",
       "72sZX5yBjO8Qpg8vKgUB73CMAIvI/gjr1N+eOjWpARt4XD1Syzkhhdf6sWPE1isvmlor1cGwKIzz\n",
       "8uGbC/qu7jBbJ39W5/xJFEKnurVrkutTVw7jVRWblhEsLJuAcgnEvUd0QLIMXmxkexC/DHoNXNCM\n",
       "JrQrCBRbnEFeQhaVU/jZOnZBEk0PMLf80tLxtlIYPU2+LBX6lYfnHG7tBdCpFEIFmXZn9PL9sGxk\n",
       "7oPeGaAarMIH8cqmH1kQizIx3JacslH7tgHDkfyK6PVhjHe4y8u5iJrqRp28lS3scg4aLth0r+dL\n",
       "iaV7BfyZFf7ytm8019tnUNdiBzNngG4vSH1OXADxSHJM0zhD9y+T5zjqg/dWISwV2d2GNOhqR6e/\n",
       "cLRSX5fmxFgskjrA5VBBhsvSaf4pZW2H7stP/tBk2zBux/PV+8KplpEC6fp+ZokRbo/L1ad20DJm\n",
       "FajydS+6Nv8xSVWPQHtWpPaWgjDwGKrPJqS8ooRM70uEYKq6DsXCNGR1HprAsn2XiHk/rpJyomT1\n",
       "A+WyAXnj91XbcfgTmEE9DpLkOCnjukcY+PaWVba3YmWPcxWaivtNlQw6T0HFqJZB4Sy4rA892Zy9\n",
       "7JPO5DWIFALxb/ilugWXIYIot1n2BD0d0uOLsECf8lw1rZnLr+nuLc7xIsPDEB4Tm3GYKTO/sFZL\n",
       "1uOdNIZlRQYwtVaI+pI7L3CTCPpgleGSMZuNXMpylALoE9Su22oPzySSL+NZTrhQXonmZeKjkiGB\n",
       "yDy5Q+kx6gaDfxV3k1Sk04eFJNwGfyY6vW7A1jguG/JpHOalsqpOX7oUII971D9aU3p+u46uX/zl\n",
       "J/8hAARLdXfh1uQG2dwD1QEfDJA02uf1gU45CehPB44C57Svvd7VAGO2wQAACUpBmiFsQV/+1qVp\n",
       "tG8oADtN6GANmPmLCgKmOPoHLfc5nXkb56zHt01VHmMNgCU8JCgmMibMPTbNs+V7AM8fg5sJvraS\n",
       "9KHJ43ofV2JXAEcdJInzwgQudpq5uzIbl9jDKGokOqAhOsTz8DzX25KAzsSGrLh9oBuw+/8r73yZ\n",
       "m1C28xo65M6NU/5jh8Auh74ziIV7srtMV0wecs7b+edZRogu98+tR5wR5Z9E0SVu6LfbN3PHs41v\n",
       "MlIcS3WkoMzpfGdthn+dGYQi3cavWAiQ/l1pNrAlo8okcyGWSqps6kD9HmGKg12XaaYDVoUMxf1T\n",
       "onqF5bHdHAhMtyZQJIpfg/xvH4Ks2WIIgCYigGgTRRfyHqI3jVjrDWS+0SSAt52OAJC/yeLL6lTY\n",
       "9EP3s+1NN2u83cJ0FcsC2keOtXX9JpP4+1agTb/eje7bSErgEODRVHuh7IBKDwWB6TYnMSx5Vq9B\n",
       "FCzn2dSyFJhnT+L46Tcjgqe1t/FnWZfbFEsuuIG5FUO3BIyFPLjI7TnE9yVQ/7O42kGHxcm2sC/R\n",
       "sUguJt5nlfHPeu0LQ0sDxUWcklr7/CY1kj5iYV80C54JLPdEfjLfXy3lQuyUs0BvEOJrJBL7zz2L\n",
       "zFUh1JFj2Ed6k9vc2axPDA+afNIAdKvejso7N5PDKmsLQa1o35Ykl4p0w49Fa6rvCVhWXNbkSPZV\n",
       "bMUGHMJ/9B+YT4rPp869bEeySCvTBVMG5BGH4GqywTW3mfEnnUJegzIOcvs64QCpS9K/GXxCEPG5\n",
       "EFwG/QEVc7UpumlYhxEpJrS3BtBUbpVheZHrlTCx11c+RRwCZlNLs7si+2og7L2VEuQnlI7MkEL5\n",
       "d5/Yw7rtvqWRmpEaVfNSj4djK9E9n7r3o1m1ALWpGjD9mb2tZhGwCeLFpSB5SdX34zG6ZL+4BtG1\n",
       "HeQ/+N+GA2nlRxB32/YKqkgGeDmMKGN/+rG9/8b/d4f+eY6iqZlJXdvenc5qQToQKQCISL23AX3+\n",
       "Aq2LG5evxGWQpeg/hv44gr2YIFQwJcX3unkmRsAUMrtRK9EBgPWvadCX0yTvuqk8jzTVFuxxRq9V\n",
       "0ez7TfhAal9FJHzv+F5n+RWier7WEDAGZ4gyWRpTN1OlSidXr8aTZ5dNZBof0/1sLqHqZetl2Vtq\n",
       "IEGTL1KbBAoHIJ4PHu7vUCDobEhfK7dg85ZuvCeYUx/js2dmwnn+H026GZEJu0jd2kOXw0mPMCxs\n",
       "7t/WifBI+wAypE7qWMd6IkmbTEfPee/HSyZ9X/E9MQOh5O25TqOeTYe8pplAaixFdvwl8ajKGtyD\n",
       "ZMB4Nuj9mnrE4KCZKQ1QEuLKX749uOX6lmQ7oPcSacIWuv69t2XxTArVHtqjhE3guxRExtvtnLxW\n",
       "QlbNGaCFXYyjxEzA6kfdGVOMTiiWHRajQrcMG4EwbkoCQ5TCbJoBFkFc0zoIhk0iCQYX87/C/JDC\n",
       "R8G1LKZFMZ0Ya/kXmRieKLPdU8gyTKAw2CFUg80/bk/DX6n8a8oWNSmj1DJqYZwTgZU0KpbFwC3p\n",
       "nj81yHG2MDJn/RGvY0Wym0y9ShQT+V0jGdUao7mOKJ+GlHXmjbkcbhO83OahlEms10YV0OhpOoKM\n",
       "wED1ojtFEXavR2NSmsTVGzc7bhgTyf0Taxtaz5gCXoNjsnk01+uizhWM2nu8wsw9rJZs+khDT028\n",
       "SVdaNdnz2XRCEFVbwjUZ1kasdPJLA03uhsIgfsOF9MNNRq5tpkkDvbHfu645b5iWdh3H0PhY9FGW\n",
       "1KXD/2elTw/1C7JRorV4NHCKuYTdRKAdjaR+ZH2hU5qqMp47wyPXLobxUffArsWZG9DNMMlEDEbK\n",
       "Eqcdnyak9T0Botqx0GmhQnEKnIniUhLowsJi/HojgNMcsIDmqFUuNqKy+hL8g3D8xGRGmz1vQqVW\n",
       "oL06hOw94G+DQ9qLfYMzXbNZ2Whj1NVlYL8Qa7DKu16Z37NgAhn+k+c++bYAuLA9ymizDJFNsMT9\n",
       "zTTYbVFNFkrsTuvz53riEGAYyoVt0ToVkccV6cMzH9DI/eD7biiPnfnhbJ4h30HpqkodUKChrIj7\n",
       "X+x8u5diuFuzNAjiJBSJQJt15WnSJeSJylq4WliYge9W0qG/38yqjOaRo14EmU15mMKSmdDkpFmo\n",
       "BFGgJkvVjVm3dwOP9nwWfhCptAV3/olavGB8/lhjyk5Mil18kM0fFsFQ61xGNd+bTq6qFsfg9kRy\n",
       "v4Cw7AHCgz0CcJc243ZsfuDhCXMzk2HZK3gBWkFo5Ci4+PiJDnt0Vx8Hj5pJmz3kmbSKhhvawgVy\n",
       "ByrkbyYLsEpZNbcK5AMnQm0/TdxqgOWZwj1CkhcsY39Y/Sr0VzwPM1nygwIH47XvxI2qS3yK9r+Q\n",
       "Hs86gi4CrhkbU0Uf6otINzIoI7TeIyfg+vU9uWNMkVFh8VYQ9+KlnTUyFlEgPSpfhLw4Xr7Xr7lf\n",
       "DoOC52ob1jiQv1s+d1sOq1RrtiYdsE2O6sN/8nE7JctU3VnnjFaF3wFRWJwzt58PpkmQTMhkDpkP\n",
       "GOqqC6rNyaMWgT9eJK6ZKiSj39gGH43YBGbZBxDCtY8AFAJ3IiaY+12j/4pbLEXfjh3XPQ+1URoi\n",
       "iD+LLzmdrSHrd/hmrsvj/efBknMmNcZO04hV9aUSjFA7X7yEwR2XYa3E2bjbwLI3/1S+OuqfusnG\n",
       "lLmsWw6c3vkhhBDJ85zbDnBsdWLhtKJSvKGBZaJpCi9ukcbPMN4R4Foa2nK8Z5aQEwevNkGqFXpB\n",
       "/uQQymmiXt27fevz/BWsVf1B0ZfSBRFxRVX0sraEF2W4uVJwpOokCfXmb/PLeTVMqyw1AxPLEf8Z\n",
       "i9RynP4RJe5FuJspmQoIl9un7HiVCOowMHJdZG781iWTWdv5dL+1x1lJggskSyy4mwaY1OxlGRq9\n",
       "8mBWMR4RCQNciCejdfb6zkm93NaPgAV011P6psoLMfpTeVzl3+Xi/cKzLdsinvcaSuf+uhraHl8c\n",
       "VY70uuOCJULv0X1F0uzaWGNKbEQ7hLEZitEfahkeL5rP20Ix3MTGmymKDWo/Xko5aPSbtVqz7OKW\n",
       "dY4ahxUilI+A8M+3uBpSUJ1y/piEjlovNVLCJ8Ved31ZpwYdDLqiO9KwhFL0F3rhPZGmf3pK02ee\n",
       "TN14Vk1+HdGUQYMenO+XXrxy3FlkrdfiIOw0mn3jYAAAAyZtb292AAAAbG12aGQAAAAAAAAAAAAA\n",
       "AAAAAAPoAAAPoAABAAABAAAAAAAAAAAAAAAAAQAAAAAAAAAAAAAAAAAAAAEAAAAAAAAAAAAAAAAA\n",
       "AEAAAAAAAAAAAAAAAAAAAAAAAAAAAAAAAAAAAAAAAAACAAACUHRyYWsAAABcdGtoZAAAAAMAAAAA\n",
       "AAAAAAAAAAEAAAAAAAAPoAAAAAAAAAAAAAAAAAAAAAAAAQAAAAAAAAAAAAAAAAAAAAEAAAAAAAAA\n",
       "AAAAAAAAAEAAAAABsAAAASAAAAAAACRlZHRzAAAAHGVsc3QAAAAAAAAAAQAAD6AAAAAAAAEAAAAA\n",
       "AchtZGlhAAAAIG1kaGQAAAAAAAAAAAAAAAAAAEAAAAEAAFXEAAAAAAAtaGRscgAAAAAAAAAAdmlk\n",
       "ZQAAAAAAAAAAAAAAAFZpZGVvSGFuZGxlcgAAAAFzbWluZgAAABR2bWhkAAAAAQAAAAAAAAAAAAAA\n",
       "JGRpbmYAAAAcZHJlZgAAAAAAAAABAAAADHVybCAAAAABAAABM3N0YmwAAACzc3RzZAAAAAAAAAAB\n",
       "AAAAo2F2YzEAAAAAAAAAAQAAAAAAAAAAAAAAAAAAAAABsAEgAEgAAABIAAAAAAAAAAEAAAAAAAAA\n",
       "AAAAAAAAAAAAAAAAAAAAAAAAAAAAAAAAAAAY//8AAAAxYXZjQwFkABX/4QAYZ2QAFazZQbCWhAAA\n",
       "AwAIAAADAAg8WLZYAQAGaOvjyyLAAAAAHHV1aWRraEDyXyRPxbo5pRvPAyPzAAAAAAAAABhzdHRz\n",
       "AAAAAAAAAAEAAAACAACAAAAAABRzdHNzAAAAAAAAAAEAAAABAAAAHHN0c2MAAAAAAAAAAQAAAAEA\n",
       "AAACAAAAAQAAABxzdHN6AAAAAAAAAAAAAAACAAAdnAAACU4AAAAUc3RjbwAAAAAAAAABAAAALAAA\n",
       "AGJ1ZHRhAAAAWm1ldGEAAAAAAAAAIWhkbHIAAAAAAAAAAG1kaXJhcHBsAAAAAAAAAAAAAAAALWls\n",
       "c3QAAAAlqXRvbwAAAB1kYXRhAAAAAQAAAABMYXZmNTcuODMuMTAw\n",
       "\">\n",
       "  Your browser does not support the video tag.\n",
       "</video>"
      ],
      "text/plain": [
       "<matplotlib.animation.ArtistAnimation at 0x2020e93b4c8>"
      ]
     },
     "execution_count": 7,
     "metadata": {},
     "output_type": "execute_result"
    }
   ],
   "source": [
    "# Define the figure and plot as animation for clarity - CUH\n",
    "fig, ax = plt.subplots()\n",
    "ax.xaxis.tick_top()\n",
    "ax.xaxis.set_label_position('top') \n",
    "\n",
    "im1 = plt.imshow(KID13_nov_mask)\n",
    "im2 = plt.imshow(KID13_feb_mask)\n",
    "ims = [[im1], [im2]]\n",
    "\n",
    "plt.xlabel('Px', fontweight='bold')\n",
    "plt.ylabel('Px', fontweight='bold')\n",
    "plt.colorbar(label='Elevation (m)')\n",
    "plt.title('CUH', fontweight='bold')\n",
    "\n",
    "anim = animation.ArtistAnimation(fig, ims, interval=2000, repeat_delay=1000)\n",
    "plt.close()\n",
    "\n",
    "anim"
   ]
  },
  {
   "cell_type": "markdown",
   "metadata": {},
   "source": [
    "We can see that the datasets cannot be differenced as they are currently.\n",
    "\n",
    "To ensure the same projection, resolution, and extent, we can use the [`gdalwarp`](https://www.gdal.org/gdalwarp.html) command line utility. Below you'll see that instead of defining a normal rectangular extent using (right, bottom, left, top), I'm clipping the datasets to pre-defined shapefiles.\n",
    "\n",
    "**Note:** I'm using the single `gdalwarp` command line utility here because I have only four rasters. If I had, say, 100 rasters, I would be much better off creating a shell script or using a `gdal` Python API."
   ]
  },
  {
   "cell_type": "code",
   "execution_count": 8,
   "metadata": {},
   "outputs": [
    {
     "name": "stderr",
     "output_type": "stream",
     "text": [
      "Warning 1: the source raster dataset has a SRS, but the cutline features"
     ]
    },
    {
     "name": "stdout",
     "output_type": "stream",
     "text": [
      "Creating output file that is 1237P x 8313L.\n",
      "Processing ./KID13_data/manaster_20201109_KID13_5x_test_dsm.tif [1/1] : 0Using internal nodata values (e.g. -10000) for image ./KID13_data/manaster_20201109_KID13_5x_test_dsm.tif.\n",
      "Copying nodata values from source ./KID13_data/manaster_20201109_KID13_5x_test_dsm.tif to destination ./KID13_data/KID13_nov_reproj.tif.\n",
      "...10...20...30...40...50...60...70...80...90...100 - done.\n"
     ]
    },
    {
     "name": "stderr",
     "output_type": "stream",
     "text": [
      "\n",
      "not.  We assume that the cutline coordinates are expressed in the destination SRS.\n",
      "If not, cutline results may be incorrect.\n"
     ]
    }
   ],
   "source": [
    "!gdalwarp -of GTiff -cutline ./KID13_data/rasterMask.shp -crop_to_cutline\\\n",
    "        -tr 0.01 0.01 -r cubic -overwrite -vshift -tap \\\n",
    "        ./KID13_data/manaster_20201109_KID13_5x_test_dsm.tif ./KID13_data/KID13_nov_reproj.tif"
   ]
  },
  {
   "cell_type": "code",
   "execution_count": 9,
   "metadata": {},
   "outputs": [
    {
     "name": "stdout",
     "output_type": "stream",
     "text": [
      "Creating output file that is 1237P x 8313L.\n",
      "Processing ./KID13_data/manaster_20210208_KID13_5x_dsm.tif [1/1] : 0Using internal nodata values (e.g. -10000) for image ./KID13_data/manaster_20210208_KID13_5x_dsm.tif.\n",
      "Copying nodata values from source ./KID13_data/manaster_20210208_KID13_5x_dsm.tif to destination ./KID13_data/KID13_feb_reproj.tif.\n",
      "...10...20...30...40...50...60...70...80...90...100 - done.\n"
     ]
    },
    {
     "name": "stderr",
     "output_type": "stream",
     "text": [
      "Warning 1: the source raster dataset has a SRS, but the cutline features\n",
      "not.  We assume that the cutline coordinates are expressed in the destination SRS.\n",
      "If not, cutline results may be incorrect.\n"
     ]
    }
   ],
   "source": [
    "!gdalwarp -of GTiff -cutline ./KID13_data/rasterMask.shp -crop_to_cutline\\\n",
    "        -tr 0.01 0.01 -r cubic -overwrite -vshift -tap \\\n",
    "        ./KID13_data/manaster_20210208_KID13_5x_dsm.tif ./KID13_data/KID13_feb_reproj.tif"
   ]
  },
  {
   "cell_type": "markdown",
   "metadata": {},
   "source": [
    "Now that we have DEMs that are the same projection, extent, and resolution, let's look at them."
   ]
  },
  {
   "cell_type": "code",
   "execution_count": 10,
   "metadata": {
    "scrolled": true
   },
   "outputs": [
    {
     "name": "stdout",
     "output_type": "stream",
     "text": [
      "{'count': 1,\n",
      " 'crs': CRS.from_epsg(4269),\n",
      " 'driver': 'GTiff',\n",
      " 'dtype': 'float32',\n",
      " 'height': 8313,\n",
      " 'interleave': 'band',\n",
      " 'nodata': -10000.0,\n",
      " 'tiled': False,\n",
      " 'transform': Affine(0.01, 0.0, 4988.83,\n",
      "       0.0, -0.01, 5097.2),\n",
      " 'width': 1237}\n",
      "{'count': 1,\n",
      " 'crs': CRS.from_epsg(4269),\n",
      " 'driver': 'GTiff',\n",
      " 'dtype': 'float32',\n",
      " 'height': 8313,\n",
      " 'interleave': 'band',\n",
      " 'nodata': -10000.0,\n",
      " 'tiled': False,\n",
      " 'transform': Affine(0.01, 0.0, 4988.83,\n",
      "       0.0, -0.01, 5097.2),\n",
      " 'width': 1237}\n"
     ]
    }
   ],
   "source": [
    "# Read in each DEM for CUH, look at the profile, load the DEMs as arrays, and mask nodata values - CUH\n",
    "KID13_nov_proj = rio.open('./KID13_data/KID13_nov_reproj.tif')\n",
    "pprint(KID13_nov_proj.profile)\n",
    "KID13_nov_proj_read = KID13_nov_proj.read(1)\n",
    "KID13_nov_proj_mask = np.ma.masked_values(KID13_nov_proj_read, -10000.)\n",
    "KID13_nov_proj.close()\n",
    "\n",
    "KID13_feb_proj  = rio.open('./KID13_data/KID13_feb_reproj.tif')\n",
    "pprint(KID13_feb_proj.profile)\n",
    "KID13_feb_proj_read = KID13_feb_proj.read(1)\n",
    "KID13_feb_proj_mask = np.ma.masked_values(KID13_feb_proj_read, -10000.)\n",
    "KID13_feb_proj.close()"
   ]
  },
  {
   "cell_type": "code",
   "execution_count": 11,
   "metadata": {},
   "outputs": [
    {
     "data": {
      "text/html": [
       "<video width=\"432\" height=\"288\" controls autoplay loop>\n",
       "  <source type=\"video/mp4\" src=\"data:video/mp4;base64,AAAAHGZ0eXBNNFYgAAACAGlzb21pc28yYXZjMQAAAAhmcmVlAAAdGW1kYXQAAAKtBgX//6ncRem9\n",
       "5tlIt5Ys2CDZI+7veDI2NCAtIGNvcmUgMTUyIHIyODUxIGJhMjQ4OTkgLSBILjI2NC9NUEVHLTQg\n",
       "QVZDIGNvZGVjIC0gQ29weWxlZnQgMjAwMy0yMDE3IC0gaHR0cDovL3d3dy52aWRlb2xhbi5vcmcv\n",
       "eDI2NC5odG1sIC0gb3B0aW9uczogY2FiYWM9MSByZWY9MyBkZWJsb2NrPTE6MDowIGFuYWx5c2U9\n",
       "MHgzOjB4MTEzIG1lPWhleCBzdWJtZT03IHBzeT0xIHBzeV9yZD0xLjAwOjAuMDAgbWl4ZWRfcmVm\n",
       "PTEgbWVfcmFuZ2U9MTYgY2hyb21hX21lPTEgdHJlbGxpcz0xIDh4OGRjdD0xIGNxbT0wIGRlYWR6\n",
       "b25lPTIxLDExIGZhc3RfcHNraXA9MSBjaHJvbWFfcXBfb2Zmc2V0PS0yIHRocmVhZHM9OSBsb29r\n",
       "YWhlYWRfdGhyZWFkcz0xIHNsaWNlZF90aHJlYWRzPTAgbnI9MCBkZWNpbWF0ZT0xIGludGVybGFj\n",
       "ZWQ9MCBibHVyYXlfY29tcGF0PTAgY29uc3RyYWluZWRfaW50cmE9MCBiZnJhbWVzPTMgYl9weXJh\n",
       "bWlkPTIgYl9hZGFwdD0xIGJfYmlhcz0wIGRpcmVjdD0xIHdlaWdodGI9MSBvcGVuX2dvcD0wIHdl\n",
       "aWdodHA9MiBrZXlpbnQ9MjUwIGtleWludF9taW49MSBzY2VuZWN1dD00MCBpbnRyYV9yZWZyZXNo\n",
       "PTAgcmNfbG9va2FoZWFkPTQwIHJjPWNyZiBtYnRyZWU9MSBjcmY9MjMuMCBxY29tcD0wLjYwIHFw\n",
       "bWluPTAgcXBtYXg9NjkgcXBzdGVwPTQgaXBfcmF0aW89MS40MCBhcT0xOjEuMDAAgAAAGHJliIQA\n",
       "Fv/+99M/zLLr9zm146j3op4mX0N1JQGblsTtOoAAAAMABnblzZfZ7UFwH4g7/yF2NeAAXTU6lZ4U\n",
       "L0dTYYvBw+qA345Fd629M0RU3HytBacccVR+hX3j19Ym9uwfDusDIyx9g39Xl0xLb27qnbN1dRiB\n",
       "9gvJ0GHw8eF22irUP96JdoPr1VzA3He85IbkZB2Q1rd2bv9BQ5gW37DJtS3sDE/zlANLuddE0zjA\n",
       "lFwwPJKEk/4cDBXbfpvxCqfxXyLav+IMhapO9Iw78LnvL6FPhHQeRIBS0qE6vcjbpuAySIXX0us9\n",
       "eVCXzLRaywc+wH6AWdg5v/1qoJyiqHhqVlsd7zzVEprdtVywOzu3vJfqT6yWuwCA1QHxkXjqsSsi\n",
       "DkEC398aVvDLE0LVeb8cr85cMUr28FQlLVQnK9dza+TyX3CPro3Eoo4ATkAAb2emm9TMGU1E0FB7\n",
       "vTU/WY9ZwLs6Z0UsNIXSikEuf/S1wTpz98OdVYn8Xg+u+0Q/L/rMm/XZNkyggcT4FLxvMO+6wRzP\n",
       "XfPKEi4wuaf40aqDMOeOFvXZ1DfMvWb/sRd5zVyY7R+5uiNkGjY7tUUuskvx/ay34nm63OCYEN1x\n",
       "AcepRl3sl+cQ1SwfkHCfpk2Q3wag+FLESMkD/qqRVhhH5dleqXul6DHa6mpmMy7yuAia2PboZK1t\n",
       "8vTwKQXrg4n1pUmNTqZWSw4UJIVT6Z4nJEX2bTB15jU8yXsJm7iTdJf5NLgjG6VOHRoKJu9L6RsR\n",
       "CkMnpIMD+TGu5jjm0E8WUglhCj9fCnwln8y7womJiMJ5FcpQXbgmsb1DY3ET7Bob0drbxX5qAor5\n",
       "fnlDEfzmq8dMknrQgZq64aY9m9iJQxbsGP80mvfxGBW+4q1JRKRdl04/j5K/43m/r7H1Z0iLtSMq\n",
       "9exebVHCJ6FtZU9eUizvvWQ6sfXc1m11jMUO6jG53oCaR/kDQq1ji44V+3OMB+i/2IRlfRfeOC4s\n",
       "odeFqeIRsnIYtrwExeVLojFUKZuYq7UboSl8qBy9FLNRpodAd1McRl11kfGyJVIjRKUK8LIuCHEX\n",
       "6wFSPHcf5VMM5wznaZAqTGU1ItWA+HuEwg3vid33BNZMqcl+8ZlATJXqU8SDj7Qiy95L07i9KaV2\n",
       "fIbG3/itdUak8MG93lQvKZKY036+N+e7feZkQOIBkF8Y6KveypxBbpFVtI8T0z6nwC49D5vh1NrL\n",
       "e19atl+Nu9qqsn/mXCpTSrvJUI/FLgkCkIjmPL9jdeti5+97hTW0KiglKZC+quxTfLpHjOQ7ACpN\n",
       "gSJ97b0D14DLlQIqdGO/mTfTSX8EIGn2DqI0XCNf23KqzErN0aJxKCp4saYhEJaccjC0nrubRsQJ\n",
       "5ENxyOs7m6CIjy4X3W4/4//vxTcuJHS/Ouv0JnSAjGIqHHvNQ3o0AyXLO8N7C5/NMB5M3MmdYQUY\n",
       "v3fQxU+M1tPp4D8hYBwh1CyzQcy9OLRdlb9Qr9m9HgvL07cVZNcwAaAvZJKQ3ejHgflkssb3cZR8\n",
       "nct/uKEv1BbZ4D1BIs6YMn7lWmrJWGUJyG0lzuuMQsSUP+14cQbdYB6cocty/7OeHTGuVa4yrGUH\n",
       "ORQTfKf+3+EPBEcK5hA9M1YQ+aqj+pfOo9iIIp1OlCpjzUQKMOfcs1I/WMh6OXVwciX66NK+l0yZ\n",
       "p4ccw6Rs9UNYSk5AF/h4Ek7egnW7rJYqm4XZe7s2pH16uIgLR4Vxg6hxPyxkMbPvn5DWeE6Xll5k\n",
       "KUD+aoqdP2GaHdLDCYqFXIGRidd9CAA6eFa4/p/9WnE2R0iStFJjNn0BX43f1aJ8SK89G6DWMCSa\n",
       "BaaBevcNfR+7TZX6CI/eLxYYceNbqUGZCcpLQqjC+1DE7V3GRxno8b0KYxnKs5GNY1REzsMWIfpc\n",
       "lE1MKzFFjaqy2dExwFqCh66z3l6P0oo9SX7AuOb2AgnIE08QlOHmy8lp/Kbf3P+TuKSJpZjm7xgR\n",
       "B89+0q8wJSD2IBKhdX90qBBu76RfII1uxn2LV2sqQbA2G3pIl0LQFPWcHT8OVWN3vPTclibxo7Ln\n",
       "fzfi7D8oq38h+lcJrv5Aekmo6CvJWWET7b4VEvpgvkC/nIUrzI/nXuuEZLbMYl6Tjf83W6G/vj/s\n",
       "C9fJOYPbsh51alyWkJpX8oTOEkwAAPzIBQVYX3qIv2qqX9WD17JpFnFrpDNlT3dtkvLCCn0/rNa1\n",
       "hhivCS2EJGywMDZohIhI2qxd7oZ7/mhjh6Is4WLf+tGkfyroQkoRT1X2zKzUAji9JkDv9HTtiQhK\n",
       "oB/5/ggQEkIMvpHiWuMfEH4HE5uR9BpTnJVtdAYqCvIXnAVgjA/jGgsjNXORjKOxecVLwzVK1d4P\n",
       "9KWXw8chnbYLrdNf6r5WT0yUj/19EQ969zPO08Q53gPUEM9bLASvn78beXh5yAf3pIywyEOLdT7u\n",
       "t5tKnp4ABU2/NknsMU6VCK6Pkj1aV5k+8xb+cZCXQVOrg2xCPCKAF8f3PMFUU9LKw9rdTCvqS4KT\n",
       "TsssN0tb8tZ2JpFE2ScBabs6oRXEs0YIUgwKamnOgGDu3uX+1qB63hEnWYU0vPPionEhseZb2yUF\n",
       "DCWtmVErBA8sBNAmto0WiR7TJO1xadXXzHIWne3yCQTqKzhVU4LRM5/7+54nN7sBhggoEttEmFhv\n",
       "O7cEHa0Ow7VGRvgfCcNqtZVugLhIPWP4LJYkbVSk6S8eSeE/YbSSuuC4fib+BGvcWQiWYkNUvBh4\n",
       "Iu/6v7xGJdYcdhxZCEJTibtRxXUTYkDLHHj4hCKEH26Q8PDJVBSV0jTPiFeahxnRT3JQkqLk2Elx\n",
       "05pjTvgI3bTkc6gAAkxuEU2mthJLmgGr+ye7QVArJiC93WzHWdNEs9juIxNBuLw55R+bhKcVHq18\n",
       "nMyGcPsN7x15uVfQ73onK06xp1Io+dvChq/qjc9q2mPBaOuD8SVOmy+LVKcjaXWEMjygpRL7somh\n",
       "9HKWK8nr13pO+lnxpbWPv0POoWvf/82gbbwH6AehCyha+oW+4Or83clo9Wi4aRs5seRhvzfCE5iK\n",
       "DZ1H4M50fbFqWwGz3kLfHtN1EX+TFg1iV0UaUjM17OSapinKabnReZGWWC83q6D2EVQICsGeKr79\n",
       "exgbFLfI36Aw44dvrKi2Zz5gE4WgRUQDSlzBFHdSI0ytbepj5q3Q/WQHDWO6hVpa/a0YhsVMVlvl\n",
       "PZgkLfANvTn+nM1Mgq2ZzZThvNUb+agStaEsNKYtLxdiI9Ewz+YWWsIKTFH1FGTIFRavQV5w0dBr\n",
       "CEMM73dgngBA8Q8Pgx7y4h2uRYSHHsQ5AqeK/afM5OyPJ4ZyL3Q5XAEJwXfNXHkvApk8aWVOBXvF\n",
       "Ci1hsx+g45xNg/qVYzkNXmQN7/6Hk5/cpVhOtu5l86FYGCcFpLvJo06T1wMKbGzeawRaW+YkTsMX\n",
       "IOq0aiAab+7pxdDTY3tBDQsHMZFElRbQ20e2QEtIxGciPEpAF+n/nl5RAHRuRqFJ3M+vcGOTf4sW\n",
       "QQyTyT1kUdjbHHXs+iRy1W6nakaQVwAgkGm+kKgnMpQUKGPkS/bHji3Z/+X4wpGV/YvktI8cnAl9\n",
       "OBgpehmbeLJfnDM4JPFcECoQauY7NFnzNCfefw8S7hgZgWsbXvsKhDDlxYww3Z2ismABcSzDhNF7\n",
       "PxlZYuyGJidDbhWfjHx2BzP7aeSvDa5rlqpOF7Zm+porqUOBtaC76Iiy5dt84rKTKoWanijavSct\n",
       "9fj8JM21Epb0ZyEdFjZe4Q0JUYsrZokkelUc8u15N8KejxOUcT5zWZbaDJMsTjIL9E9f6qbdjFqv\n",
       "xIbsrBp+FTSMIY/52FatfUy9KgXup/ecryGZ7R9ETngAYZUl/JQcumimz6nlzsJDvwk8n8DXPJn+\n",
       "N7MDqVUJLHpjrZhpjQccmtrDeFj3CH1CPNtdz2umFCGEfE1XuOwqZYIpjMiwICsm7kmUYwI2GBts\n",
       "O4yy+XwwAkSxXPj2uC3pM1Vwaa6JS2nWz085x8zFDNH0/iP1XLjylnsRjBEsRK9T/EwROQNt1xNm\n",
       "B7sc/qNJwcv3v9hxUEh7EX+wgXY4svnbDD1EMjlW+xSNkOhMoTki7eRjFEYy3b+WBSv95vXbsD7I\n",
       "lvekz4JK8fLzs0Tw1Mq//iZhAVXMwFNXLPYX1AZf/wg3MFoUmSozwUcSsauxLMmwkwRwT9j0cWp6\n",
       "9+iZjy4S3Ba23/vaa4d41Cj0p8dA7z6EdHz3oemSKyE9GA/Fzyna6iCDQztC5vEJ+umyTmC7XaGl\n",
       "+VUUJbFeArjxHhEmqQfoInY5FHG9+hv/6/1MXbsgTnAYsLbhFGhMg5sbfl55YH3gxNhX8hsEdZCY\n",
       "VYgnQiQ4fvH4h5/spjaHoc052mwHaQBJPvvMHUFZ5x24a75Nc4dWjdm+kTE3saF/9hA9i8TEOXLl\n",
       "NLMyApt3C+fyKhXxa0ZPv8hRzceKj9sXW6s8VU7WvIoIRrzeykFDqEl6SvDmiKIaLW/FzRrg4y4N\n",
       "h61WO+trEY54h7tVzn1mTMi2lOrsggv0dCuGH0jqJ6T1ZAAGvNZao/EQrgR5psR4wqJhE1KEcZf9\n",
       "uULKKhMyXf31oyuH2BDXQWzZv5aaSqhtLq+/k4vt4knUX8wgVmXg1aHfQg5vdqYLqokFxkq0P+nM\n",
       "oaWWC7tx9LcpesGvqixAUvnedVOGEgvcYwAW0B3JXVua/EXENbLQyfeQY8C2/FZqkd8N7a7nPjsz\n",
       "xYe81R3TtbWUkPt/PC998chAKuBpvlrZJR/1th8WwxQoVTAa/sUhgq3wd7GxrYj3FW/jt9lwqDB5\n",
       "eWmR2g09aNJbIAs+gpKGZiXBzbFwIrxHO3zLaruMDQVjWSZioKQ5m3g7PiLWt8+xqG5ff0px5K9V\n",
       "Ct5m/t4eC7AY8vcPW07SS4DtFHTWHHWCjlMQRV5N1GANDQb9x9EF+gMqTve3RKfuAGPBbBg9Fk31\n",
       "r8oAeDbwFGpBAX6gs0PMLBkbeRBzGZERk67uDzANNWQjgV2JmvNyLjbCoj9F+JIe33W1DTp54TxS\n",
       "/smKhpvYcVo7WH4tm6gM00nM04PlhM6JdFe10t+UH//Oxh3n5Gm4FDite65TaGNwmEW8swIQNWqE\n",
       "Yf9G78HtYY+DMTJd01IkjBQV6rSeS86zN1w3W7Rqrol1ExhdUySvxnjCZH3vrUJw/x5/lcDaPWpP\n",
       "v8HaQsYBnLwJJ1lJiILZQyex3AbFmiJw6tPq28QL7G3meaMaOGXonic3zwRC+68su7WEXOwyZAt3\n",
       "IKcrmFp705iFm47KrWIQt09VQc/bJrpQxSQPsl3ZFd76HN/tmxQH6vWuTbPIwniZ/AeYG3B123xi\n",
       "fxQ4mWqkxBR0tjwQQBhFTmlwA05ed8Kz3m+S2ZLcsjpCKfOx64n8KxuTh1GuRpROr+EUjNCvKiZy\n",
       "NJjrW/dl3SfLbaWG5FItf6PzRhYPJ5OAXAoeHhjPPVcCH1cNZJAbn5S3Qt4O2tUltnGUjFWYAklL\n",
       "qvx6gXbIG+Rc3YuNwskk8H4JsurTPa8yKvzsPZpaWMhx8+JpN5428GtiEah8sdEeVqr/fVGhyr+w\n",
       "vNKlrmRUiJ4Wq9QBle4JRUqHMf1g8r/NWKJUnFTtFC5fXN+S+RkjiYPu9L3wejgCwAwZi1bQNjFT\n",
       "z/U0nD2kMTQihnj1g/xf2G7ynD975YV0t3hVyB6isUFlTho//6/VBRLulltpjxhwDJe/wKzH3C01\n",
       "8GaPKB0DbN4tsUANnqFJaR+XsaWdxpxM9ukYIC3uC9FcUMVqGIFqWEWnmyj5vi42vhTM9YzItX5J\n",
       "DpDoXkAJbToN8vfkaU0R8XJ1kgbYGKW1GWcdV25trnOdmhD4WtduqKfQSNpNVqJ/ieHYBkbIsN8w\n",
       "S8iqDtNi7ANOagWwSO04BrJejqNk3IY4wOHTs9OjZoco/l2//92m8iB+zqa0oa13l6bIHBgApCLe\n",
       "maF9ZzsrL6xAl/sdAjZTcvm0mLN64PgCmeDLuCveXiuqtxtKVB6mWZysJQCpIwgKt9POQJIIA1i+\n",
       "m6qHdLDFA/uIUN3jX5MamhkmDduQfiknJ2/8GpBhKWVykU+1F5pocbmt1UhKw8+pRwVEH3/gMl8X\n",
       "0dbQbQLWiStFJwOvqEo3BaFNdiiCt9A/T6mmGQKaJheVF+QPfmWNdqytazw9oTkdqEq2e2XjehTG\n",
       "M5VnWz71ZdbAiMfZnbOtKJLgFAn7X5cCNDb+aqg9cvm5+5zzmqWBgutjCCxhWCE9m1IMU4fI12M1\n",
       "HvxOzufWGNhrxn/0Z7+lG/aeItuEUaEyDl5nyf/k+eE2GDCQjgfQS2wRNa86oS/Bn/gaoc9RHqFC\n",
       "5GgdM/2ZRedczYAG9+ZwIEa9dgbxYr2fhhM/vihYsjtfE/nNXJYvHgKCIx975q+MGQjFUITrtVt+\n",
       "kPE5h4jBewr6A3rv2l8p2qG4MzJRx8al7trDPjd5rKF8IX2lsJOXSzKf40bolkAI+58Dk2KZnnHv\n",
       "I5t+3leeYgDUf9eurIx0KKofjmz3frFRA1Zf/77bw/AE870VLn7FOcK9zai3MQheI30yeOWHxuzG\n",
       "Av3gzkVQyFTPnDfPI6uxKkp1F5UCKRPK/2TYZkg2pcUABWPV8giHmGloVpgt3XnZxP8cGALKRWYy\n",
       "dGi0mWi4E+pHhbG0w2RMyt9JNkqChDMtZH4IoyCPAVckDpBUjqayHb7tvzfabCdhOzy+/EWQxBCZ\n",
       "FDwDSdfiF64RQcfqkzuQF9z5OjHCC8Xi2PFascpSZ/IzVbZhHznZ17IibD3uTrAPPru25e6OA479\n",
       "SJg5682YjV21YzJ2G+o208IShMJJR1BI0oPshG2abQ+dtMu9qkxe3rk6oIy2gjol1CLoSDezBf7q\n",
       "//wANJiw+o/2kWrvs7ee2UpxoxnnZtt/24Ik3T+I00zWk7U5vFhjrZekQ+qbEsVOUORF/CBZe6LW\n",
       "RzPvtywFfYjymeWsweaQ09AFbVTm5FDokEhhw8QzDMr7itoBRgSnpoJagRJGvrtNnn1CnGGc7G3V\n",
       "/OSPExRrCfv/NBBQMGQo/oGP7VIHFShSXJJHN8Rq7/riC74DVOSlylBfqA0VYBlwDPL0gReR1T3h\n",
       "GPcjNsvIwT2BjUDWVIvQlJTimk0jV0vhqzERpptX40bnTaBJAbUyb4IW3zvPI7UG+6llmS63Fo2W\n",
       "VOdlhDkGfSKehO8XTi55JhMwUUsVSRMVb8h4x77Tb9a8AGCY3qh9C/WLLU+lhwFyEOU0TatUYiL7\n",
       "51j1/P7lm1TqqBYX63sTD8g4ktZM5iJkZBMR6XHtOfaHzhpHc6SzPawBr/eSv/oIPDpBJr+SIaq5\n",
       "mtvkHqYxeT/YtxsSQIf7hE7+zWN1jkncNZGxDFfQLl1HDQ33n/tyFptKnMlhVBtX29wOOI5MvylT\n",
       "uLKym4inQEEYyTmhMNbBw/cnOCo/aGQrDpwOk1vSUHfClMPfKO+5e4YmfZ34gL1AGHoJOSs01ACX\n",
       "WSdqSBPcDsZ75KiVj3qQQae0tIqm+uXNI5a6p1bslIghg6W0BwESi1oNoCbcHl1BcYvj94sdJrCe\n",
       "P9QkhekrBpKlb68RV/E1r5zReWtbgrFnfcSYZBIQvI2td8pGHlriffkyDD5IaoNgnBeVsY3E8I0g\n",
       "u4c0FYgNBfrrWEqJiZu9B/V6X1m81JbfXH84VtcdRKZcPWeZSrZYJiVWpNDY+N1en4N0r3qZ8ORy\n",
       "E491z6D9DhQ0KOgMbYBhBvmkWfmUGlGzgo4m0Mv2lmur+Ho5rJKLvOaqTSFl00xZ/yiAGZ51gkE0\n",
       "AqJa8kMJXfEHmjXZmP9lAx/VMA7yar0bTti53pekw7dAFb6PyadtTffoQfGmL40cscIPq7zF3YFW\n",
       "x5UhAmwST6G2RDHIWEokGRiZkQGAPoQcq3dhAkUIsKFVtG2ESNFxe36sDIanmIjnu7ipAO4SseyA\n",
       "YKnSwEKx8fsQmD39+rxIVQ+8FpP7G8+TKhZ2WmgkTfJSDPp6sxGn1v7bLBopa6g6+V2KRVunUCEc\n",
       "Z6pGKuVHFltHarNFD62n8DVhyLo8gifCOt9688D9rEwpfuyi7Zn7pcghwk1UZ56TCNtNPBWrteyr\n",
       "XAKpgFoc+Mq4nbZZgdJiHyy0us04g6GRGq1pokjUe205cAdr3b3jsH2fcnqkXCqyOiD5u2OaHtyp\n",
       "iw3vVQH9D/Hbxwk7AHq70yy1dEtGHAtuFXyEgedNof0pmLrJzZ/zw8zgdUdMzL3CO/fcKm4LMPSc\n",
       "BG/2znla9qL8pyjvXh1+tLileDwBkoDi9N4TL25s3xd6CnmTh/2XPwrwLu/5JvpAF7KrbhIoK96o\n",
       "E6Vp/MWnBcJIiLf7fHgsij4zDrBJVekL34Y2QFqOvzysvzeRJAJXz+cAAAHmQZohbEFf/talUAtV\n",
       "QBgAy9S6hixuE08loUABy1rbyMvpx7HBwv2LzhrpgZhmY+CFzzBF08mNVnDFduI9b/84V8Y/tfQw\n",
       "l1p+KDN9f8pZHBnku8ZCdrWXhlLVXghRmmE64n1LY0uqVa7OdYmD6nsvZ3nVJUvf5xOitzoWty4Q\n",
       "UdVf26gjOzOPwjdf1buwnLFSSMo/5Ng3mMeZ4Wpw2AphNHrO2MLSBG2X57z/pqRAh4Np9kvEXhc9\n",
       "qj1Ur9lLxXDkAnKd9qmev+Y/uccsjcf3YzcET10fnVjp82mTfv+VMS7gmzLHBeBiYqOWBX+Y/WdO\n",
       "7I6KPCJtVBkhr4oiDVvMervHo1TRqdAURj98ONza72AhdgMIGWs/N3OzB6D+hLkVYV3DjomSXaqs\n",
       "AM9jdS8QC8GlOSNYnNBko85dIr4Z3xnJ9xs6PoRdkKZf2itHXEEU6L7XA1tmjE932Y2YshnFtb5S\n",
       "PkPNrtkyYm2lkIuuuBwEafE9JPlzPNXraPF/DSK/x09GhrAvfhFNV+2I9oMBy05phHqYbW8MckbL\n",
       "dBVvciX6kiDqAZnE//rGzhccFSD8gdPBVCT+/dYfUjnxKWbINaz41qR91f5tUYA/9OlK2fBF3dEr\n",
       "0bTcLRflwU9Q2GAXJ5nbg33wAAADJm1vb3YAAABsbXZoZAAAAAAAAAAAAAAAAAAAA+gAAA+gAAEA\n",
       "AAEAAAAAAAAAAAAAAAABAAAAAAAAAAAAAAAAAAAAAQAAAAAAAAAAAAAAAAAAQAAAAAAAAAAAAAAA\n",
       "AAAAAAAAAAAAAAAAAAAAAAAAAAIAAAJQdHJhawAAAFx0a2hkAAAAAwAAAAAAAAAAAAAAAQAAAAAA\n",
       "AA+gAAAAAAAAAAAAAAAAAAAAAAABAAAAAAAAAAAAAAAAAAAAAQAAAAAAAAAAAAAAAAAAQAAAAAGw\n",
       "AAABIAAAAAAAJGVkdHMAAAAcZWxzdAAAAAAAAAABAAAPoAAAAAAAAQAAAAAByG1kaWEAAAAgbWRo\n",
       "ZAAAAAAAAAAAAAAAAAAAQAAAAQAAVcQAAAAAAC1oZGxyAAAAAAAAAAB2aWRlAAAAAAAAAAAAAAAA\n",
       "VmlkZW9IYW5kbGVyAAAAAXNtaW5mAAAAFHZtaGQAAAABAAAAAAAAAAAAAAAkZGluZgAAABxkcmVm\n",
       "AAAAAAAAAAEAAAAMdXJsIAAAAAEAAAEzc3RibAAAALNzdHNkAAAAAAAAAAEAAACjYXZjMQAAAAAA\n",
       "AAABAAAAAAAAAAAAAAAAAAAAAAGwASAASAAAAEgAAAAAAAAAAQAAAAAAAAAAAAAAAAAAAAAAAAAA\n",
       "AAAAAAAAAAAAAAAAABj//wAAADFhdmNDAWQAFf/hABhnZAAVrNlBsJaEAAADAAgAAAMACDxYtlgB\n",
       "AAZo6+PLIsAAAAAcdXVpZGtoQPJfJE/FujmlG88DI/MAAAAAAAAAGHN0dHMAAAAAAAAAAQAAAAIA\n",
       "AIAAAAAAFHN0c3MAAAAAAAAAAQAAAAEAAAAcc3RzYwAAAAAAAAABAAAAAQAAAAIAAAABAAAAHHN0\n",
       "c3oAAAAAAAAAAAAAAAIAABsnAAAB6gAAABRzdGNvAAAAAAAAAAEAAAAsAAAAYnVkdGEAAABabWV0\n",
       "YQAAAAAAAAAhaGRscgAAAAAAAAAAbWRpcmFwcGwAAAAAAAAAAAAAAAAtaWxzdAAAACWpdG9vAAAA\n",
       "HWRhdGEAAAABAAAAAExhdmY1Ny44My4xMDA=\n",
       "\">\n",
       "  Your browser does not support the video tag.\n",
       "</video>"
      ],
      "text/plain": [
       "<matplotlib.animation.ArtistAnimation at 0x202111e0e48>"
      ]
     },
     "execution_count": 11,
     "metadata": {},
     "output_type": "execute_result"
    }
   ],
   "source": [
    "# Define plotting extent, then plot as animation for clarity - CUH\n",
    "KID13_nov_extent = rio.plot.plotting_extent(KID13_nov_proj)\n",
    "KID13_feb_extent = rio.plot.plotting_extent(KID13_feb_proj)\n",
    "\n",
    "fig, ax = plt.subplots()\n",
    "im1 = plt.imshow(KID13_nov_proj_mask, extent=KID13_nov_extent)\n",
    "im2 = plt.imshow(KID13_feb_proj_mask, extent=KID13_feb_extent)\n",
    "\n",
    "ax.set_xlabel('X (m)', fontweight='bold')\n",
    "ax.set_ylabel('Y (m)', fontweight='bold')\n",
    "plt.colorbar(label='Elevation (m)')\n",
    "plt.title('KID13', fontweight='bold')\n",
    "\n",
    "ims = [[im1], [im2]]\n",
    "\n",
    "\n",
    "anim = animation.ArtistAnimation(fig, ims, interval=2000, repeat_delay=1000)\n",
    "plt.close()\n",
    "\n",
    "anim"
   ]
  },
  {
   "cell_type": "code",
   "execution_count": null,
   "metadata": {},
   "outputs": [],
   "source": [
    "# Read in each DEM for CUH, look at the profile, load the DEMs as arrays, and mask nodata values - RW\n",
    "RW_1_proj = rio.open('./RW_data/RW_before_proj.tif')\n",
    "pprint(RW_1_proj.profile)\n",
    "RW_1_proj_read = RW_1_proj.read(1)\n",
    "RW_1_proj_mask = np.ma.masked_values(RW_1_proj_read, -10000.)\n",
    "RW_1_proj.close()\n",
    "\n",
    "RW_2_proj = rio.open('./RW_data/RW_after_proj.tif')\n",
    "pprint(RW_2_proj.profile)\n",
    "RW_2_proj_read = RW_2_proj.read(1)\n",
    "RW_2_proj_mask = np.ma.masked_values(RW_2_proj_read, -10000.)\n",
    "RW_2_proj.close()"
   ]
  },
  {
   "cell_type": "code",
   "execution_count": null,
   "metadata": {},
   "outputs": [],
   "source": [
    "# Define plotting extent, then plot as animation for clarity - RW\n",
    "RW_1_extent = rio.plot.plotting_extent(RW_1_proj)\n",
    "RW_2_extent = rio.plot.plotting_extent(RW_2_proj)\n",
    "\n",
    "fig, ax = plt.subplots()\n",
    "im1 = plt.imshow(RW_1_proj_mask, extent=RW_1_extent)\n",
    "im2 = plt.imshow(RW_2_proj_mask, extent=RW_2_extent)\n",
    "\n",
    "ax.set_xlabel('X (m)', fontweight='bold')\n",
    "ax.set_ylabel('Y (m)', fontweight='bold')\n",
    "plt.colorbar(label='Elevation (m)')\n",
    "plt.title('RW', fontweight='bold')\n",
    "\n",
    "ims = [[im1], [im2]]\n",
    "\n",
    "anim = animation.ArtistAnimation(fig, ims, interval=2000, repeat_delay=1000)\n",
    "plt.close()\n",
    "\n",
    "anim"
   ]
  },
  {
   "cell_type": "markdown",
   "metadata": {},
   "source": [
    "Excellent! Our DEMs for each site now match. Let's difference them and plot the output:"
   ]
  },
  {
   "cell_type": "code",
   "execution_count": 76,
   "metadata": {
    "scrolled": true
   },
   "outputs": [
    {
     "data": {
      "image/png": "[encoded data removed]",
      "text/plain": [
       "<Figure size 432x288 with 1 Axes>"
      ]
     },
     "metadata": {
      "needs_background": "light"
     },
     "output_type": "display_data"
    }
   ],
   "source": [
    "difference_KID13 = (KID13_feb_proj_mask-KID13_nov_proj_mask)\n",
    "\n",
    "fig, ax = plt.subplots()\n",
    "plt.imshow(difference_KID13, cmap = 'seismic', vmin= -0.25, vmax=0.25, extent=KID13_nov_extent)\n",
    "#plt.colorbar(label='Elevation Difference (m)', extend='both')\n",
    "\n",
    "ax.text(0.175, 0.08, 'B',fontweight='bold', horizontalalignment='center', verticalalignment='top', transform=ax.transAxes)\n",
    "ax.text(0.175, 0.3, 'A',fontweight='bold', horizontalalignment='center', verticalalignment='top', transform=ax.transAxes)\n",
    "ax.set_xlabel('X (m)')\n",
    "ax.set_ylabel('Y (m)')\n",
    "plt.tight_layout()\n",
    "plt.savefig('Difference.png', bbox_inches='tight', dpi=300)\n",
    "plt.show()"
   ]
  },
  {
   "cell_type": "code",
   "execution_count": 62,
   "metadata": {},
   "outputs": [
    {
     "data": {
      "image/png": "[encoded data removed]",
      "text/plain": [
       "<Figure size 432x288 with 3 Axes>"
      ]
     },
     "metadata": {
      "needs_background": "light"
     },
     "output_type": "display_data"
    }
   ],
   "source": [
    "fig, (ax1,ax2) = plt.subplots(nrows=2, ncols=1, sharex=True)\n",
    "\n",
    "im = ax1.imshow(difference_KID13, cmap = 'seismic', vmin= -0.25, vmax=0.25, extent=KID13_nov_extent)\n",
    "ax1.set_xlim(4992,5002)\n",
    "ax1.set_ylim(5034,5040)\n",
    "ax1.set_ylabel('Y (m)')\n",
    "\n",
    "ax2.imshow(difference_KID13, cmap = 'seismic', vmin= -0.25, vmax=0.25, extent=KID13_nov_extent)\n",
    "ax2.set_xlim(4992,5002)\n",
    "ax2.set_ylim(5014,5020)\n",
    "ax2.set_xlabel('X (m)')\n",
    "ax2.set_ylabel('Y (m)')\n",
    "\n",
    "\n",
    "cb_ax = fig.add_axes([0.75, 0.1, 0.02, 0.8])\n",
    "cbar = fig.colorbar(im, cax=cb_ax, label='Elevation Difference (m)', extend='both')\n",
    "\n",
    "ax1.text(0.07, 0.95, 'A',fontweight='bold', horizontalalignment='center', verticalalignment='top', transform=ax1.transAxes)\n",
    "ax2.text(0.07, 0.95, 'B',fontweight='bold', horizontalalignment='center', verticalalignment='top', transform=ax2.transAxes)\n",
    "\n",
    "#fig.colorbar(ax=ax1,label='Elevation Difference (m)', extend='both')\n",
    "#plt.tight_layout()\n",
    "plt.savefig('Difference_zoom.png', bbox_inches='tight', dpi=300)\n",
    "plt.show()"
   ]
  },
  {
   "cell_type": "code",
   "execution_count": 22,
   "metadata": {},
   "outputs": [
    {
     "data": {
      "text/plain": [
       "<AxesSubplot:>"
      ]
     },
     "execution_count": 22,
     "metadata": {},
     "output_type": "execute_result"
    }
   ],
   "source": [
    "ax1"
   ]
  },
  {
   "cell_type": "code",
   "execution_count": 15,
   "metadata": {},
   "outputs": [
    {
     "data": {
      "image/png": "[encoded data removed]",
      "text/plain": [
       "<Figure size 432x288 with 2 Axes>"
      ]
     },
     "metadata": {
      "needs_background": "light"
     },
     "output_type": "display_data"
    }
   ],
   "source": [
    "fig, ax = plt.subplots()\n",
    "plt.imshow(difference_KID13, cmap = 'seismic', vmin= -0.25, vmax=0.25, extent=KID13_nov_extent)\n",
    "plt.colorbar(label='Elevation Difference (m)', extend='both')\n",
    "\n",
    "ax.set_xlim(4992,5002)\n",
    "ax.set_ylim(5034,5040)\n",
    "ax.set_xlabel('X (m)', fontweight='bold')\n",
    "ax.set_ylabel('Y (m)', fontweight='bold')\n",
    "plt.title('KID13', fontweight='bold')\n",
    "plt.tight_layout()\n",
    "plt.savefig('Difference_zoomMid.png', bbox_inches='tight', dpi=300)\n",
    "plt.show()"
   ]
  },
  {
   "cell_type": "markdown",
   "metadata": {},
   "source": [
    "Remember that we're trying to get the sediment mass that was displaced in the three human-dug troughs. Looking at the difference map, we see that we have a little bit of noise as well as an outlier or two. We can deal with both of these by assigning a noise threshold and an outlier threshold.  \n",
    "Currently, the noise thresholds and outlier thresholds are being set as:\n",
    "\n",
    "$ noise = |\\sigma_{diff} + \\bar{x}_{diff}|$  \n",
    "$ outlier = |6*\\sigma_{diff} + \\bar{x}_{diff}|$  \n",
    "\n",
    "where $\\sigma_{diff}$ is the standard deviation of the differenced DEM values and $\\bar{x}_{diff}$ is the mean of differenced DEM values.\n",
    "\n",
    "**Note:** The thresholds for noise and for outliers were defined visually/using trial and error and are therefore not perfect. More sophisticated methods of determining these thresholds (e.g., spatial autocorrelation) will be used in future iterations of this code.\n",
    "\n",
    "After calculating the thresholds, we can mask the DEMs such that we have only the data that we'll use to calculate the sediment mass that was displaced and plot the data."
   ]
  },
  {
   "cell_type": "code",
   "execution_count": null,
   "metadata": {},
   "outputs": [],
   "source": [
    "# Calculate std and mean - CUH\n",
    "std_diff_KID13 = difference_KID13.std()\n",
    "mean_diff_KID13 = difference_KID13.mean()\n",
    "\n",
    "# Calculate thresholds\n",
    "noise_threshold_KID13 =  np.abs(std_diff_KID13 + mean_diff_KID13)\n",
    "outlier_threshold_KID13 = np.abs(6*std_diff_KID13 + mean_diff_KID13)\n",
    "\n",
    "# Create threshold mask\n",
    "threshold_mask_KID13= np.ma.masked_outside(np.abs(difference_KID13), noise_threshold_KID13, outlier_threshold_KID13)"
   ]
  },
  {
   "cell_type": "code",
   "execution_count": null,
   "metadata": {
    "scrolled": true
   },
   "outputs": [],
   "source": [
    "# Plot the masked array - CUH\n",
    "fig, ax = plt.subplots()\n",
    "\n",
    "plt.imshow(threshold_mask_KID13, cmap='Blues', extent=KID13_nov_extent)\n",
    "plt.colorbar(label='Elevation Difference (ft)')\n",
    "\n",
    "ax.set_xlabel('X (ft)', fontweight='bold')\n",
    "ax.set_ylabel('Y (ft)', fontweight='bold')\n",
    "plt.title('KID13', fontweight='bold')\n",
    "plt.show()"
   ]
  },
  {
   "cell_type": "markdown",
   "metadata": {},
   "source": [
    "As seen above, we capture almost all of the three troughs, plus a little extra. Future iterations of the code will (hopefully) capture only the significant data, but for now, we can convert these data to volumes (in cm$^3$) and plot the output."
   ]
  },
  {
   "cell_type": "code",
   "execution_count": null,
   "metadata": {},
   "outputs": [],
   "source": [
    "# Get cell width and cell height from the raster - CUH\n",
    "cell_width_CUH, cell_height_CUH = CUH_1_proj.res\n",
    "\n",
    "# Volume is a simple elevation difference*width*height calculation\n",
    "volume_CUH = threshold_mask_CUH * cell_width_CUH * cell_height_CUH * 10000 #extra 10000 factor to get cm^3"
   ]
  },
  {
   "cell_type": "code",
   "execution_count": null,
   "metadata": {},
   "outputs": [],
   "source": [
    "fig, ax = plt.subplots()\n",
    "\n",
    "plt.imshow(volume_CUH, cmap='Blues', extent=CUH_1_extent, vmin=0, vmax = 0.06)\n",
    "plt.colorbar(label='Volume Change (cm$^3$)')\n",
    "\n",
    "ax.set_xlabel('X (m)', fontweight='bold')\n",
    "ax.set_ylabel('Y (m)', fontweight='bold')\n",
    "plt.title('CUH', fontweight='bold')\n",
    "plt.show()"
   ]
  },
  {
   "cell_type": "code",
   "execution_count": null,
   "metadata": {},
   "outputs": [],
   "source": [
    "# Get cell width and cell height from the raster - RW\n",
    "cell_width_RW, cell_height_RW = RW_1_proj.res\n",
    "\n",
    "# Volume is a simple elevation difference*width*height calculation\n",
    "volume_RW = threshold_mask_RW * cell_width_RW * cell_height_RW * 10000 #extra 10000 factor to get cm^3"
   ]
  },
  {
   "cell_type": "code",
   "execution_count": null,
   "metadata": {},
   "outputs": [],
   "source": [
    "fig, ax = plt.subplots()\n",
    "\n",
    "plt.imshow(volume_RW, cmap='Greens', extent=RW_1_extent, vmin=0, vmax=0.1)\n",
    "plt.colorbar(label='Volume Change (cm$^3$)')\n",
    "\n",
    "ax.set_xlabel('X (m)', fontweight='bold')\n",
    "ax.set_ylabel('Y (m)', fontweight='bold')\n",
    "plt.title('RW', fontweight='bold')\n",
    "plt.show()"
   ]
  },
  {
   "cell_type": "markdown",
   "metadata": {},
   "source": [
    "Now, we can convert the approximate volume of displaced sediment to the approximate mass of displaced sediment using $mass =  density * volume$. We'll use a (very) general approximate sediment density for gravel of $1.52 \\frac{g}{cm^3}$. Then, we'll sum the mass values from each cell to get an estimate for the mass of sediment displaced.\n",
    "\n",
    "*_**Note:**_ The density will be refined using sediment data from field experiments in future iterations of this code.*"
   ]
  },
  {
   "cell_type": "code",
   "execution_count": null,
   "metadata": {},
   "outputs": [],
   "source": [
    "mass_CUH = volume_CUH*1.52\n",
    "sum_mass_CUH = np.sum(mass_CUH)"
   ]
  },
  {
   "cell_type": "code",
   "execution_count": null,
   "metadata": {},
   "outputs": [],
   "source": [
    "mass_RW = volume_RW*1.52\n",
    "sum_mass_RW = np.sum(mass_RW)"
   ]
  },
  {
   "cell_type": "code",
   "execution_count": null,
   "metadata": {},
   "outputs": [],
   "source": [
    "print('The mass of sediment displaced at CUH was %0.2f kilograms.' % (sum_mass_CUH/1000))\n",
    "print('The mass of sediment displaced at RW was %0.2f kilograms.' % (sum_mass_RW/1000))"
   ]
  },
  {
   "cell_type": "markdown",
   "metadata": {},
   "source": [
    "These values aren't particularly realistic, but this is to be expected because:\n",
    "1.  The sediment density used in this case likely does not accurately represent the density of what was seen at these sites.\n",
    "2. Not all outliers were fully removed, causing an overestimation.\n",
    "\n",
    "Both of these issues will be addressed in future iterations of this notebook."
   ]
  }
 ],
 "metadata": {
  "kernelspec": {
   "display_name": "Python 3 (ipykernel)",
   "language": "python",
   "name": "python3"
  },
  "language_info": {
   "codemirror_mode": {
    "name": "ipython",
    "version": 3
   },
   "file_extension": ".py",
   "mimetype": "text/x-python",
   "name": "python",
   "nbconvert_exporter": "python",
   "pygments_lexer": "ipython3",
   "version": "3.7.12"
  }
 },
 "nbformat": 4,
 "nbformat_minor": 4
}
